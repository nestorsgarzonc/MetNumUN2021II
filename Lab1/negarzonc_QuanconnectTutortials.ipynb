{
 "cells": [
  {
   "cell_type": "markdown",
   "metadata": {},
   "source": [
    "# Tutorial 1 Python: Data Types and Data Structures\n"
   ]
  },
  {
   "cell_type": "code",
   "execution_count": 1,
   "metadata": {},
   "outputs": [
    {
     "name": "stdout",
     "output_type": "stream",
     "text": [
      "Welcome to QuantConnect\n"
     ]
    }
   ],
   "source": [
    "my_string1 = 'Welcome to'\n",
    "my_string2 = \"QuantConnect\"\n",
    "print(my_string1 + ' ' + my_string2)\n"
   ]
  },
  {
   "cell_type": "code",
   "execution_count": 2,
   "metadata": {},
   "outputs": [
    {
     "name": "stdout",
     "output_type": "stream",
     "text": [
      "Welcome to my example\n"
     ]
    }
   ],
   "source": [
    "my_string1 = 'Welcome to'\n",
    "my_string2 = \"my example\"\n",
    "print(f'{my_string1} {my_string2}')\n"
   ]
  },
  {
   "cell_type": "code",
   "execution_count": 3,
   "metadata": {},
   "outputs": [
    {
     "name": "stdout",
     "output_type": "stream",
     "text": [
      "10\n",
      "<class 'int'>\n"
     ]
    }
   ],
   "source": [
    "my_int = 10\n",
    "print(my_int)\n",
    "print(type(my_int))\n"
   ]
  },
  {
   "cell_type": "code",
   "execution_count": 4,
   "metadata": {},
   "outputs": [
    {
     "name": "stdout",
     "output_type": "stream",
     "text": [
      "999\n",
      "<class 'int'>\n"
     ]
    }
   ],
   "source": [
    "my_int = 999\n",
    "print(my_int)\n",
    "print(type(my_int))\n"
   ]
  },
  {
   "cell_type": "code",
   "execution_count": 5,
   "metadata": {},
   "outputs": [
    {
     "name": "stdout",
     "output_type": "stream",
     "text": [
      "<class 'str'>\n",
      "<class 'int'>\n"
     ]
    }
   ],
   "source": [
    "my_string = \"100\"\n",
    "print(type(my_string))\n",
    "my_int = int(my_string)\n",
    "print(type(my_int))\n"
   ]
  },
  {
   "cell_type": "code",
   "execution_count": 6,
   "metadata": {},
   "outputs": [
    {
     "name": "stdout",
     "output_type": "stream",
     "text": [
      "<class 'str'>\n",
      "<class 'int'>\n"
     ]
    }
   ],
   "source": [
    "my_string = \"2500\"\n",
    "print(type(my_string))\n",
    "\n",
    "my_int = int(my_string)\n",
    "print(type(my_int))\n"
   ]
  },
  {
   "cell_type": "code",
   "execution_count": 7,
   "metadata": {},
   "outputs": [
    {
     "name": "stdout",
     "output_type": "stream",
     "text": [
      "<class 'float'>\n",
      "<class 'int'>\n"
     ]
    }
   ],
   "source": [
    "my_float = 1.0\n",
    "print(type(my_float))\n",
    "my_int = 1\n",
    "print(type(my_int))\n"
   ]
  },
  {
   "cell_type": "code",
   "execution_count": 8,
   "metadata": {},
   "outputs": [
    {
     "name": "stdout",
     "output_type": "stream",
     "text": [
      "<class 'float'>\n",
      "<class 'int'>\n"
     ]
    }
   ],
   "source": [
    "my_float = 1.00001\n",
    "print(type(my_float))\n",
    "\n",
    "my_int = 1123\n",
    "print(type(my_int))\n",
    "\n"
   ]
  },
  {
   "cell_type": "code",
   "execution_count": 9,
   "metadata": {},
   "outputs": [
    {
     "name": "stdout",
     "output_type": "stream",
     "text": [
      "<class 'float'>\n"
     ]
    }
   ],
   "source": [
    "my_string = \"100\"\n",
    "my_float = float(my_string)\n",
    "print(type(my_float))\n"
   ]
  },
  {
   "cell_type": "code",
   "execution_count": 10,
   "metadata": {},
   "outputs": [
    {
     "name": "stdout",
     "output_type": "stream",
     "text": [
      "<class 'float'>\n"
     ]
    }
   ],
   "source": [
    "my_string = \"180\"\n",
    "my_float = float(my_string)\n",
    "print(type(my_float))\n"
   ]
  },
  {
   "cell_type": "code",
   "execution_count": 11,
   "metadata": {},
   "outputs": [
    {
     "name": "stdout",
     "output_type": "stream",
     "text": [
      "False\n",
      "<class 'bool'>\n"
     ]
    }
   ],
   "source": [
    "my_bool = False\n",
    "print(my_bool)\n",
    "print(type(my_bool))\n"
   ]
  },
  {
   "cell_type": "code",
   "execution_count": 12,
   "metadata": {},
   "outputs": [
    {
     "name": "stdout",
     "output_type": "stream",
     "text": [
      "True\n",
      "<class 'bool'>\n"
     ]
    }
   ],
   "source": [
    "my_bool = not False\n",
    "print(my_bool)\n",
    "print(type(my_bool))\n"
   ]
  },
  {
   "cell_type": "code",
   "execution_count": 13,
   "metadata": {},
   "outputs": [
    {
     "name": "stdout",
     "output_type": "stream",
     "text": [
      "Addition  2\n",
      "Subtraction  3\n",
      "Multiplication  6\n",
      "Division 5.0\n",
      "exponent 8\n"
     ]
    }
   ],
   "source": [
    "print(\"Addition \", 1+1)\n",
    "print(\"Subtraction \", 5-2)\n",
    "print(\"Multiplication \", 2*3)\n",
    "print(\"Division\", 10/2)\n",
    "print(\"exponent\", 2**3)\n"
   ]
  },
  {
   "cell_type": "code",
   "execution_count": 14,
   "metadata": {},
   "outputs": [
    {
     "name": "stdout",
     "output_type": "stream",
     "text": [
      "Addition  19\n",
      "Subtraction  0\n",
      "Multiplication  2367\n",
      "Division 0.5\n",
      "exponent 1291124939043454294827959586001505937164852896414611756415329678270323811008420597314822676640068915717951585986373746688\n"
     ]
    }
   ],
   "source": [
    "print(\"Addition \", 1+18)\n",
    "print(\"Subtraction \", 2-2)\n",
    "print(\"Multiplication \", 789*3)\n",
    "print(\"Division\", 10/20)\n",
    "print(\"exponent\", 2**399)\n"
   ]
  },
  {
   "cell_type": "code",
   "execution_count": 15,
   "metadata": {},
   "outputs": [
    {
     "name": "stdout",
     "output_type": "stream",
     "text": [
      "['Quant', 'Connect', 1, 2, 3]\n"
     ]
    }
   ],
   "source": [
    "my_list = ['Quant', 'Connect', 1, 2, 3]\n",
    "print(my_list)\n"
   ]
  },
  {
   "cell_type": "code",
   "execution_count": 16,
   "metadata": {},
   "outputs": [
    {
     "name": "stdout",
     "output_type": "stream",
     "text": [
      "['Custom', 3, 2.9, 'List', 1, 2, 3]\n"
     ]
    }
   ],
   "source": [
    "my_list = ['Custom', 3, 2.90, 'List', 1, 2, 3]\n",
    "print(my_list)\n"
   ]
  },
  {
   "cell_type": "code",
   "execution_count": 17,
   "metadata": {},
   "outputs": [
    {
     "name": "stdout",
     "output_type": "stream",
     "text": [
      "5\n",
      "Quant\n",
      "3\n"
     ]
    }
   ],
   "source": [
    "my_list = ['Quant', 'Connect', 1, 2, 3]\n",
    "print(len(my_list))\n",
    "print(my_list[0])\n",
    "print(my_list[len(my_list) - 1])\n"
   ]
  },
  {
   "cell_type": "code",
   "execution_count": 18,
   "metadata": {},
   "outputs": [
    {
     "name": "stdout",
     "output_type": "stream",
     "text": [
      "5\n",
      "Connect\n",
      "2\n"
     ]
    }
   ],
   "source": [
    "my_list = ['Quant', 'Connect', 1, 2, 3]\n",
    "print(len(my_list))\n",
    "print(my_list[1])\n",
    "print(my_list[len(my_list) - 2])\n"
   ]
  },
  {
   "cell_type": "code",
   "execution_count": 19,
   "metadata": {},
   "outputs": [
    {
     "name": "stdout",
     "output_type": "stream",
     "text": [
      "['Quant', 'Connect', 'go', 2, 3]\n"
     ]
    }
   ],
   "source": [
    "my_list = ['Quant', 'Connect', 1, 2, 3]\n",
    "my_list[2] = 'go'\n",
    "print(my_list)\n"
   ]
  },
  {
   "cell_type": "code",
   "execution_count": 20,
   "metadata": {},
   "outputs": [
    {
     "name": "stdout",
     "output_type": "stream",
     "text": [
      "[1000000000000000000000000000000000000000000000000000000000, 'Connect', 1, 2, 3]\n"
     ]
    }
   ],
   "source": [
    "my_list = ['Quant', 'Connect', 1, 2, 3]\n",
    "my_list[0] = 1000**19\n",
    "print(my_list)\n"
   ]
  },
  {
   "cell_type": "code",
   "execution_count": 21,
   "metadata": {},
   "outputs": [
    {
     "name": "stdout",
     "output_type": "stream",
     "text": [
      "['Connect', 1]\n"
     ]
    }
   ],
   "source": [
    "my_list = ['Quant', 'Connect', 1, 2, 3]\n",
    "print(my_list[1:3])\n"
   ]
  },
  {
   "cell_type": "code",
   "execution_count": 22,
   "metadata": {},
   "outputs": [
    {
     "name": "stdout",
     "output_type": "stream",
     "text": [
      "['Quant', 'Connect', 1]\n"
     ]
    }
   ],
   "source": [
    "my_list = ['Quant', 'Connect', 1, 2, 3]\n",
    "print(my_list[0:-2])\n"
   ]
  },
  {
   "cell_type": "code",
   "execution_count": 23,
   "metadata": {},
   "outputs": [
    {
     "name": "stdout",
     "output_type": "stream",
     "text": [
      "['Connect', 1, 2, 3]\n"
     ]
    }
   ],
   "source": [
    "print(my_list[1:])\n"
   ]
  },
  {
   "cell_type": "code",
   "execution_count": 24,
   "metadata": {},
   "outputs": [
    {
     "name": "stdout",
     "output_type": "stream",
     "text": [
      "[1, 2, 3]\n"
     ]
    }
   ],
   "source": [
    "print(my_list[2:])\n"
   ]
  },
  {
   "cell_type": "code",
   "execution_count": 25,
   "metadata": {},
   "outputs": [
    {
     "name": "stdout",
     "output_type": "stream",
     "text": [
      "['Quant', 'Connect', 1]\n"
     ]
    }
   ],
   "source": [
    "print(my_list[:3])\n"
   ]
  },
  {
   "cell_type": "code",
   "execution_count": 26,
   "metadata": {},
   "outputs": [
    {
     "name": "stdout",
     "output_type": "stream",
     "text": [
      "['Quant', 'Connect', 1, 2]\n"
     ]
    }
   ],
   "source": [
    "print(my_list[:-1])\n"
   ]
  },
  {
   "cell_type": "code",
   "execution_count": 27,
   "metadata": {},
   "outputs": [
    {
     "name": "stdout",
     "output_type": "stream",
     "text": [
      "['Hello', 'Quant', 'Hello']\n",
      "['Quant', 'Hello']\n"
     ]
    }
   ],
   "source": [
    "my_list = ['Hello', 'Quant']\n",
    "my_list.append('Hello')\n",
    "print(my_list)\n",
    "my_list.remove('Hello')\n",
    "print(my_list)\n"
   ]
  },
  {
   "cell_type": "code",
   "execution_count": 28,
   "metadata": {},
   "outputs": [
    {
     "name": "stdout",
     "output_type": "stream",
     "text": [
      "['Hello', 'Quant', 'Hello']\n",
      "['Hello', 'Hello']\n"
     ]
    }
   ],
   "source": [
    "my_list = ['Hello', 'Quant']\n",
    "my_list.append('Hello')\n",
    "print(my_list)\n",
    "my_list.remove('Quant')\n",
    "print(my_list)\n"
   ]
  },
  {
   "cell_type": "code",
   "execution_count": 29,
   "metadata": {},
   "outputs": [],
   "source": [
    "my_tuple = ('Welcome', 'to', 'QuantConnect')\n"
   ]
  },
  {
   "cell_type": "code",
   "execution_count": 30,
   "metadata": {},
   "outputs": [],
   "source": [
    "my_tuple = ('Welcome', 'to', 'QuantConnect', 12)\n"
   ]
  },
  {
   "cell_type": "code",
   "execution_count": 31,
   "metadata": {},
   "outputs": [
    {
     "name": "stdout",
     "output_type": "stream",
     "text": [
      "('to', 'QuantConnect')\n"
     ]
    }
   ],
   "source": [
    "my_tuple = ('Welcome', 'to', 'QuantConnect')\n",
    "print(my_tuple[1:])\n"
   ]
  },
  {
   "cell_type": "code",
   "execution_count": 32,
   "metadata": {},
   "outputs": [
    {
     "name": "stdout",
     "output_type": "stream",
     "text": [
      "('Welcome',)\n"
     ]
    }
   ],
   "source": [
    "my_tuple = ('Welcome', 'to', 'QuantConnect')\n",
    "print(my_tuple[:-2])\n"
   ]
  },
  {
   "cell_type": "code",
   "execution_count": 33,
   "metadata": {},
   "outputs": [
    {
     "name": "stdout",
     "output_type": "stream",
     "text": [
      "{'GOOG', 'FB', 'F', 'IBM', 'AAPL'}\n"
     ]
    }
   ],
   "source": [
    "stock_list = ['AAPL', 'GOOG', 'IBM', 'AAPL', 'IBM', 'FB', 'F', 'GOOG']\n",
    "stock_set = set(stock_list)\n",
    "print(stock_set)\n"
   ]
  },
  {
   "cell_type": "code",
   "execution_count": 34,
   "metadata": {},
   "outputs": [
    {
     "name": "stdout",
     "output_type": "stream",
     "text": [
      "{'GOOG', 'FB', 'F', 'IBM', 'AAPL', 'APPL'}\n"
     ]
    }
   ],
   "source": [
    "stock_list = ['AAPL', 'GOOG', 'IBM', 'AAPL', 'IBM', 'FB', 'F', 'GOOG', 'APPL']\n",
    "stock_set = set(stock_list)\n",
    "print(stock_set)\n"
   ]
  },
  {
   "cell_type": "code",
   "execution_count": 35,
   "metadata": {},
   "outputs": [],
   "source": [
    "my_dic = {'AAPL': 'Apple', 'FB': 'FaceBook', 'GOOG': 'Alphabet'}\n"
   ]
  },
  {
   "cell_type": "code",
   "execution_count": 36,
   "metadata": {},
   "outputs": [],
   "source": [
    "my_dic = {'AAPL': 'Apple', 'FB': 'FaceBook', 'GOOG': 'Alphabet', 'APPL': 'Apple', 'IBM': 'IBM'}\n"
   ]
  },
  {
   "cell_type": "code",
   "execution_count": 37,
   "metadata": {},
   "outputs": [
    {
     "name": "stdout",
     "output_type": "stream",
     "text": [
      "Alphabet\n"
     ]
    }
   ],
   "source": [
    "print(my_dic['GOOG'])\n"
   ]
  },
  {
   "cell_type": "code",
   "execution_count": 38,
   "metadata": {},
   "outputs": [
    {
     "name": "stdout",
     "output_type": "stream",
     "text": [
      "IBM\n"
     ]
    }
   ],
   "source": [
    "print(my_dic['IBM'])\n"
   ]
  },
  {
   "cell_type": "code",
   "execution_count": 39,
   "metadata": {},
   "outputs": [
    {
     "name": "stdout",
     "output_type": "stream",
     "text": [
      "Alphabet Company\n"
     ]
    }
   ],
   "source": [
    "my_dic['GOOG'] = 'Alphabet Company'\n",
    "print(my_dic['GOOG'])\n"
   ]
  },
  {
   "cell_type": "code",
   "execution_count": 40,
   "metadata": {},
   "outputs": [
    {
     "name": "stdout",
     "output_type": "stream",
     "text": [
      "dict_keys(['AAPL', 'FB', 'GOOG', 'APPL', 'IBM'])\n"
     ]
    }
   ],
   "source": [
    "print(my_dic.keys())\n"
   ]
  },
  {
   "cell_type": "code",
   "execution_count": 41,
   "metadata": {},
   "outputs": [
    {
     "name": "stdout",
     "output_type": "stream",
     "text": [
      "dict_keys(['AAPL', 'FB', 'GOOG', 'APPL', 'IBM', 'MSFT'])\n"
     ]
    }
   ],
   "source": [
    "my_dic = {'AAPL': 'Apple', 'FB': 'FaceBook',\n",
    "          'GOOG': 'Alphabet', 'APPL': 'Apple', 'IBM': 'IBM', 'MSFT': 'Microsoft'}\n",
    "print(my_dic.keys())\n"
   ]
  },
  {
   "cell_type": "code",
   "execution_count": 42,
   "metadata": {},
   "outputs": [
    {
     "name": "stdout",
     "output_type": "stream",
     "text": [
      "to QuantConnect\n"
     ]
    }
   ],
   "source": [
    "my_str = 'Welcome to QuantConnect'\n",
    "print(my_str[8:])\n"
   ]
  },
  {
   "cell_type": "code",
   "execution_count": 43,
   "metadata": {},
   "outputs": [
    {
     "name": "stdout",
     "output_type": "stream",
     "text": [
      "Welcome to the jungle\n"
     ]
    }
   ],
   "source": [
    "my_str = 'Welcome to the jungle'\n",
    "print(my_str[:])\n"
   ]
  },
  {
   "cell_type": "code",
   "execution_count": 44,
   "metadata": {},
   "outputs": [
    {
     "name": "stdout",
     "output_type": "stream",
     "text": [
      "6\n",
      "2\n",
      "ell the e in this sentence now becomes e\n"
     ]
    }
   ],
   "source": [
    "print(\"Counting the number of e's in this sentence\".count('e'))\n",
    "print('The first time e appears in this sentence'.find('e'))\n",
    "print('all the a in this sentence now becomes e'.replace('a', 'e'))\n"
   ]
  },
  {
   "cell_type": "code",
   "execution_count": 45,
   "metadata": {},
   "outputs": [
    {
     "name": "stdout",
     "output_type": "stream",
     "text": [
      "6\n",
      "2\n",
      "Percentage of e time appears in my_str 0.19047619047619047\n",
      "15\n",
      "all the z in this sentence noz becomes z\n"
     ]
    }
   ],
   "source": [
    "print(\"Counting the number of e's in this sentence\".count('e'))\n",
    "print('The first time e appears in this sentence'.find('e'))\n",
    "print(f'Percentage of e time appears in my_str {my_str.count(\"e\")/len(my_str)}')\n",
    "print('The first time l appears in this sentence'.find('l'))\n",
    "print('all the w in this sentence now becomes z'.replace('w', 'z'))\n"
   ]
  },
  {
   "cell_type": "code",
   "execution_count": 46,
   "metadata": {},
   "outputs": [
    {
     "name": "stdout",
     "output_type": "stream",
     "text": [
      "Hour: 9, Minute: 43\n"
     ]
    }
   ],
   "source": [
    "my_time = 'Hour: {}, Minute: {}'.format(9, 43)\n",
    "print(my_time)\n"
   ]
  },
  {
   "cell_type": "code",
   "execution_count": 47,
   "metadata": {},
   "outputs": [
    {
     "name": "stdout",
     "output_type": "stream",
     "text": [
      "Hour: 9, Minute: 43 seconds 12\n"
     ]
    }
   ],
   "source": [
    "my_time = 'Hour: {}, Minute: {} seconds {}'.format(9, 43, 12)\n",
    "print(my_time)\n"
   ]
  },
  {
   "cell_type": "code",
   "execution_count": 48,
   "metadata": {},
   "outputs": [
    {
     "name": "stdout",
     "output_type": "stream",
     "text": [
      "pi is 3.140000\n",
      "Welcome to QuantConnect\n"
     ]
    }
   ],
   "source": [
    "print('pi is %f' % 3.14)\n",
    "print('%s to %s' % ('Welcome', 'QuantConnect'))\n"
   ]
  },
  {
   "cell_type": "code",
   "execution_count": 49,
   "metadata": {},
   "outputs": [
    {
     "name": "stdout",
     "output_type": "stream",
     "text": [
      "zero is 0.000000\n",
      "This is a Tutorial\n"
     ]
    }
   ],
   "source": [
    "print('zero is %f' % 0)\n",
    "print('%s is a %s' % ('This', 'Tutorial'))\n"
   ]
  },
  {
   "cell_type": "markdown",
   "metadata": {},
   "source": [
    "# Tutorial 2 Python: Logical Operations and Loop\n"
   ]
  },
  {
   "cell_type": "code",
   "execution_count": 50,
   "metadata": {},
   "outputs": [
    {
     "name": "stdout",
     "output_type": "stream",
     "text": [
      "False\n",
      "True\n",
      "True\n",
      "True\n",
      "False\n"
     ]
    }
   ],
   "source": [
    "print(1 == 0)    # 1 equals 0\n",
    "print(1 == 1)    # 1 equals 1\n",
    "print(1 != 0)    # 1 is not equal to 0\n",
    "print(5 >= 5)    # 5 is greater than or equal to 5\n",
    "print(5 >= 6)    # 5 is greater than or equal to 6\n"
   ]
  },
  {
   "cell_type": "code",
   "execution_count": 51,
   "metadata": {},
   "outputs": [
    {
     "name": "stdout",
     "output_type": "stream",
     "text": [
      "False\n",
      "True\n",
      "True\n",
      "True\n",
      "False\n"
     ]
    }
   ],
   "source": [
    "print(10 == -41)    # 10 is not equals -41\n",
    "print(0.0 == 0.0)    # 0.0 equals 0.0\n",
    "print(1 != 10)    # 1 is not equal to 10\n",
    "print(5 == 5)    # 5 is equal to 5\n",
    "print(4 >= 8)    # 4 is greater than or equal to 8\n"
   ]
  },
  {
   "cell_type": "code",
   "execution_count": 52,
   "metadata": {},
   "outputs": [
    {
     "name": "stdout",
     "output_type": "stream",
     "text": [
      "True\n",
      "False\n",
      "True\n",
      "False\n"
     ]
    }
   ],
   "source": [
    "print(2 > 1 and 3 > 2)\n",
    "print(2 > 1 and 3 < 2)\n",
    "print(2 > 1 or 3 < 2)\n",
    "print(2 < 1 and 3 < 2)\n"
   ]
  },
  {
   "cell_type": "code",
   "execution_count": 53,
   "metadata": {},
   "outputs": [
    {
     "name": "stdout",
     "output_type": "stream",
     "text": [
      "False\n",
      "True\n",
      "True\n",
      "False\n"
     ]
    }
   ],
   "source": [
    "print(2 > 1 and 10 == -41)\n",
    "print(2 > 1 and 0.0 == 0.0)\n",
    "print(2 > 1 or 1 != 10)\n",
    "print(2 < 1 and 4 >= 8)\n"
   ]
  },
  {
   "cell_type": "code",
   "execution_count": 54,
   "metadata": {},
   "outputs": [
    {
     "name": "stdout",
     "output_type": "stream",
     "text": [
      "False\n",
      "True\n"
     ]
    }
   ],
   "source": [
    "print((3 > 2 or 1 < 3) and (1 != 3 and 4 > 3) and not (\n",
    "    3 < 2 or 1 < 3 and (1 != 3 and 4 > 3)))\n",
    "print(3 > 2 or 1 < 3 and (1 != 3 and 4 > 3) and not (\n",
    "    3 < 2 or 1 < 3 and (1 != 3 and 4 > 3)))\n"
   ]
  },
  {
   "cell_type": "code",
   "execution_count": 55,
   "metadata": {},
   "outputs": [
    {
     "name": "stdout",
     "output_type": "stream",
     "text": [
      "False\n",
      "False\n"
     ]
    }
   ],
   "source": [
    "print((3 > 2 or 1 < 3) and (1 != 3 and 4 > 3) and not (\n",
    "    3 < 2 or 1 < 3 and (1 != 3 and 4 > 3)))\n",
    "print((2 > 1 and 0.0 == 0.0) and\n",
    "      (2 > 1 or 1 != 10) and\n",
    "      (2 < 1 and 4 >= 8))\n"
   ]
  },
  {
   "cell_type": "code",
   "execution_count": 56,
   "metadata": {},
   "outputs": [
    {
     "name": "stdout",
     "output_type": "stream",
     "text": [
      "i == 0 is True\n"
     ]
    }
   ],
   "source": [
    "i = 0\n",
    "if i == 0:\n",
    "    print('i == 0 is True')\n"
   ]
  },
  {
   "cell_type": "code",
   "execution_count": 57,
   "metadata": {},
   "outputs": [
    {
     "name": "stdout",
     "output_type": "stream",
     "text": [
      "i == s is True\n"
     ]
    }
   ],
   "source": [
    "i = 's'\n",
    "if i == 's':\n",
    "    print('i == s is True')\n"
   ]
  },
  {
   "cell_type": "code",
   "execution_count": 58,
   "metadata": {},
   "outputs": [
    {
     "name": "stdout",
     "output_type": "stream",
     "text": [
      "q is false\n"
     ]
    }
   ],
   "source": [
    "p = 1 > 0\n",
    "q = 2 > 3\n",
    "if p and q:\n",
    "    print('p and q is true')\n",
    "elif p and not q:\n",
    "    print('q is false')\n",
    "elif q and not p:\n",
    "    print('p is false')\n",
    "else:\n",
    "    print('None of p and q is true')\n"
   ]
  },
  {
   "cell_type": "code",
   "execution_count": 59,
   "metadata": {},
   "outputs": [
    {
     "name": "stdout",
     "output_type": "stream",
     "text": [
      "p is false\n"
     ]
    }
   ],
   "source": [
    "p = 1 > 0\n",
    "q = 2 == 3\n",
    "if p and q:\n",
    "    print('p and q is true')\n",
    "elif not p:\n",
    "    print('q is false')\n",
    "elif not q:\n",
    "    print('p is false')\n",
    "else:\n",
    "    print('None of p and q is true')\n"
   ]
  },
  {
   "cell_type": "code",
   "execution_count": 60,
   "metadata": {},
   "outputs": [
    {
     "name": "stdout",
     "output_type": "stream",
     "text": [
      "0\n",
      "1\n",
      "2\n",
      "3\n",
      "4\n"
     ]
    }
   ],
   "source": [
    "i = 0\n",
    "while i < 5:\n",
    "    print(i)\n",
    "    i += 1\n"
   ]
  },
  {
   "cell_type": "code",
   "execution_count": 61,
   "metadata": {},
   "outputs": [
    {
     "name": "stdout",
     "output_type": "stream",
     "text": [
      "0\n",
      "1\n",
      "2\n",
      "3\n",
      "4\n",
      "5\n",
      "6\n",
      "7\n",
      "8\n",
      "9\n",
      "10\n",
      "11\n",
      "12\n",
      "13\n",
      "14\n",
      "15\n",
      "16\n",
      "17\n",
      "18\n",
      "19\n",
      "20\n",
      "21\n",
      "22\n",
      "23\n",
      "24\n"
     ]
    }
   ],
   "source": [
    "i = 0\n",
    "while i < 5**2:\n",
    "    print(i)\n",
    "    i += 1\n"
   ]
  },
  {
   "cell_type": "code",
   "execution_count": 62,
   "metadata": {},
   "outputs": [
    {
     "name": "stdout",
     "output_type": "stream",
     "text": [
      "1\n",
      "2\n",
      "3\n",
      "4\n",
      "5\n"
     ]
    }
   ],
   "source": [
    "for x in [1, 2, 3, 4, 5]:\n",
    "    print(x)\n"
   ]
  },
  {
   "cell_type": "code",
   "execution_count": 63,
   "metadata": {},
   "outputs": [
    {
     "name": "stdout",
     "output_type": "stream",
     "text": [
      "0\n",
      "1\n",
      "2\n",
      "3\n",
      "4\n"
     ]
    }
   ],
   "source": [
    "for x in list(range(5)):\n",
    "    print(x)\n"
   ]
  },
  {
   "cell_type": "code",
   "execution_count": 64,
   "metadata": {},
   "outputs": [
    {
     "name": "stdout",
     "output_type": "stream",
     "text": [
      "['GOOG', 'FB', 'F', 'V', 'G', 'GE']\n"
     ]
    }
   ],
   "source": [
    "stocks = ['AAPL', 'GOOG', 'IBM', 'FB', 'F', 'V', 'G', 'GE']\n",
    "selected = ['AAPL', 'IBM']\n",
    "new_list = []\n",
    "for stock in stocks:\n",
    "    if stock not in selected:\n",
    "        new_list.append(stock)\n",
    "print(new_list)\n"
   ]
  },
  {
   "cell_type": "code",
   "execution_count": 65,
   "metadata": {},
   "outputs": [
    {
     "name": "stdout",
     "output_type": "stream",
     "text": [
      "['GOOG', 'V', 'FB', 'G', 'GE', 'F', 'IBM', 'AAPL']\n"
     ]
    }
   ],
   "source": [
    "stocks = ['AAPL', 'GOOG', 'IBM', 'FB', 'F', 'V', 'G', 'GE']\n",
    "selected = ['AAPL', 'IBM']\n",
    "new_list = []\n",
    "new_list=list(set([*selected, *stocks]))\n",
    "print(new_list)\n"
   ]
  },
  {
   "cell_type": "code",
   "execution_count": 66,
   "metadata": {},
   "outputs": [
    {
     "name": "stdout",
     "output_type": "stream",
     "text": [
      "AAPL\n",
      "GOOG\n",
      "IBM\n",
      "FB\n"
     ]
    }
   ],
   "source": [
    "stocks = ['AAPL', 'GOOG', 'IBM', 'FB', 'F', 'V', 'G', 'GE']\n",
    "for stock in stocks:\n",
    "    print(stock)\n",
    "    if stock == 'FB':\n",
    "        break\n"
   ]
  },
  {
   "cell_type": "code",
   "execution_count": 67,
   "metadata": {},
   "outputs": [
    {
     "name": "stdout",
     "output_type": "stream",
     "text": [
      "AAPL\n",
      "GOOG\n"
     ]
    }
   ],
   "source": [
    "stocks = ['AAPL', 'GOOG', 'IBM', 'FB', 'F', 'V', 'G', 'GE']\n",
    "for stock in stocks:\n",
    "    print(stock)\n",
    "    if stock == 'GOOG':\n",
    "        break\n"
   ]
  },
  {
   "cell_type": "code",
   "execution_count": 68,
   "metadata": {},
   "outputs": [
    {
     "name": "stdout",
     "output_type": "stream",
     "text": [
      "AAPL\n",
      "GOOG\n",
      "IBM\n",
      "F\n",
      "V\n",
      "G\n",
      "GE\n"
     ]
    }
   ],
   "source": [
    "stocks = ['AAPL', 'GOOG', 'IBM', 'FB', 'F', 'V', 'G', 'GE']\n",
    "for stock in stocks:\n",
    "    if stock == 'FB':\n",
    "        continue\n",
    "    print(stock)\n"
   ]
  },
  {
   "cell_type": "code",
   "execution_count": 69,
   "metadata": {},
   "outputs": [
    {
     "name": "stdout",
     "output_type": "stream",
     "text": [
      "AAPL\n",
      "GOOG\n",
      "IBM\n",
      "FB\n",
      "F\n",
      "V\n",
      "G\n"
     ]
    }
   ],
   "source": [
    "stocks = ['AAPL', 'GOOG', 'IBM', 'FB', 'F', 'V', 'G', 'GE']\n",
    "for stock in stocks:\n",
    "    if stock == 'GE':\n",
    "        continue\n",
    "    print(stock)\n"
   ]
  },
  {
   "cell_type": "code",
   "execution_count": 70,
   "metadata": {},
   "outputs": [
    {
     "name": "stdout",
     "output_type": "stream",
     "text": [
      "[1, 4, 9, 16, 25]\n"
     ]
    }
   ],
   "source": [
    "squares = []\n",
    "for i in [1, 2, 3, 4, 5]:\n",
    "    squares.append(i**2)\n",
    "print(squares)\n"
   ]
  },
  {
   "cell_type": "code",
   "execution_count": 71,
   "metadata": {},
   "outputs": [
    {
     "name": "stdout",
     "output_type": "stream",
     "text": [
      "['ll', 'oo', 'rr', 'ee', 'mm']\n"
     ]
    }
   ],
   "source": [
    "letters = []\n",
    "for i in 'lorem':\n",
    "    letters.append(i*2)\n",
    "print(letters)\n"
   ]
  },
  {
   "cell_type": "code",
   "execution_count": 72,
   "metadata": {},
   "outputs": [
    {
     "name": "stdout",
     "output_type": "stream",
     "text": [
      "[1, 4, 9, 16, 25]\n"
     ]
    }
   ],
   "source": [
    "foo = [1, 2, 3, 4, 5]\n",
    "squares = [x**2 for x in foo]\n",
    "print(squares)\n"
   ]
  },
  {
   "cell_type": "code",
   "execution_count": 73,
   "metadata": {},
   "outputs": [
    {
     "name": "stdout",
     "output_type": "stream",
     "text": [
      "['dd', 'oo', 'uu', 'bb', 'll', 'ee', '__', 'll', 'ee', 'tt', 'tt', 'ee', 'rr', 'ss']\n"
     ]
    }
   ],
   "source": [
    "double_letters = 'double_letters'\n",
    "squares = [x*2 for x in double_letters]\n",
    "print(squares)\n"
   ]
  },
  {
   "cell_type": "code",
   "execution_count": 74,
   "metadata": {},
   "outputs": [
    {
     "name": "stdout",
     "output_type": "stream",
     "text": [
      "['GOOG', 'FB', 'F', 'V', 'G', 'GE']\n"
     ]
    }
   ],
   "source": [
    "stocks = ['AAPL', 'GOOG', 'IBM', 'FB', 'F', 'V', 'G', 'GE']\n",
    "selected = ['AAPL', 'IBM']\n",
    "new_list = [x for x in stocks if x not in selected]\n",
    "print (new_list)\n"
   ]
  },
  {
   "cell_type": "code",
   "execution_count": 75,
   "metadata": {},
   "outputs": [
    {
     "name": "stdout",
     "output_type": "stream",
     "text": [
      "['GOOG', 'F', 'V', 'G', 'GE']\n"
     ]
    }
   ],
   "source": [
    "stocks = ['AAPL', 'GOOG', 'IBM', 'FB', 'F', 'V', 'G', 'GE']\n",
    "selected = ['AAPL', 'IBM', 'FB']\n",
    "new_list = [x for x in stocks if x not in selected]\n",
    "print(new_list)\n"
   ]
  },
  {
   "cell_type": "code",
   "execution_count": 76,
   "metadata": {},
   "outputs": [
    {
     "name": "stdout",
     "output_type": "stream",
     "text": [
      "[(1, 3), (1, 4), (2, 3), (2, 1), (2, 4), (3, 1), (3, 4)]\n",
      "['AAPL vs F', 'AAPL vs V', 'AAPL vs G', 'AAPL vs GE', 'GOOG vs F', 'GOOG vs V', 'GOOG vs G', 'GOOG vs GE', 'IBM vs F', 'IBM vs V', 'IBM vs G', 'IBM vs GE', 'FB vs F', 'FB vs V', 'FB vs G', 'FB vs GE']\n"
     ]
    }
   ],
   "source": [
    "print([(x, y) for x in [1, 2, 3] for y in [3, 1, 4] if x != y])\n",
    "print([str(x) + ' vs ' + str(y) for x in ['AAPL', 'GOOG', 'IBM', 'FB']\n",
    "      for y in ['F', 'V', 'G', 'GE'] if x != y])\n"
   ]
  },
  {
   "cell_type": "code",
   "execution_count": 77,
   "metadata": {},
   "outputs": [
    {
     "name": "stdout",
     "output_type": "stream",
     "text": [
      "[(1, 3), (1, 4), (2, 3), (2, 1), (2, 4), (3, 1), (3, 4)]\n",
      "['AAPL vs F', 'AAPL vs V', 'AAPL vs G', 'AAPL vs GE', 'GOOG vs F', 'GOOG vs V', 'GOOG vs G', 'GOOG vs GE', 'IBM vs F', 'IBM vs V', 'IBM vs G', 'IBM vs GE', 'FB vs F', 'FB vs V', 'FB vs G', 'FB vs GE', 'F vs V', 'F vs G', 'F vs GE', 'V vs F', 'V vs G', 'V vs GE', 'G vs F', 'G vs V', 'G vs GE', 'GE vs F', 'GE vs V', 'GE vs G']\n"
     ]
    }
   ],
   "source": [
    "print([(x, y) for x in [1, 2, 3] for y in [3, 1, 4] if x != y])\n",
    "print([str(x) + ' vs ' + str(y) for x in ['AAPL', 'GOOG', 'IBM', 'FB', 'F', 'V', 'G', 'GE']\n",
    "      for y in ['F', 'V', 'G', 'GE'] if x != y])\n"
   ]
  },
  {
   "cell_type": "markdown",
   "metadata": {},
   "source": [
    "# Tutorial 3 Functions and Objectmive-Oriented Programming\n"
   ]
  },
  {
   "cell_type": "code",
   "execution_count": 78,
   "metadata": {},
   "outputs": [
    {
     "name": "stdout",
     "output_type": "stream",
     "text": [
      "6\n",
      "50\n"
     ]
    }
   ],
   "source": [
    "def product(x, y):\n",
    "    return x*y\n",
    "\n",
    "\n",
    "print(product(2, 3))\n",
    "print(product(5, 10))\n"
   ]
  },
  {
   "cell_type": "code",
   "execution_count": 79,
   "metadata": {},
   "outputs": [
    {
     "name": "stdout",
     "output_type": "stream",
     "text": [
      "5\n",
      "15\n"
     ]
    }
   ],
   "source": [
    "def sum(x, y):\n",
    "    return x+y\n",
    "\n",
    "\n",
    "print(sum(2, 3))\n",
    "print(sum(5, 10))\n"
   ]
  },
  {
   "cell_type": "code",
   "execution_count": 80,
   "metadata": {},
   "outputs": [
    {
     "name": "stdout",
     "output_type": "stream",
     "text": [
      "Welcome to QuantConnect\n"
     ]
    }
   ],
   "source": [
    "def say_hi():\n",
    "    print(\"Welcome to QuantConnect\")\n",
    "\n",
    "\n",
    "say_hi()\n"
   ]
  },
  {
   "cell_type": "code",
   "execution_count": 81,
   "metadata": {},
   "outputs": [
    {
     "name": "stdout",
     "output_type": "stream",
     "text": [
      "Bye from QuantConnect\n"
     ]
    }
   ],
   "source": [
    "def say_bye():\n",
    "    print(\"Bye from QuantConnect\")\n",
    "\n",
    "\n",
    "say_bye()\n"
   ]
  },
  {
   "cell_type": "code",
   "execution_count": 82,
   "metadata": {},
   "outputs": [
    {
     "name": "stdout",
     "output_type": "stream",
     "text": [
      "range(0, 10)\n",
      "range(1, 11)\n",
      "range(1, 11, 2)\n"
     ]
    }
   ],
   "source": [
    "print(range(10))\n",
    "print(range(1, 11))\n",
    "print(range(1, 11, 2))\n"
   ]
  },
  {
   "cell_type": "code",
   "execution_count": 83,
   "metadata": {},
   "outputs": [
    {
     "name": "stdout",
     "output_type": "stream",
     "text": [
      "range(10, 1000, 10)\n",
      "range(0, 11)\n",
      "range(11, 2)\n"
     ]
    }
   ],
   "source": [
    "print(range(10,1000,10))\n",
    "print(range(11))\n",
    "print(range(11, 2))\n"
   ]
  },
  {
   "cell_type": "code",
   "execution_count": 84,
   "metadata": {},
   "outputs": [
    {
     "name": "stdout",
     "output_type": "stream",
     "text": [
      "The number of tickers is 8\n",
      "1 AAPL\n",
      "2 GOOGL\n",
      "3 IBM\n",
      "4 FB\n",
      "5 F\n",
      "6 V\n",
      "7 G\n",
      "8 GE\n"
     ]
    }
   ],
   "source": [
    "tickers = ['AAPL', 'GOOGL', 'IBM', 'FB', 'F', 'V', 'G', 'GE']\n",
    "print(\"The number of tickers is {}\".format(len(tickers)))\n",
    "for k in range(len(tickers)):\n",
    "    print(k + 1, tickers[k])\n"
   ]
  },
  {
   "cell_type": "code",
   "execution_count": 85,
   "metadata": {},
   "outputs": [
    {
     "name": "stdout",
     "output_type": "stream",
     "text": [
      "The number of tickers is 4\n",
      "1 AAPL\n",
      "2 GOOGL\n",
      "3 IBM\n",
      "4 FB\n"
     ]
    }
   ],
   "source": [
    "tickers = ['AAPL', 'GOOGL', 'IBM', 'FB']\n",
    "print(\"The number of tickers is {}\".format(len(tickers)))\n",
    "for k in range(len(tickers)):\n",
    "    print(k + 1, tickers[k])\n"
   ]
  },
  {
   "cell_type": "code",
   "execution_count": 86,
   "metadata": {},
   "outputs": [
    {
     "name": "stdout",
     "output_type": "stream",
     "text": [
      "[4, 4, 3, 2, 1, 1, 1, 2]\n"
     ]
    }
   ],
   "source": [
    "tickers = ['AAPL', 'GOOG', 'IBM', 'FB', 'F', 'V', 'G', 'GE']\n",
    "print(list(map(len, tickers)))\n"
   ]
  },
  {
   "cell_type": "code",
   "execution_count": 87,
   "metadata": {},
   "outputs": [
    {
     "name": "stdout",
     "output_type": "stream",
     "text": [
      "['AAPLAAPL', 'GOOGGOOG', 'IBMIBM', 'FBFB', 'FF', 'VV', 'GG', 'GEGE']\n"
     ]
    }
   ],
   "source": [
    "tickers = ['AAPL', 'GOOG', 'IBM', 'FB', 'F', 'V', 'G', 'GE']\n",
    "print(list(map(lambda x: x*2, tickers)))\n"
   ]
  },
  {
   "cell_type": "code",
   "execution_count": 88,
   "metadata": {},
   "outputs": [
    {
     "data": {
      "text/plain": [
       "<map at 0x2d186c2cc40>"
      ]
     },
     "execution_count": 88,
     "metadata": {},
     "output_type": "execute_result"
    }
   ],
   "source": [
    "map(lambda x: x**2, range(10))\n"
   ]
  },
  {
   "cell_type": "code",
   "execution_count": 89,
   "metadata": {},
   "outputs": [
    {
     "data": {
      "text/plain": [
       "<map at 0x2d186c2cd60>"
      ]
     },
     "execution_count": 89,
     "metadata": {},
     "output_type": "execute_result"
    }
   ],
   "source": [
    "from math import sqrt\n",
    "map(lambda x: sqrt(x,2), range(10))\n"
   ]
  },
  {
   "cell_type": "code",
   "execution_count": 90,
   "metadata": {},
   "outputs": [
    {
     "data": {
      "text/plain": [
       "<map at 0x2d186c2c880>"
      ]
     },
     "execution_count": 90,
     "metadata": {},
     "output_type": "execute_result"
    }
   ],
   "source": [
    "map(lambda x, y: x+y, [1, 2, 3, 4, 5], [5, 4, 3, 2, 1])\n"
   ]
  },
  {
   "cell_type": "code",
   "execution_count": 91,
   "metadata": {},
   "outputs": [
    {
     "data": {
      "text/plain": [
       "[1, 2, 3, 4, 5]"
      ]
     },
     "execution_count": 91,
     "metadata": {},
     "output_type": "execute_result"
    }
   ],
   "source": [
    "sorted([5, 2, 3, 4, 1])\n"
   ]
  },
  {
   "cell_type": "code",
   "execution_count": 92,
   "metadata": {},
   "outputs": [
    {
     "name": "stdout",
     "output_type": "stream",
     "text": [
      "[5, 2, 3, 4, 1]\n",
      "[4, 3, 5, 2, 1]\n",
      "[1, 2, 3, 4, 5]\n"
     ]
    }
   ],
   "source": [
    "from random import shuffle\n",
    "lists = [5, 2, 3, 4, 1]\n",
    "print(lists)\n",
    "shuffle(lists)\n",
    "print(lists)\n",
    "lists=sorted(lists)\n",
    "print(lists)\n"
   ]
  },
  {
   "cell_type": "code",
   "execution_count": 93,
   "metadata": {},
   "outputs": [
    {
     "data": {
      "text/plain": [
       "[('MSFT', 69),\n",
       " ('WMT', 75.32),\n",
       " ('AAPL', 144.09),\n",
       " ('FB', 150),\n",
       " ('GOOGL', 911.71)]"
      ]
     },
     "execution_count": 93,
     "metadata": {},
     "output_type": "execute_result"
    }
   ],
   "source": [
    "price_list = [('AAPL', 144.09), ('GOOGL', 911.71),\n",
    "              ('MSFT', 69), ('FB', 150), ('WMT', 75.32)]\n",
    "sorted(price_list, key=lambda x: x[1])\n"
   ]
  },
  {
   "cell_type": "code",
   "execution_count": 94,
   "metadata": {},
   "outputs": [
    {
     "data": {
      "text/plain": [
       "[('WMT', 75.32),\n",
       " ('MSFT', 69),\n",
       " ('GOOGL', 911.71),\n",
       " ('FB', 150),\n",
       " ('AAPL', 144.09)]"
      ]
     },
     "execution_count": 94,
     "metadata": {},
     "output_type": "execute_result"
    }
   ],
   "source": [
    "price_list = [('AAPL', 144.09), ('GOOGL', 911.71),\n",
    "              ('MSFT', 69), ('FB', 150), ('WMT', 75.32)]\n",
    "sorted(price_list, reverse=True)\n"
   ]
  },
  {
   "cell_type": "code",
   "execution_count": 95,
   "metadata": {},
   "outputs": [
    {
     "data": {
      "text/plain": [
       "[('GOOGL', 911.71),\n",
       " ('FB', 150),\n",
       " ('AAPL', 144.09),\n",
       " ('WMT', 75.32),\n",
       " ('MSFT', 69)]"
      ]
     },
     "execution_count": 95,
     "metadata": {},
     "output_type": "execute_result"
    }
   ],
   "source": [
    "price_list = [('AAPL', 144.09), ('GOOGL', 911.71),\n",
    "              ('MSFT', 69), ('FB', 150), ('WMT', 75.32)]\n",
    "sorted(price_list, key=lambda x: x[1], reverse=True)\n"
   ]
  },
  {
   "cell_type": "code",
   "execution_count": 96,
   "metadata": {},
   "outputs": [
    {
     "name": "stdout",
     "output_type": "stream",
     "text": [
      "[('MSFT', 69), ('WMT', 75.32), ('AAPL', 144.09), ('FB', 150), ('GOOGL', 911.71)]\n"
     ]
    }
   ],
   "source": [
    "price_list = [('AAPL', 144.09), ('GOOGL', 911.71),\n",
    "              ('MSFT', 69), ('FB', 150), ('WMT', 75.32)]\n",
    "price_list.sort(key=lambda x: x[::-1])\n",
    "print(price_list)\n"
   ]
  },
  {
   "cell_type": "code",
   "execution_count": 97,
   "metadata": {},
   "outputs": [],
   "source": [
    "class Stock:\n",
    "    def __init__(self, ticker, open, close, volume):\n",
    "        self.ticker = ticker\n",
    "        self.open = open\n",
    "        self.close = close\n",
    "        self.volume = volume\n",
    "        self.rate_return = float(close)/open - 1\n",
    "\n",
    "    def update(self, open, close):\n",
    "        self.open = open\n",
    "        self.close = close\n",
    "        self.rate_return = float(self.close)/self.open - 1\n",
    "\n",
    "    def print_return(self):\n",
    "        print(self.rate_return)\n"
   ]
  },
  {
   "cell_type": "code",
   "execution_count": 98,
   "metadata": {},
   "outputs": [],
   "source": [
    "class Dummy:\n",
    "    def __init__(self, title, subtitle):\n",
    "        self.title = title\n",
    "        self.subtitle = subtitle\n",
    "\n",
    "    def update(self, title, subtitle):\n",
    "        self.title = title\n",
    "        self.subtitle = subtitle\n",
    "\n",
    "    def print_return(self):\n",
    "        print(f'title: {self.title} subtitle: {self.subtitle}')\n"
   ]
  },
  {
   "cell_type": "code",
   "execution_count": 99,
   "metadata": {},
   "outputs": [],
   "source": [
    "apple = Stock('AAPL', 143.69, 144.09, 20109375)\n",
    "google = Stock('GOOGL', 898.7, 911.7, 1561616)\n"
   ]
  },
  {
   "cell_type": "code",
   "execution_count": 100,
   "metadata": {},
   "outputs": [],
   "source": [
    "apple_example = Dummy('AAPL', 'Apple')\n",
    "google_example = Dummy('GOOGL', 'Google')\n"
   ]
  },
  {
   "cell_type": "code",
   "execution_count": 101,
   "metadata": {},
   "outputs": [
    {
     "name": "stdout",
     "output_type": "stream",
     "text": [
      "0.014465338822744034\n",
      "0.0006573181419806673\n"
     ]
    }
   ],
   "source": [
    "apple.ticker\n",
    "google.print_return()\n",
    "google.update(912.8, 913.4)\n",
    "google.print_return()\n"
   ]
  },
  {
   "cell_type": "code",
   "execution_count": 102,
   "metadata": {},
   "outputs": [
    {
     "name": "stdout",
     "output_type": "stream",
     "text": [
      "title: AAPL subtitle: Apple\n",
      "title: GOOGL subtitle: Google\n"
     ]
    }
   ],
   "source": [
    "apple_example.print_return()\n",
    "google_example.print_return()\n"
   ]
  },
  {
   "cell_type": "code",
   "execution_count": 103,
   "metadata": {},
   "outputs": [
    {
     "data": {
      "text/plain": [
       "'Tim Cook'"
      ]
     },
     "execution_count": 103,
     "metadata": {},
     "output_type": "execute_result"
    }
   ],
   "source": [
    "apple.ceo = 'Tim Cook'\n",
    "apple.ceo"
   ]
  },
  {
   "cell_type": "code",
   "execution_count": 104,
   "metadata": {},
   "outputs": [
    {
     "data": {
      "text/plain": [
       "'Tim Cook'"
      ]
     },
     "execution_count": 104,
     "metadata": {},
     "output_type": "execute_result"
    }
   ],
   "source": [
    "apple_example.ceo = 'Tim Cook'\n",
    "apple_example.ceo\n"
   ]
  },
  {
   "cell_type": "code",
   "execution_count": 105,
   "metadata": {},
   "outputs": [
    {
     "data": {
      "text/plain": [
       "['__class__',\n",
       " '__delattr__',\n",
       " '__dict__',\n",
       " '__dir__',\n",
       " '__doc__',\n",
       " '__eq__',\n",
       " '__format__',\n",
       " '__ge__',\n",
       " '__getattribute__',\n",
       " '__gt__',\n",
       " '__hash__',\n",
       " '__init__',\n",
       " '__init_subclass__',\n",
       " '__le__',\n",
       " '__lt__',\n",
       " '__module__',\n",
       " '__ne__',\n",
       " '__new__',\n",
       " '__reduce__',\n",
       " '__reduce_ex__',\n",
       " '__repr__',\n",
       " '__setattr__',\n",
       " '__sizeof__',\n",
       " '__str__',\n",
       " '__subclasshook__',\n",
       " '__weakref__',\n",
       " 'ceo',\n",
       " 'close',\n",
       " 'open',\n",
       " 'print_return',\n",
       " 'rate_return',\n",
       " 'ticker',\n",
       " 'update',\n",
       " 'volume']"
      ]
     },
     "execution_count": 105,
     "metadata": {},
     "output_type": "execute_result"
    }
   ],
   "source": [
    "dir(apple)"
   ]
  },
  {
   "cell_type": "code",
   "execution_count": 106,
   "metadata": {},
   "outputs": [
    {
     "data": {
      "text/plain": [
       "['__class__',\n",
       " '__delattr__',\n",
       " '__dict__',\n",
       " '__dir__',\n",
       " '__doc__',\n",
       " '__eq__',\n",
       " '__format__',\n",
       " '__ge__',\n",
       " '__getattribute__',\n",
       " '__gt__',\n",
       " '__hash__',\n",
       " '__init__',\n",
       " '__init_subclass__',\n",
       " '__le__',\n",
       " '__lt__',\n",
       " '__module__',\n",
       " '__ne__',\n",
       " '__new__',\n",
       " '__reduce__',\n",
       " '__reduce_ex__',\n",
       " '__repr__',\n",
       " '__setattr__',\n",
       " '__sizeof__',\n",
       " '__str__',\n",
       " '__subclasshook__',\n",
       " '__weakref__',\n",
       " 'ceo',\n",
       " 'print_return',\n",
       " 'subtitle',\n",
       " 'title',\n",
       " 'update']"
      ]
     },
     "execution_count": 106,
     "metadata": {},
     "output_type": "execute_result"
    }
   ],
   "source": [
    "dir(apple_example)"
   ]
  },
  {
   "cell_type": "code",
   "execution_count": 107,
   "metadata": {},
   "outputs": [],
   "source": [
    "class Child(Stock):\n",
    "    def __init__(self, name):\n",
    "        self.name = name\n"
   ]
  },
  {
   "cell_type": "code",
   "execution_count": 108,
   "metadata": {},
   "outputs": [],
   "source": [
    "class Child_Dummy(Dummy):\n",
    "    def __init__(self, name):\n",
    "        self.name = name\n"
   ]
  },
  {
   "cell_type": "code",
   "execution_count": 109,
   "metadata": {},
   "outputs": [
    {
     "name": "stdout",
     "output_type": "stream",
     "text": [
      "AA\n",
      "100\n",
      "102\n",
      "0.020000000000000018\n",
      "None\n"
     ]
    }
   ],
   "source": [
    "aa = Child('AA')\n",
    "print(aa.name)\n",
    "aa.update(100, 102)\n",
    "print(aa.open)\n",
    "print(aa.close)\n",
    "print(aa.print_return())\n"
   ]
  },
  {
   "cell_type": "code",
   "execution_count": 110,
   "metadata": {},
   "outputs": [
    {
     "name": "stdout",
     "output_type": "stream",
     "text": [
      "AA\n",
      "100\n",
      "102\n",
      "title: 100 subtitle: 102\n",
      "None\n"
     ]
    }
   ],
   "source": [
    "aa = Child_Dummy('AA')\n",
    "print(aa.name)\n",
    "aa.update(100, 102)\n",
    "print(aa.title)\n",
    "print(aa.subtitle)\n",
    "print(aa.print_return())\n"
   ]
  },
  {
   "cell_type": "markdown",
   "metadata": {},
   "source": [
    "# Tutorial 4 NumPy and Basic Pandas"
   ]
  },
  {
   "cell_type": "code",
   "execution_count": 111,
   "metadata": {},
   "outputs": [],
   "source": [
    "import numpy as np\n"
   ]
  },
  {
   "cell_type": "code",
   "execution_count": 112,
   "metadata": {},
   "outputs": [
    {
     "name": "stdout",
     "output_type": "stream",
     "text": [
      "[143.73 145.83 143.68 144.02 143.5  142.62] <class 'numpy.ndarray'>\n"
     ]
    }
   ],
   "source": [
    "price_list = [143.73, 145.83, 143.68, 144.02, 143.5, 142.62]\n",
    "price_array = np.array(price_list)\n",
    "print(price_array, type(price_array))\n"
   ]
  },
  {
   "cell_type": "code",
   "execution_count": 113,
   "metadata": {},
   "outputs": [
    {
     "data": {
      "text/plain": [
       "dtype('float64')"
      ]
     },
     "execution_count": 113,
     "metadata": {},
     "output_type": "execute_result"
    }
   ],
   "source": [
    "price_array.dtype\n"
   ]
  },
  {
   "cell_type": "code",
   "execution_count": 114,
   "metadata": {},
   "outputs": [
    {
     "name": "stdout",
     "output_type": "stream",
     "text": [
      "[list([143.73, 20.1232]) 145.83 143.68 144.02 143.5 142.62] <class 'numpy.ndarray'>\n"
     ]
    },
    {
     "name": "stderr",
     "output_type": "stream",
     "text": [
      "<ipython-input-114-b6f321690677>:2: VisibleDeprecationWarning: Creating an ndarray from ragged nested sequences (which is a list-or-tuple of lists-or-tuples-or ndarrays with different lengths or shapes) is deprecated. If you meant to do this, you must specify 'dtype=object' when creating the ndarray.\n",
      "  price_array1 = np.array(price_list1)\n"
     ]
    }
   ],
   "source": [
    "price_list1 = [[143.73, 20.1232], 145.83, 143.68, 144.02, 143.5, 142.62]\n",
    "price_array1 = np.array(price_list1)\n",
    "print(price_array1, type(price_array1))\n"
   ]
  },
  {
   "cell_type": "code",
   "execution_count": 115,
   "metadata": {},
   "outputs": [
    {
     "name": "stdout",
     "output_type": "stream",
     "text": [
      "[[1 3]\n",
      " [2 4]] <class 'numpy.ndarray'>\n"
     ]
    }
   ],
   "source": [
    "Ar = np.array([[1, 3], [2, 4]])\n",
    "print(Ar, type(Ar))\n"
   ]
  },
  {
   "cell_type": "code",
   "execution_count": 116,
   "metadata": {},
   "outputs": [
    {
     "name": "stdout",
     "output_type": "stream",
     "text": [
      "[[1.5  3.4 ]\n",
      " [2.98 4.77]] <class 'numpy.ndarray'>\n"
     ]
    }
   ],
   "source": [
    "Ar1 = np.array([[1.5, 3.4], [2.98, 4.77]])\n",
    "print(Ar1, type(Ar1))\n"
   ]
  },
  {
   "cell_type": "code",
   "execution_count": 117,
   "metadata": {},
   "outputs": [
    {
     "name": "stdout",
     "output_type": "stream",
     "text": [
      "(2, 2)\n"
     ]
    }
   ],
   "source": [
    "print(Ar.shape)\n"
   ]
  },
  {
   "cell_type": "code",
   "execution_count": 118,
   "metadata": {},
   "outputs": [
    {
     "name": "stdout",
     "output_type": "stream",
     "text": [
      "(2, 2)\n"
     ]
    }
   ],
   "source": [
    "print(Ar1.shape)\n"
   ]
  },
  {
   "cell_type": "code",
   "execution_count": 119,
   "metadata": {},
   "outputs": [
    {
     "name": "stdout",
     "output_type": "stream",
     "text": [
      "[1 3]\n",
      "[2 4]\n"
     ]
    }
   ],
   "source": [
    "print(Ar[0])\n",
    "print(Ar[1])\n"
   ]
  },
  {
   "cell_type": "code",
   "execution_count": 120,
   "metadata": {},
   "outputs": [
    {
     "name": "stdout",
     "output_type": "stream",
     "text": [
      "[1.5 3.4]\n",
      "[2.98 4.77]\n"
     ]
    }
   ],
   "source": [
    "print(Ar1[0])\n",
    "print(Ar1[1])\n"
   ]
  },
  {
   "cell_type": "code",
   "execution_count": 121,
   "metadata": {},
   "outputs": [
    {
     "name": "stdout",
     "output_type": "stream",
     "text": [
      "First column: [1 2]\n",
      "Second column: [3 4]\n"
     ]
    }
   ],
   "source": [
    "print('First column:', Ar[:, 0])\n",
    "print('Second column:', Ar[:, 1])\n"
   ]
  },
  {
   "cell_type": "code",
   "execution_count": 122,
   "metadata": {},
   "outputs": [
    {
     "name": "stdout",
     "output_type": "stream",
     "text": [
      "First column: [1.5  2.98]\n",
      "Second column: [3.4  4.77]\n"
     ]
    }
   ],
   "source": [
    "print('First column:', Ar1[:, 0])\n",
    "print('Second column:', Ar1[:, 1])\n"
   ]
  },
  {
   "cell_type": "code",
   "execution_count": 123,
   "metadata": {},
   "outputs": [
    {
     "data": {
      "text/plain": [
       "array([4.96793654, 4.98244156, 4.9675886 , 4.96995218, 4.96633504,\n",
       "       4.96018375])"
      ]
     },
     "execution_count": 123,
     "metadata": {},
     "output_type": "execute_result"
    }
   ],
   "source": [
    "np.log(price_array)\n"
   ]
  },
  {
   "cell_type": "code",
   "execution_count": 124,
   "metadata": {},
   "outputs": [
    {
     "name": "stdout",
     "output_type": "stream",
     "text": [
      "Error\n"
     ]
    }
   ],
   "source": [
    "try:\n",
    "    np.log(price_array1)\n",
    "except:\n",
    "    print('Error')"
   ]
  },
  {
   "cell_type": "code",
   "execution_count": 125,
   "metadata": {},
   "outputs": [
    {
     "data": {
      "text/plain": [
       "array([1.322, 145.83, 143.68, 144.02, 143.5, 142.62], dtype=object)"
      ]
     },
     "execution_count": 125,
     "metadata": {},
     "output_type": "execute_result"
    }
   ],
   "source": [
    "price_array1[0]=1.322\n",
    "price_array1\n"
   ]
  },
  {
   "cell_type": "code",
   "execution_count": 126,
   "metadata": {},
   "outputs": [],
   "source": [
    "price_array1=price_array1.astype('float64')\n"
   ]
  },
  {
   "cell_type": "code",
   "execution_count": 127,
   "metadata": {},
   "outputs": [
    {
     "data": {
      "text/plain": [
       "array([0.27914574, 4.98244156, 4.9675886 , 4.96995218, 4.96633504,\n",
       "       4.96018375])"
      ]
     },
     "execution_count": 127,
     "metadata": {},
     "output_type": "execute_result"
    }
   ],
   "source": [
    "np.log(price_array1)\n"
   ]
  },
  {
   "cell_type": "code",
   "execution_count": 128,
   "metadata": {},
   "outputs": [
    {
     "name": "stdout",
     "output_type": "stream",
     "text": [
      "0.9673790478515796\n",
      "863.38\n",
      "145.83\n"
     ]
    }
   ],
   "source": [
    "np.mean(price_array)\n",
    "print(np.std(price_array))\n",
    "print(np.sum(price_array))\n",
    "print(np.max(price_array))\n"
   ]
  },
  {
   "cell_type": "code",
   "execution_count": 129,
   "metadata": {},
   "outputs": [
    {
     "name": "stdout",
     "output_type": "stream",
     "text": [
      "53.15561481787852\n",
      "720.972\n",
      "145.83\n"
     ]
    }
   ],
   "source": [
    "np.mean(price_array1)\n",
    "print(np.std(price_array1))\n",
    "print(np.sum(price_array1))\n",
    "print(np.max(price_array1))\n"
   ]
  },
  {
   "cell_type": "code",
   "execution_count": 130,
   "metadata": {},
   "outputs": [],
   "source": [
    "import pandas as pd\n"
   ]
  },
  {
   "cell_type": "code",
   "execution_count": 131,
   "metadata": {},
   "outputs": [
    {
     "name": "stdout",
     "output_type": "stream",
     "text": [
      "0    143.73\n",
      "1    145.83\n",
      "2    143.68\n",
      "3    144.02\n",
      "4    143.50\n",
      "5    142.62\n",
      "dtype: float64\n"
     ]
    }
   ],
   "source": [
    "price = [143.73, 145.83, 143.68, 144.02, 143.5, 142.62]\n",
    "s = pd.Series(price)\n",
    "print(s)\n"
   ]
  },
  {
   "cell_type": "code",
   "execution_count": 132,
   "metadata": {},
   "outputs": [
    {
     "name": "stdout",
     "output_type": "stream",
     "text": [
      "0    [143.73, 20.1232]\n",
      "1               145.83\n",
      "2               143.68\n",
      "3               144.02\n",
      "4                143.5\n",
      "5               142.62\n",
      "dtype: object\n"
     ]
    }
   ],
   "source": [
    "price1 = price_list1\n",
    "s1 = pd.Series(price1)\n",
    "print(s1)\n"
   ]
  },
  {
   "cell_type": "code",
   "execution_count": 133,
   "metadata": {},
   "outputs": [
    {
     "name": "stdout",
     "output_type": "stream",
     "text": [
      "a    143.73\n",
      "b    145.83\n",
      "c    143.68\n",
      "d    144.02\n",
      "e    143.50\n",
      "f    142.62\n",
      "dtype: float64\n"
     ]
    }
   ],
   "source": [
    "s = pd.Series(price, index=['a', 'b', 'c', 'd', 'e', 'f'])\n",
    "print(s)\n"
   ]
  },
  {
   "cell_type": "code",
   "execution_count": 134,
   "metadata": {},
   "outputs": [
    {
     "name": "stdout",
     "output_type": "stream",
     "text": [
      "a    [143.73, 20.1232]\n",
      "b               145.83\n",
      "c               143.68\n",
      "d               144.02\n",
      "e                143.5\n",
      "f               142.62\n",
      "dtype: object\n"
     ]
    }
   ],
   "source": [
    "s1 = pd.Series(price1, index=['a', 'b', 'c', 'd', 'e', 'f'])\n",
    "print(s1)\n"
   ]
  },
  {
   "cell_type": "code",
   "execution_count": 135,
   "metadata": {},
   "outputs": [],
   "source": [
    "s.index = [6, 5, 4, 3, 2, 1]\n"
   ]
  },
  {
   "cell_type": "code",
   "execution_count": 136,
   "metadata": {},
   "outputs": [],
   "source": [
    "s1.index = list(range(len(s.index)))\n"
   ]
  },
  {
   "cell_type": "code",
   "execution_count": 137,
   "metadata": {},
   "outputs": [
    {
     "name": "stdout",
     "output_type": "stream",
     "text": [
      "6    143.73\n",
      "5    145.83\n",
      "4    143.68\n",
      "3    144.02\n",
      "2    143.50\n",
      "1    142.62\n",
      "dtype: float64\n"
     ]
    }
   ],
   "source": [
    "print(s)"
   ]
  },
  {
   "cell_type": "code",
   "execution_count": 138,
   "metadata": {},
   "outputs": [
    {
     "name": "stdout",
     "output_type": "stream",
     "text": [
      "0    [143.73, 20.1232]\n",
      "1               145.83\n",
      "2               143.68\n",
      "3               144.02\n",
      "4                143.5\n",
      "5               142.62\n",
      "dtype: object\n"
     ]
    }
   ],
   "source": [
    "print(s1)"
   ]
  },
  {
   "cell_type": "code",
   "execution_count": 139,
   "metadata": {},
   "outputs": [
    {
     "name": "stdout",
     "output_type": "stream",
     "text": [
      "5    145.83\n",
      "4    143.68\n",
      "3    144.02\n",
      "2    143.50\n",
      "1    142.62\n",
      "dtype: float64\n",
      "6    143.73\n",
      "5    145.83\n",
      "4    143.68\n",
      "3    144.02\n",
      "dtype: float64\n"
     ]
    }
   ],
   "source": [
    "print(s[1:])\n",
    "print(s[:-2])\n"
   ]
  },
  {
   "cell_type": "code",
   "execution_count": 140,
   "metadata": {},
   "outputs": [
    {
     "name": "stdout",
     "output_type": "stream",
     "text": [
      "1    145.83\n",
      "2    143.68\n",
      "3    144.02\n",
      "4     143.5\n",
      "5    142.62\n",
      "dtype: object\n",
      "0    [143.73, 20.1232]\n",
      "1               145.83\n",
      "2               143.68\n",
      "3               144.02\n",
      "dtype: object\n"
     ]
    }
   ],
   "source": [
    "print(s1[1:])\n",
    "print(s1[:-2])\n"
   ]
  },
  {
   "cell_type": "code",
   "execution_count": 141,
   "metadata": {},
   "outputs": [
    {
     "name": "stdout",
     "output_type": "stream",
     "text": [
      "0    143.73\n",
      "1    145.83\n",
      "2    143.68\n",
      "3    144.02\n",
      "4    143.50\n",
      "5    142.62\n",
      "Name: Apple Prices, dtype: float64\n",
      "Apple Prices\n"
     ]
    }
   ],
   "source": [
    "s = pd.Series(price, name='Apple Prices')\n",
    "print(s)\n",
    "print(s.name)\n"
   ]
  },
  {
   "cell_type": "code",
   "execution_count": 142,
   "metadata": {},
   "outputs": [
    {
     "name": "stdout",
     "output_type": "stream",
     "text": [
      "0    [143.73, 20.1232]\n",
      "1               145.83\n",
      "2               143.68\n",
      "3               144.02\n",
      "4                143.5\n",
      "5               142.62\n",
      "Name: Example of Apple Prices, dtype: object\n",
      "Example of Apple Prices\n"
     ]
    }
   ],
   "source": [
    "s1 = pd.Series(price1, name='Example of Apple Prices')\n",
    "print(s1)\n",
    "print(s1.name)\n"
   ]
  },
  {
   "cell_type": "code",
   "execution_count": 143,
   "metadata": {},
   "outputs": [
    {
     "name": "stdout",
     "output_type": "stream",
     "text": [
      "count      6.000000\n",
      "mean     143.896667\n",
      "std        1.059711\n",
      "min      142.620000\n",
      "25%      143.545000\n",
      "50%      143.705000\n",
      "75%      143.947500\n",
      "max      145.830000\n",
      "Name: Apple Prices, dtype: float64\n"
     ]
    }
   ],
   "source": [
    "print(s.describe())\n"
   ]
  },
  {
   "cell_type": "code",
   "execution_count": 144,
   "metadata": {},
   "outputs": [
    {
     "name": "stdout",
     "output_type": "stream",
     "text": [
      "count       6.00\n",
      "unique      6.00\n",
      "top       144.02\n",
      "freq        1.00\n",
      "Name: Example of Apple Prices, dtype: float64\n"
     ]
    }
   ],
   "source": [
    "print(s1.describe())\n"
   ]
  },
  {
   "cell_type": "code",
   "execution_count": 145,
   "metadata": {},
   "outputs": [
    {
     "name": "stdout",
     "output_type": "stream",
     "text": [
      "DatetimeIndex(['2017-01-01', '2017-01-02', '2017-01-03', '2017-01-04',\n",
      "               '2017-01-05', '2017-01-06'],\n",
      "              dtype='datetime64[ns]', freq='D')\n",
      "2017-01-01    143.73\n",
      "2017-01-02    145.83\n",
      "2017-01-03    143.68\n",
      "2017-01-04    144.02\n",
      "2017-01-05    143.50\n",
      "2017-01-06    142.62\n",
      "Freq: D, Name: Apple Prices, dtype: float64\n"
     ]
    }
   ],
   "source": [
    "time_index = pd.date_range('2017-01-01', periods=len(s), freq='D')\n",
    "print(time_index)\n",
    "s.index = time_index\n",
    "print(s)\n"
   ]
  },
  {
   "cell_type": "code",
   "execution_count": 146,
   "metadata": {},
   "outputs": [
    {
     "name": "stdout",
     "output_type": "stream",
     "text": [
      "DatetimeIndex(['2017-05-01', '2017-05-02', '2017-05-03', '2017-05-04',\n",
      "               '2017-05-05', '2017-05-06'],\n",
      "              dtype='datetime64[ns]', freq='D')\n",
      "2017-05-01    [143.73, 20.1232]\n",
      "2017-05-02               145.83\n",
      "2017-05-03               143.68\n",
      "2017-05-04               144.02\n",
      "2017-05-05                143.5\n",
      "2017-05-06               142.62\n",
      "Freq: D, Name: Example of Apple Prices, dtype: object\n"
     ]
    }
   ],
   "source": [
    "time_index = pd.date_range('2017-05-01', periods=len(s1), freq='D')\n",
    "print(time_index)\n",
    "s1.index = time_index\n",
    "print(s1)\n"
   ]
  },
  {
   "cell_type": "code",
   "execution_count": 147,
   "metadata": {},
   "outputs": [
    {
     "name": "stdout",
     "output_type": "stream",
     "text": [
      "6    143.73\n",
      "5    145.83\n",
      "4    143.68\n",
      "3    144.02\n",
      "2    143.50\n",
      "1    142.62\n",
      "Name: Apple Prices, dtype: float64\n",
      "142.62\n"
     ]
    }
   ],
   "source": [
    "s.index = [6, 5, 4, 3, 2, 1]\n",
    "print(s)\n",
    "print(s[1])\n"
   ]
  },
  {
   "cell_type": "code",
   "execution_count": 148,
   "metadata": {},
   "outputs": [
    {
     "name": "stdout",
     "output_type": "stream",
     "text": [
      "1    [143.73, 20.1232]\n",
      "2               145.83\n",
      "3               143.68\n",
      "4               144.02\n",
      "5                143.5\n",
      "6               142.62\n",
      "Name: Example of Apple Prices, dtype: object\n",
      "[143.73, 20.1232]\n"
     ]
    }
   ],
   "source": [
    "s1.index = reversed([6, 5, 4, 3, 2, 1])\n",
    "print(s1)\n",
    "print(s1[1])\n"
   ]
  },
  {
   "cell_type": "code",
   "execution_count": 149,
   "metadata": {},
   "outputs": [
    {
     "name": "stdout",
     "output_type": "stream",
     "text": [
      "145.83\n"
     ]
    }
   ],
   "source": [
    "print(s.iloc[1])\n"
   ]
  },
  {
   "cell_type": "code",
   "execution_count": 150,
   "metadata": {},
   "outputs": [
    {
     "name": "stdout",
     "output_type": "stream",
     "text": [
      "145.83\n"
     ]
    }
   ],
   "source": [
    "print(s1.iloc[1])\n"
   ]
  },
  {
   "cell_type": "code",
   "execution_count": 151,
   "metadata": {},
   "outputs": [],
   "source": [
    "s.index = time_index\n"
   ]
  },
  {
   "cell_type": "code",
   "execution_count": 152,
   "metadata": {},
   "outputs": [
    {
     "name": "stdout",
     "output_type": "stream",
     "text": [
      "143.68\n"
     ]
    }
   ],
   "source": [
    "s.index = time_index\n",
    "print(s['2017-05-03'])\n"
   ]
  },
  {
   "cell_type": "code",
   "execution_count": 153,
   "metadata": {},
   "outputs": [
    {
     "name": "stdout",
     "output_type": "stream",
     "text": [
      "143.73\n"
     ]
    }
   ],
   "source": [
    "s.index = time_index\n",
    "print(s['2017-05-01'])\n"
   ]
  },
  {
   "cell_type": "code",
   "execution_count": 154,
   "metadata": {},
   "outputs": [
    {
     "name": "stdout",
     "output_type": "stream",
     "text": [
      "2017-05-02    145.83\n",
      "2017-05-03    143.68\n",
      "2017-05-04    144.02\n",
      "2017-05-05    143.50\n",
      "Freq: D, Name: Apple Prices, dtype: float64\n"
     ]
    }
   ],
   "source": [
    "print(s['2017-05-02':'2017-05-05'])\n"
   ]
  },
  {
   "cell_type": "code",
   "execution_count": 155,
   "metadata": {},
   "outputs": [
    {
     "name": "stdout",
     "output_type": "stream",
     "text": [
      "2017-05-01    143.73\n",
      "2017-05-02    145.83\n",
      "2017-05-03    143.68\n",
      "2017-05-04    144.02\n",
      "2017-05-05    143.50\n",
      "Freq: D, Name: Apple Prices, dtype: float64\n"
     ]
    }
   ],
   "source": [
    "print(s['2017-05-01':'2017-05-05'])\n"
   ]
  },
  {
   "cell_type": "code",
   "execution_count": 156,
   "metadata": {},
   "outputs": [
    {
     "name": "stdout",
     "output_type": "stream",
     "text": [
      "2017-05-01    2.1213\n",
      "Freq: D, Name: Apple Prices, dtype: float64\n",
      "2017-05-02    145.83\n",
      "2017-05-03    143.68\n",
      "2017-05-04    144.02\n",
      "2017-05-05    143.50\n",
      "2017-05-06    142.62\n",
      "Freq: D, Name: Apple Prices, dtype: float64\n"
     ]
    }
   ],
   "source": [
    "s[0]=2.1213\n",
    "print(s[s < np.mean(s)])\n",
    "print(s[(s > np.mean(s)) & (s < np.mean(s) + 1.64*np.std(s))])\n"
   ]
  },
  {
   "cell_type": "markdown",
   "metadata": {},
   "source": [
    "# Tutorial 5 Pandas-Resampling and DataFrame"
   ]
  },
  {
   "cell_type": "code",
   "execution_count": 157,
   "metadata": {},
   "outputs": [
    {
     "name": "stdout",
     "output_type": "stream",
     "text": [
      "Requirement already satisfied: yfinance in c:\\programdata\\anaconda3\\lib\\site-packages (0.1.63)\n",
      "Requirement already satisfied: numpy>=1.15 in c:\\programdata\\anaconda3\\lib\\site-packages (from yfinance) (1.20.1)\n",
      "Requirement already satisfied: requests>=2.20 in c:\\programdata\\anaconda3\\lib\\site-packages (from yfinance) (2.25.1)\n",
      "Requirement already satisfied: multitasking>=0.0.7 in c:\\programdata\\anaconda3\\lib\\site-packages (from yfinance) (0.0.9)\n",
      "Requirement already satisfied: lxml>=4.5.1 in c:\\programdata\\anaconda3\\lib\\site-packages (from yfinance) (4.6.3)\n",
      "Requirement already satisfied: pandas>=0.24 in c:\\programdata\\anaconda3\\lib\\site-packages (from yfinance) (1.2.4)\n",
      "Requirement already satisfied: python-dateutil>=2.7.3 in c:\\programdata\\anaconda3\\lib\\site-packages (from pandas>=0.24->yfinance) (2.8.1)\n",
      "Requirement already satisfied: pytz>=2017.3 in c:\\programdata\\anaconda3\\lib\\site-packages (from pandas>=0.24->yfinance) (2021.1)\n",
      "Requirement already satisfied: six>=1.5 in c:\\programdata\\anaconda3\\lib\\site-packages (from python-dateutil>=2.7.3->pandas>=0.24->yfinance) (1.15.0)\n",
      "Requirement already satisfied: urllib3<1.27,>=1.21.1 in c:\\programdata\\anaconda3\\lib\\site-packages (from requests>=2.20->yfinance) (1.26.4)\n",
      "Requirement already satisfied: certifi>=2017.4.17 in c:\\programdata\\anaconda3\\lib\\site-packages (from requests>=2.20->yfinance) (2020.12.5)\n",
      "Requirement already satisfied: chardet<5,>=3.0.2 in c:\\programdata\\anaconda3\\lib\\site-packages (from requests>=2.20->yfinance) (4.0.0)\n",
      "Requirement already satisfied: idna<3,>=2.5 in c:\\programdata\\anaconda3\\lib\\site-packages (from requests>=2.20->yfinance) (2.10)\n"
     ]
    }
   ],
   "source": [
    "!pip install yfinance\n"
   ]
  },
  {
   "cell_type": "code",
   "execution_count": 158,
   "metadata": {},
   "outputs": [
    {
     "name": "stdout",
     "output_type": "stream",
     "text": [
      "{'zip': '95014', 'sector': 'Technology', 'fullTimeEmployees': 147000, 'longBusinessSummary': 'Apple Inc. designs, manufactures, and markets smartphones, personal computers, tablets, wearables, and accessories worldwide. It also sells various related services. The company offers iPhone, a line of smartphones; Mac, a line of personal computers; iPad, a line of multi-purpose tablets; and wearables, home, and accessories comprising AirPods, Apple TV, Apple Watch, Beats products, HomePod, iPod touch, and other Apple-branded and third-party accessories. It also provides AppleCare support services; cloud services store services; and operates various platforms, including the App Store, that allow customers to discover and download applications and digital content, such as books, music, video, games, and podcasts. In addition, the company offers various services, such as Apple Arcade, a game subscription service; Apple Music, which offers users a curated listening experience with on-demand radio stations; Apple News+, a subscription news and magazine service; Apple TV+, which offers exclusive original content; Apple Card, a co-branded credit card; and Apple Pay, a cashless payment service, as well as licenses its intellectual property. The company serves consumers, and small and mid-sized businesses; and the education, enterprise, and government markets. It sells and delivers third-party applications for its products through the App Store. The company also sells its products through its retail and online stores, and direct sales force; and third-party cellular network carriers, wholesalers, retailers, and resellers. Apple Inc. was founded in 1977 and is headquartered in Cupertino, California.', 'city': 'Cupertino', 'phone': '408-996-1010', 'state': 'CA', 'country': 'United States', 'companyOfficers': [], 'website': 'http://www.apple.com', 'maxAge': 1, 'address1': 'One Apple Park Way', 'industry': 'Consumer Electronics', 'ebitdaMargins': 0.31955, 'profitMargins': 0.25004, 'grossMargins': 0.41005, 'operatingCashflow': 104414003200, 'revenueGrowth': 0.364, 'operatingMargins': 0.28788, 'ebitda': 110934999040, 'targetLowPrice': 132, 'recommendationKey': 'buy', 'grossProfits': 104956000000, 'freeCashflow': 80625876992, 'targetMedianPrice': 169.64, 'currentPrice': 140.91, 'earningsGrowth': 1, 'currentRatio': 1.062, 'returnOnAssets': 0.19302, 'numberOfAnalystOpinions': 42, 'targetMeanPrice': 167.92, 'debtToEquity': 210.782, 'returnOnEquity': 1.27125, 'targetHighPrice': 190, 'totalCash': 61696000000, 'totalDebt': 135491002368, 'totalRevenue': 347155005440, 'totalCashPerShare': 3.732, 'financialCurrency': 'USD', 'revenuePerShare': 20.61, 'quickRatio': 0.887, 'recommendationMean': 1.9, 'exchange': 'NMS', 'shortName': 'Apple Inc.', 'longName': 'Apple Inc.', 'exchangeTimezoneName': 'America/New_York', 'exchangeTimezoneShortName': 'EDT', 'isEsgPopulated': False, 'gmtOffSetMilliseconds': '-14400000', 'quoteType': 'EQUITY', 'symbol': 'AAPL', 'messageBoardId': 'finmb_24937', 'market': 'us_market', 'annualHoldingsTurnover': None, 'enterpriseToRevenue': 6.951, 'beta3Year': None, 'enterpriseToEbitda': 21.751, '52WeekChange': 0.17231381, 'morningStarRiskRating': None, 'forwardEps': 5.68, 'revenueQuarterlyGrowth': None, 'sharesOutstanding': 16530199552, 'fundInceptionDate': None, 'annualReportExpenseRatio': None, 'totalAssets': None, 'bookValue': 3.882, 'sharesShort': 101107412, 'sharesPercentSharesOut': 0.0061000003, 'fundFamily': None, 'lastFiscalYearEnd': 1601078400, 'heldPercentInstitutions': 0.5869, 'netIncomeToCommon': 86801997824, 'trailingEps': 5.108, 'lastDividendValue': 0.22, 'SandP52WeekChange': 0.24898803, 'priceToBook': 36.2983, 'heldPercentInsiders': 0.00072999997, 'nextFiscalYearEnd': 1664150400, 'yield': None, 'mostRecentQuarter': 1624665600, 'shortRatio': 1.18, 'sharesShortPreviousMonthDate': 1630368000, 'floatShares': 16512974627, 'beta': 1.222222, 'enterpriseValue': 2412978896896, 'priceHint': 2, 'threeYearAverageReturn': None, 'lastSplitDate': 1598832000, 'lastSplitFactor': '4:1', 'legalType': None, 'lastDividendDate': 1628208000, 'morningStarOverallRating': None, 'earningsQuarterlyGrowth': 0.932, 'priceToSalesTrailing12Months': 6.709598, 'dateShortInterest': 1632960000, 'pegRatio': 1.38, 'ytdReturn': None, 'forwardPE': 24.8081, 'lastCapGain': None, 'shortPercentOfFloat': 0.0061000003, 'sharesShortPriorMonth': 96838699, 'impliedSharesOutstanding': None, 'category': None, 'fiveYearAverageReturn': None, 'previousClose': 141.51, 'regularMarketOpen': 141.235, 'twoHundredDayAverage': 138.28957, 'trailingAnnualDividendYield': 0.0059006433, 'payoutRatio': 0.16309999, 'volume24Hr': None, 'regularMarketDayHigh': 141.4, 'navPrice': None, 'averageDailyVolume10Day': 74334814, 'regularMarketPreviousClose': 141.51, 'fiftyDayAverage': 147.03795, 'trailingAnnualDividendRate': 0.835, 'open': 141.235, 'toCurrency': None, 'averageVolume10days': 74334814, 'expireDate': None, 'algorithm': None, 'dividendRate': 0.88, 'exDividendDate': 1628208000, 'circulatingSupply': None, 'startDate': None, 'regularMarketDayLow': 139.2, 'currency': 'USD', 'trailingPE': 27.586142, 'regularMarketVolume': 74732031, 'lastMarket': None, 'maxSupply': None, 'openInterest': None, 'marketCap': 2329270550528, 'volumeAllCurrencies': None, 'strikePrice': None, 'averageVolume': 79142887, 'dayLow': 139.2, 'ask': 141.25, 'askSize': 1400, 'volume': 74732031, 'fiftyTwoWeekHigh': 157.26, 'fromCurrency': None, 'fiveYearAvgDividendYield': 1.24, 'fiftyTwoWeekLow': 107.32, 'bid': 141.05, 'tradeable': False, 'dividendYield': 0.0062, 'bidSize': 1100, 'dayHigh': 141.4, 'regularMarketPrice': 140.91, 'logo_url': 'https://logo.clearbit.com/apple.com'}\n"
     ]
    }
   ],
   "source": [
    "import yfinance as yf\n",
    "\n",
    "aapl = yf.Ticker('AAPL')\n",
    "\n",
    "# get stock info\n",
    "print(aapl.info)\n"
   ]
  },
  {
   "cell_type": "code",
   "execution_count": 159,
   "metadata": {},
   "outputs": [
    {
     "data": {
      "text/html": [
       "<div>\n",
       "<style scoped>\n",
       "    .dataframe tbody tr th:only-of-type {\n",
       "        vertical-align: middle;\n",
       "    }\n",
       "\n",
       "    .dataframe tbody tr th {\n",
       "        vertical-align: top;\n",
       "    }\n",
       "\n",
       "    .dataframe thead th {\n",
       "        text-align: right;\n",
       "    }\n",
       "</style>\n",
       "<table border=\"1\" class=\"dataframe\">\n",
       "  <thead>\n",
       "    <tr style=\"text-align: right;\">\n",
       "      <th></th>\n",
       "      <th>Open</th>\n",
       "      <th>High</th>\n",
       "      <th>Low</th>\n",
       "      <th>Close</th>\n",
       "      <th>Volume</th>\n",
       "      <th>Dividends</th>\n",
       "      <th>Stock Splits</th>\n",
       "    </tr>\n",
       "    <tr>\n",
       "      <th>Date</th>\n",
       "      <th></th>\n",
       "      <th></th>\n",
       "      <th></th>\n",
       "      <th></th>\n",
       "      <th></th>\n",
       "      <th></th>\n",
       "      <th></th>\n",
       "    </tr>\n",
       "  </thead>\n",
       "  <tbody>\n",
       "    <tr>\n",
       "      <th>2017-01-03</th>\n",
       "      <td>27.289876</td>\n",
       "      <td>27.414778</td>\n",
       "      <td>27.044786</td>\n",
       "      <td>27.372358</td>\n",
       "      <td>115127600</td>\n",
       "      <td>0.0</td>\n",
       "      <td>0</td>\n",
       "    </tr>\n",
       "    <tr>\n",
       "      <th>2017-01-04</th>\n",
       "      <td>27.301660</td>\n",
       "      <td>27.457199</td>\n",
       "      <td>27.278094</td>\n",
       "      <td>27.341722</td>\n",
       "      <td>84472400</td>\n",
       "      <td>0.0</td>\n",
       "      <td>0</td>\n",
       "    </tr>\n",
       "    <tr>\n",
       "      <th>2017-01-05</th>\n",
       "      <td>27.318156</td>\n",
       "      <td>27.539680</td>\n",
       "      <td>27.292233</td>\n",
       "      <td>27.480764</td>\n",
       "      <td>88774400</td>\n",
       "      <td>0.0</td>\n",
       "      <td>0</td>\n",
       "    </tr>\n",
       "    <tr>\n",
       "      <th>2017-01-06</th>\n",
       "      <td>27.520825</td>\n",
       "      <td>27.846043</td>\n",
       "      <td>27.447770</td>\n",
       "      <td>27.787127</td>\n",
       "      <td>127007600</td>\n",
       "      <td>0.0</td>\n",
       "      <td>0</td>\n",
       "    </tr>\n",
       "    <tr>\n",
       "      <th>2017-01-09</th>\n",
       "      <td>27.796551</td>\n",
       "      <td>28.145334</td>\n",
       "      <td>27.794195</td>\n",
       "      <td>28.041641</td>\n",
       "      <td>134247600</td>\n",
       "      <td>0.0</td>\n",
       "      <td>0</td>\n",
       "    </tr>\n",
       "    <tr>\n",
       "      <th>...</th>\n",
       "      <td>...</td>\n",
       "      <td>...</td>\n",
       "      <td>...</td>\n",
       "      <td>...</td>\n",
       "      <td>...</td>\n",
       "      <td>...</td>\n",
       "      <td>...</td>\n",
       "    </tr>\n",
       "    <tr>\n",
       "      <th>2017-12-22</th>\n",
       "      <td>41.827756</td>\n",
       "      <td>42.004953</td>\n",
       "      <td>41.784656</td>\n",
       "      <td>41.906776</td>\n",
       "      <td>65397600</td>\n",
       "      <td>0.0</td>\n",
       "      <td>0</td>\n",
       "    </tr>\n",
       "    <tr>\n",
       "      <th>2017-12-26</th>\n",
       "      <td>40.898675</td>\n",
       "      <td>41.059108</td>\n",
       "      <td>40.630484</td>\n",
       "      <td>40.843601</td>\n",
       "      <td>132742000</td>\n",
       "      <td>0.0</td>\n",
       "      <td>0</td>\n",
       "    </tr>\n",
       "    <tr>\n",
       "      <th>2017-12-27</th>\n",
       "      <td>40.731061</td>\n",
       "      <td>40.893888</td>\n",
       "      <td>40.637675</td>\n",
       "      <td>40.850788</td>\n",
       "      <td>85992800</td>\n",
       "      <td>0.0</td>\n",
       "      <td>0</td>\n",
       "    </tr>\n",
       "    <tr>\n",
       "      <th>2017-12-28</th>\n",
       "      <td>40.946568</td>\n",
       "      <td>41.150105</td>\n",
       "      <td>40.822051</td>\n",
       "      <td>40.965725</td>\n",
       "      <td>65920800</td>\n",
       "      <td>0.0</td>\n",
       "      <td>0</td>\n",
       "    </tr>\n",
       "    <tr>\n",
       "      <th>2017-12-29</th>\n",
       "      <td>40.831629</td>\n",
       "      <td>40.848389</td>\n",
       "      <td>40.520339</td>\n",
       "      <td>40.522732</td>\n",
       "      <td>103999600</td>\n",
       "      <td>0.0</td>\n",
       "      <td>0</td>\n",
       "    </tr>\n",
       "  </tbody>\n",
       "</table>\n",
       "<p>251 rows × 7 columns</p>\n",
       "</div>"
      ],
      "text/plain": [
       "                 Open       High        Low      Close     Volume  Dividends  \\\n",
       "Date                                                                           \n",
       "2017-01-03  27.289876  27.414778  27.044786  27.372358  115127600        0.0   \n",
       "2017-01-04  27.301660  27.457199  27.278094  27.341722   84472400        0.0   \n",
       "2017-01-05  27.318156  27.539680  27.292233  27.480764   88774400        0.0   \n",
       "2017-01-06  27.520825  27.846043  27.447770  27.787127  127007600        0.0   \n",
       "2017-01-09  27.796551  28.145334  27.794195  28.041641  134247600        0.0   \n",
       "...               ...        ...        ...        ...        ...        ...   \n",
       "2017-12-22  41.827756  42.004953  41.784656  41.906776   65397600        0.0   \n",
       "2017-12-26  40.898675  41.059108  40.630484  40.843601  132742000        0.0   \n",
       "2017-12-27  40.731061  40.893888  40.637675  40.850788   85992800        0.0   \n",
       "2017-12-28  40.946568  41.150105  40.822051  40.965725   65920800        0.0   \n",
       "2017-12-29  40.831629  40.848389  40.520339  40.522732  103999600        0.0   \n",
       "\n",
       "            Stock Splits  \n",
       "Date                      \n",
       "2017-01-03             0  \n",
       "2017-01-04             0  \n",
       "2017-01-05             0  \n",
       "2017-01-06             0  \n",
       "2017-01-09             0  \n",
       "...                  ...  \n",
       "2017-12-22             0  \n",
       "2017-12-26             0  \n",
       "2017-12-27             0  \n",
       "2017-12-28             0  \n",
       "2017-12-29             0  \n",
       "\n",
       "[251 rows x 7 columns]"
      ]
     },
     "execution_count": 159,
     "metadata": {},
     "output_type": "execute_result"
    }
   ],
   "source": [
    "aapl_table = aapl.history(start=\"2017-01-01\",  end=\"2017-12-31\")\n",
    "aapl_table\n"
   ]
  },
  {
   "cell_type": "code",
   "execution_count": 172,
   "metadata": {},
   "outputs": [],
   "source": [
    "aapl = aapl_table['Close']['2017']\n"
   ]
  },
  {
   "cell_type": "code",
   "execution_count": 175,
   "metadata": {},
   "outputs": [
    {
     "name": "stdout",
     "output_type": "stream",
     "text": [
      "Date\n",
      "2017-01-03    27.372358\n",
      "2017-01-04    27.341722\n",
      "2017-01-05    27.480764\n",
      "2017-01-06    27.787127\n",
      "2017-01-09    28.041641\n",
      "                ...    \n",
      "2017-12-22    41.906776\n",
      "2017-12-26    40.843601\n",
      "2017-12-27    40.850788\n",
      "2017-12-28    40.965725\n",
      "2017-12-29    40.522732\n",
      "Name: Close, Length: 251, dtype: float64\n"
     ]
    }
   ],
   "source": [
    "print(aapl)\n"
   ]
  },
  {
   "cell_type": "code",
   "execution_count": 176,
   "metadata": {},
   "outputs": [
    {
     "data": {
      "text/plain": [
       "Date\n",
       "2017-01-03    27.372358\n",
       "2017-01-04    27.341722\n",
       "2017-01-05    27.480764\n",
       "2017-01-06    27.787127\n",
       "2017-01-09    28.041641\n",
       "Name: Close, dtype: float64"
      ]
     },
     "execution_count": 176,
     "metadata": {},
     "output_type": "execute_result"
    }
   ],
   "source": [
    "aapl.head()\n"
   ]
  },
  {
   "cell_type": "code",
   "execution_count": 177,
   "metadata": {},
   "outputs": [
    {
     "name": "stdout",
     "output_type": "stream",
     "text": [
      "Date\n",
      "2017-03-01    33.086292\n",
      "2017-03-02    32.889839\n",
      "2017-03-03    33.083923\n",
      "2017-03-06    32.979774\n",
      "2017-03-07    33.022377\n",
      "2017-03-08    32.899300\n",
      "2017-03-09    32.823559\n",
      "2017-03-10    32.932442\n",
      "2017-03-13    32.946640\n",
      "2017-03-14    32.896938\n",
      "2017-03-15    33.244869\n",
      "2017-03-16    33.299305\n",
      "2017-03-17    33.133617\n",
      "2017-03-20    33.481552\n",
      "2017-03-21    33.098122\n",
      "2017-03-22    33.472080\n",
      "2017-03-23    33.353737\n",
      "2017-03-24    33.287464\n",
      "2017-03-27    33.344269\n",
      "2017-03-28    34.035393\n",
      "2017-03-29    34.111130\n",
      "2017-03-30    34.066170\n",
      "2017-03-31    34.002258\n",
      "Name: Close, dtype: float64\n"
     ]
    }
   ],
   "source": [
    "\n",
    "print(aapl['2017-3'])\n"
   ]
  },
  {
   "cell_type": "code",
   "execution_count": 178,
   "metadata": {},
   "outputs": [
    {
     "name": "stdout",
     "output_type": "stream",
     "text": [
      "Date\n",
      "2017-01-03    27.372358\n",
      "2017-01-04    27.341722\n",
      "2017-01-05    27.480764\n",
      "2017-01-06    27.787127\n",
      "2017-01-09    28.041641\n",
      "                ...    \n",
      "2017-12-22    41.906776\n",
      "2017-12-26    40.843601\n",
      "2017-12-27    40.850788\n",
      "2017-12-28    40.965725\n",
      "2017-12-29    40.522732\n",
      "Name: Close, Length: 251, dtype: float64\n"
     ]
    }
   ],
   "source": [
    "print(aapl)\n"
   ]
  },
  {
   "cell_type": "code",
   "execution_count": 179,
   "metadata": {},
   "outputs": [
    {
     "data": {
      "text/plain": [
       "Date\n",
       "2017-02-01    30.341732\n",
       "2017-02-02    30.289883\n",
       "2017-02-03    30.419498\n",
       "2017-02-06    30.704651\n",
       "2017-02-07    30.996870\n",
       "                ...    \n",
       "2017-04-24    33.997528\n",
       "2017-04-25    34.208172\n",
       "2017-04-26    34.006989\n",
       "2017-04-27    34.033028\n",
       "2017-04-28    33.999897\n",
       "Name: Close, Length: 61, dtype: float64"
      ]
     },
     "execution_count": 179,
     "metadata": {},
     "output_type": "execute_result"
    }
   ],
   "source": [
    "\n",
    "aapl['2017-2':'2017-4']\n"
   ]
  },
  {
   "cell_type": "code",
   "execution_count": 181,
   "metadata": {},
   "outputs": [
    {
     "data": {
      "text/plain": [
       "pandas.core.series.Series"
      ]
     },
     "execution_count": 181,
     "metadata": {},
     "output_type": "execute_result"
    }
   ],
   "source": [
    "type(aapl)"
   ]
  },
  {
   "cell_type": "code",
   "execution_count": 182,
   "metadata": {},
   "outputs": [
    {
     "name": "stdout",
     "output_type": "stream",
     "text": [
      "Date\n",
      "2017-01-03    27.372358\n",
      "2017-01-04    27.341722\n",
      "2017-01-05    27.480764\n",
      "2017-01-06    27.787127\n",
      "2017-01-09    28.041641\n",
      "Name: Close, dtype: float64\n",
      "Date\n",
      "2017-12-15    41.657734\n",
      "2017-12-18    42.244404\n",
      "2017-12-19    41.794235\n",
      "2017-12-20    41.748737\n",
      "2017-12-21    41.906776\n",
      "2017-12-22    41.906776\n",
      "2017-12-26    40.843601\n",
      "2017-12-27    40.850788\n",
      "2017-12-28    40.965725\n",
      "2017-12-29    40.522732\n",
      "Name: Close, dtype: float64\n"
     ]
    }
   ],
   "source": [
    "print(aapl.head(5))\n",
    "print(aapl.tail(10))\n"
   ]
  },
  {
   "cell_type": "code",
   "execution_count": 183,
   "metadata": {},
   "outputs": [
    {
     "name": "stdout",
     "output_type": "stream",
     "text": [
      "Date\n",
      "2017-01-31    28.178331\n",
      "2017-02-28    31.606275\n",
      "2017-03-31    33.282220\n",
      "2017-04-30    33.819264\n",
      "2017-05-31    36.125684\n",
      "2017-06-30    35.133984\n",
      "2017-07-31    35.245243\n",
      "2017-08-31    37.897228\n",
      "2017-09-30    37.604738\n",
      "2017-10-31    37.654552\n",
      "2017-11-30    41.233915\n",
      "2017-12-31    41.160038\n",
      "Freq: M, Name: Close, dtype: float64\n"
     ]
    }
   ],
   "source": [
    "\n",
    "by_month = aapl.resample('M').mean()\n",
    "print(by_month)\n"
   ]
  },
  {
   "cell_type": "code",
   "execution_count": 184,
   "metadata": {},
   "outputs": [
    {
     "name": "stdout",
     "output_type": "stream",
     "text": [
      "Date\n",
      "2017-01-08    27.495493\n",
      "2017-01-15    28.097734\n",
      "2017-01-22    28.266117\n",
      "2017-01-29    28.553980\n",
      "2017-02-05    29.662545\n",
      "Freq: W-SUN, Name: Close, dtype: float64\n"
     ]
    }
   ],
   "source": [
    "by_week = aapl.resample('W').mean()\n",
    "print(by_week.head())\n"
   ]
  },
  {
   "cell_type": "code",
   "execution_count": 185,
   "metadata": {},
   "outputs": [
    {
     "data": {
      "text/plain": [
       "Date\n",
       "2017-01-31    28.739206\n",
       "2017-02-28    32.451965\n",
       "2017-03-31    34.111130\n",
       "2017-04-30    34.264980\n",
       "2017-05-31    37.099133\n",
       "2017-06-30    36.944649\n",
       "2017-07-31    36.471706\n",
       "2017-08-31    39.129726\n",
       "2017-09-30    39.141659\n",
       "2017-10-31    40.332245\n",
       "2017-11-30    42.050133\n",
       "2017-12-31    42.244404\n",
       "Freq: M, Name: Close, dtype: float64"
      ]
     },
     "execution_count": 185,
     "metadata": {},
     "output_type": "execute_result"
    }
   ],
   "source": [
    "aapl.resample('M').max()\n"
   ]
  },
  {
   "cell_type": "code",
   "execution_count": 186,
   "metadata": {},
   "outputs": [
    {
     "name": "stdout",
     "output_type": "stream",
     "text": [
      "Date\n",
      "2017-01-03    27.398282\n",
      "2017-01-06    27.787127\n",
      "2017-01-09    28.110775\n",
      "2017-01-12    28.078174\n",
      "2017-01-15    28.279665\n",
      "                ...    \n",
      "2017-12-17    42.019320\n",
      "2017-12-20    41.854097\n",
      "2017-12-23          NaN\n",
      "2017-12-26    40.886705\n",
      "2017-12-29    40.522732\n",
      "Freq: 3D, Name: Close, Length: 121, dtype: float64\n",
      "Date\n",
      "2017-01-08    27.495493\n",
      "2017-01-22    28.172571\n",
      "2017-02-05    29.108263\n",
      "2017-02-19    31.516816\n",
      "2017-03-05    32.595558\n",
      "2017-03-19    33.017882\n",
      "2017-04-02    33.625217\n",
      "2017-04-16    33.849730\n",
      "2017-04-30    33.791845\n",
      "2017-05-14    35.697631\n",
      "2017-05-28    36.496180\n",
      "2017-06-11    36.515009\n",
      "2017-06-25    34.529047\n",
      "2017-07-09    34.265133\n",
      "2017-07-23    35.278872\n",
      "2017-08-06    36.272777\n",
      "2017-08-20    37.904117\n",
      "2017-09-03    38.458794\n",
      "2017-09-17    38.282708\n",
      "2017-10-01    36.840873\n",
      "2017-10-15    37.071596\n",
      "2017-10-29    37.757323\n",
      "2017-11-12    41.032234\n",
      "2017-11-26    41.204377\n",
      "2017-12-10    40.867068\n",
      "2017-12-24    41.620866\n",
      "2018-01-07    40.795712\n",
      "Freq: 2W-SUN, Name: Close, dtype: float64\n",
      "Date\n",
      "2017-01-31    28.178331\n",
      "2017-03-31    32.524054\n",
      "2017-05-31    35.056856\n",
      "2017-07-31    35.186964\n",
      "2017-09-30    37.761186\n",
      "2017-11-30    39.402613\n",
      "2018-01-31    41.160038\n",
      "Freq: 2M, Name: Close, dtype: float64\n"
     ]
    }
   ],
   "source": [
    "three_day = aapl.resample('3D').mean()\n",
    "two_week = aapl.resample('2W').mean()\n",
    "two_month = aapl.resample('2M').mean()\n",
    "\n",
    "\n",
    "print(three_day)\n",
    "print(two_week)\n",
    "print(two_month)\n"
   ]
  },
  {
   "cell_type": "code",
   "execution_count": 187,
   "metadata": {},
   "outputs": [
    {
     "name": "stdout",
     "output_type": "stream",
     "text": [
      "Date\n",
      "2017-01-08    0.203367\n",
      "2017-01-15    0.072532\n",
      "2017-01-22    0.025552\n",
      "2017-01-29    0.245285\n",
      "2017-02-05    0.943262\n",
      "2017-02-12    0.252000\n",
      "2017-02-19    0.231393\n",
      "2017-02-26    0.059345\n",
      "2017-03-05    0.340094\n",
      "2017-03-12    0.076286\n",
      "2017-03-19    0.177835\n",
      "2017-03-26    0.157263\n",
      "2017-04-02    0.319809\n",
      "2017-04-09    0.128689\n",
      "2017-04-16    0.212477\n",
      "2017-04-23    0.174668\n",
      "2017-04-30    0.090022\n",
      "2017-05-07    0.235642\n",
      "2017-05-14    0.352982\n",
      "2017-05-21    0.536094\n",
      "2017-05-28    0.060393\n",
      "2017-06-04    0.281223\n",
      "2017-06-11    0.620030\n",
      "2017-06-18    0.382568\n",
      "2017-06-25    0.128894\n",
      "2017-07-02    0.264106\n",
      "2017-07-09    0.158888\n",
      "2017-07-16    0.404279\n",
      "2017-07-23    0.124988\n",
      "2017-07-30    0.384443\n",
      "2017-08-06    0.924392\n",
      "2017-08-13    0.467467\n",
      "2017-08-20    0.435252\n",
      "2017-08-27    0.275766\n",
      "2017-09-03    0.251728\n",
      "2017-09-10    0.381638\n",
      "2017-09-17    0.294141\n",
      "2017-09-24    0.735193\n",
      "2017-10-01    0.354845\n",
      "2017-10-08    0.204858\n",
      "2017-10-15    0.118734\n",
      "2017-10-22    0.516996\n",
      "2017-10-29    0.680457\n",
      "2017-11-05    0.560686\n",
      "2017-11-12    0.190970\n",
      "2017-11-19    0.436195\n",
      "2017-11-26    0.563040\n",
      "2017-12-03    0.427444\n",
      "2017-12-10    0.073128\n",
      "2017-12-17    0.205263\n",
      "2017-12-24    0.194123\n",
      "2017-12-31    0.190394\n",
      "Freq: W-SUN, Name: Close, dtype: float64\n",
      "Date\n",
      "2017-01-08    27.787127\n",
      "2017-01-15    28.220755\n",
      "2017-01-22    28.279665\n",
      "2017-01-29    28.739206\n",
      "2017-02-05    30.419498\n",
      "2017-02-12    31.341911\n",
      "2017-02-19    32.122974\n",
      "2017-02-26    32.451965\n",
      "2017-03-05    33.086292\n",
      "2017-03-12    33.022377\n",
      "2017-03-19    33.299305\n",
      "2017-03-26    33.481552\n",
      "2017-04-02    34.111130\n",
      "2017-04-09    34.264980\n",
      "2017-04-16    33.886288\n",
      "2017-04-23    33.713497\n",
      "2017-04-30    34.208172\n",
      "2017-05-07    35.256699\n",
      "2017-05-14    37.099133\n",
      "2017-05-21    37.004063\n",
      "2017-05-28    36.597664\n",
      "2017-06-04    36.944649\n",
      "2017-06-11    36.925636\n",
      "2017-06-18    34.838955\n",
      "2017-06-25    34.779549\n",
      "2017-07-02    34.658329\n",
      "2017-07-09    34.266190\n",
      "2017-07-16    35.421223\n",
      "2017-07-23    35.891808\n",
      "2017-07-30    36.471706\n",
      "2017-08-06    37.346294\n",
      "2017-08-13    38.277931\n",
      "2017-08-20    38.557091\n",
      "2017-08-27    38.170567\n",
      "2017-09-03    39.141659\n",
      "2017-09-10    38.671616\n",
      "2017-09-17    38.533237\n",
      "2017-09-24    37.872322\n",
      "2017-10-01    36.798641\n",
      "2017-10-08    37.075413\n",
      "2017-10-15    37.457172\n",
      "2017-10-22    38.287479\n",
      "2017-10-29    38.903065\n",
      "2017-11-05    41.157791\n",
      "2017-11-12    42.050133\n",
      "2017-11-19    41.657734\n",
      "2017-11-26    41.897198\n",
      "2017-12-03    41.686478\n",
      "2017-12-10    40.659222\n",
      "2017-12-17    41.657734\n",
      "2017-12-24    42.244404\n",
      "2017-12-31    40.965725\n",
      "Freq: W-SUN, Name: Close, dtype: float64\n",
      "Date\n",
      "2017-01-08    27.341722\n",
      "2017-01-15    28.041641\n",
      "2017-01-22    28.227825\n",
      "2017-01-29    28.272600\n",
      "2017-02-05    28.597813\n",
      "2017-02-12    30.704651\n",
      "2017-02-19    31.547827\n",
      "2017-02-26    32.314686\n",
      "2017-03-05    32.409359\n",
      "2017-03-12    32.823559\n",
      "2017-03-19    32.896938\n",
      "2017-03-26    33.098122\n",
      "2017-04-02    33.344269\n",
      "2017-04-09    33.926517\n",
      "2017-04-16    33.384514\n",
      "2017-04-23    33.296932\n",
      "2017-04-30    33.997528\n",
      "2017-05-07    34.681541\n",
      "2017-05-14    36.215260\n",
      "2017-05-21    35.708805\n",
      "2017-05-28    36.443180\n",
      "2017-06-04    36.305336\n",
      "2017-06-11    35.406982\n",
      "2017-06-18    33.812248\n",
      "2017-06-25    34.463451\n",
      "2017-07-02    34.147350\n",
      "2017-07-09    33.921581\n",
      "2017-07-16    34.475338\n",
      "2017-07-23    35.544823\n",
      "2017-07-30    35.530556\n",
      "2017-08-06    35.347553\n",
      "2017-08-13    37.058716\n",
      "2017-08-20    37.578850\n",
      "2017-08-27    37.509659\n",
      "2017-09-03    38.526073\n",
      "2017-09-10    37.848465\n",
      "2017-09-17    37.764954\n",
      "2017-09-24    36.240326\n",
      "2017-10-01    35.920609\n",
      "2017-10-08    36.619694\n",
      "2017-10-15    37.182785\n",
      "2017-10-22    37.216187\n",
      "2017-10-29    37.261524\n",
      "2017-11-05    39.778702\n",
      "2017-11-12    41.575329\n",
      "2017-11-19    40.486813\n",
      "2017-11-26    40.702335\n",
      "2017-12-03    40.582600\n",
      "2017-12-10    40.470055\n",
      "2017-12-17    41.114178\n",
      "2017-12-24    41.748737\n",
      "2017-12-31    40.522732\n",
      "Freq: W-SUN, Name: Close, dtype: float64\n"
     ]
    }
   ],
   "source": [
    "std = aapl.resample('W').std()\n",
    "max = aapl.resample('W').max()\n",
    "min = aapl.resample('W').min()\n",
    "\n",
    "\n",
    "print(std)\n",
    "print(max)\n",
    "print(min)\n"
   ]
  },
  {
   "cell_type": "code",
   "execution_count": 188,
   "metadata": {},
   "outputs": [
    {
     "name": "stdout",
     "output_type": "stream",
     "text": [
      "Date\n",
      "2017-01-31    28.597813\n",
      "2017-02-28    32.423573\n",
      "2017-03-31    34.002258\n",
      "2017-04-30    33.999897\n",
      "2017-05-31    36.305336\n",
      "2017-06-30    34.228172\n",
      "2017-07-31    35.347553\n",
      "2017-08-31    39.129726\n",
      "2017-09-30    36.772396\n",
      "2017-10-31    40.332245\n",
      "2017-11-30    41.150105\n",
      "2017-12-31    40.522732\n",
      "Freq: M, Name: Close, dtype: float64\n"
     ]
    }
   ],
   "source": [
    "\n",
    "last_day = aapl.resample('M').agg(lambda x: x[-1])\n",
    "print(last_day)\n"
   ]
  },
  {
   "cell_type": "code",
   "execution_count": 189,
   "metadata": {},
   "outputs": [
    {
     "name": "stdout",
     "output_type": "stream",
     "text": [
      "Date\n",
      "2017-01-31    0.044770\n",
      "2017-02-28    0.068613\n",
      "2017-03-31    0.027684\n",
      "2017-04-30   -0.000348\n",
      "2017-05-31    0.046463\n",
      "2017-06-30   -0.059799\n",
      "2017-07-31    0.036446\n",
      "2017-08-31    0.097261\n",
      "2017-09-30   -0.060530\n",
      "2017-10-31    0.099018\n",
      "2017-11-30    0.033422\n",
      "2017-12-31   -0.010640\n",
      "Freq: M, Name: Close, dtype: float64\n"
     ]
    }
   ],
   "source": [
    "monthly_return = aapl.resample('M').agg(lambda x: x[-1]/x[0] - 1)\n",
    "print(monthly_return)\n"
   ]
  },
  {
   "cell_type": "code",
   "execution_count": 190,
   "metadata": {},
   "outputs": [
    {
     "name": "stdout",
     "output_type": "stream",
     "text": [
      "0.02686331455001976\n",
      "0.05225852664014416\n",
      "0.09901829189254818\n"
     ]
    }
   ],
   "source": [
    "\n",
    "print(monthly_return.mean())\n",
    "print(monthly_return.std())\n",
    "print(monthly_return.max())\n"
   ]
  },
  {
   "cell_type": "code",
   "execution_count": 191,
   "metadata": {},
   "outputs": [
    {
     "name": "stdout",
     "output_type": "stream",
     "text": [
      "Date\n",
      "2017-01-31         NaN\n",
      "2017-02-28    3.825760\n",
      "2017-03-31    1.578686\n",
      "2017-04-30   -0.002361\n",
      "2017-05-31    2.305439\n",
      "2017-06-30   -2.077164\n",
      "2017-07-31    1.119381\n",
      "2017-08-31    3.782173\n",
      "2017-09-30   -2.357330\n",
      "2017-10-31    3.559849\n",
      "2017-11-30    0.817860\n",
      "2017-12-31   -0.627373\n",
      "Freq: M, Name: Close, dtype: float64\n",
      "Date\n",
      "2017-01-31         NaN\n",
      "2017-02-28    0.133778\n",
      "2017-03-31    0.048689\n",
      "2017-04-30   -0.000069\n",
      "2017-05-31    0.067807\n",
      "2017-06-30   -0.057214\n",
      "2017-07-31    0.032703\n",
      "2017-08-31    0.107000\n",
      "2017-09-30   -0.060244\n",
      "2017-10-31    0.096808\n",
      "2017-11-30    0.020278\n",
      "2017-12-31   -0.015246\n",
      "Freq: M, Name: Close, dtype: float64\n"
     ]
    }
   ],
   "source": [
    "print(last_day.diff())\n",
    "print(last_day.pct_change())\n"
   ]
  },
  {
   "cell_type": "code",
   "execution_count": 192,
   "metadata": {},
   "outputs": [
    {
     "name": "stdout",
     "output_type": "stream",
     "text": [
      "Date\n",
      "2017-01-31    0.000000\n",
      "2017-02-28    0.133778\n",
      "2017-03-31    0.048689\n",
      "2017-04-30   -0.000069\n",
      "2017-05-31    0.067807\n",
      "2017-06-30   -0.057214\n",
      "2017-07-31    0.032703\n",
      "2017-08-31    0.107000\n",
      "2017-09-30   -0.060244\n",
      "2017-10-31    0.096808\n",
      "2017-11-30    0.020278\n",
      "2017-12-31   -0.015246\n",
      "Freq: M, Name: Close, dtype: float64\n"
     ]
    }
   ],
   "source": [
    "daily_return = last_day.pct_change()\n",
    "print(daily_return.fillna(0))\n"
   ]
  },
  {
   "cell_type": "code",
   "execution_count": 193,
   "metadata": {},
   "outputs": [
    {
     "name": "stdout",
     "output_type": "stream",
     "text": [
      "Date\n",
      "2017-01-31    0.133778\n",
      "2017-02-28    0.133778\n",
      "2017-03-31    0.048689\n",
      "2017-04-30   -0.000069\n",
      "2017-05-31    0.067807\n",
      "2017-06-30   -0.057214\n",
      "2017-07-31    0.032703\n",
      "2017-08-31    0.107000\n",
      "2017-09-30   -0.060244\n",
      "2017-10-31    0.096808\n",
      "2017-11-30    0.020278\n",
      "2017-12-31   -0.015246\n",
      "Freq: M, Name: Close, dtype: float64\n"
     ]
    }
   ],
   "source": [
    "\n",
    "daily_return = last_day.pct_change()\n",
    "print(daily_return.fillna(method='bfill'))\n"
   ]
  },
  {
   "cell_type": "code",
   "execution_count": 194,
   "metadata": {},
   "outputs": [
    {
     "data": {
      "text/plain": [
       "Date\n",
       "2017-02-28    0.133778\n",
       "2017-03-31    0.048689\n",
       "2017-04-30   -0.000069\n",
       "2017-05-31    0.067807\n",
       "2017-06-30   -0.057214\n",
       "2017-07-31    0.032703\n",
       "2017-08-31    0.107000\n",
       "2017-09-30   -0.060244\n",
       "2017-10-31    0.096808\n",
       "2017-11-30    0.020278\n",
       "2017-12-31   -0.015246\n",
       "Freq: M, Name: Close, dtype: float64"
      ]
     },
     "execution_count": 194,
     "metadata": {},
     "output_type": "execute_result"
    }
   ],
   "source": [
    "daily_return = last_day.pct_change()\n",
    "daily_return.dropna()\n"
   ]
  },
  {
   "cell_type": "code",
   "execution_count": 195,
   "metadata": {},
   "outputs": [
    {
     "name": "stdout",
     "output_type": "stream",
     "text": [
      "              AAPL    GOOG     IBM\n",
      "2017-07-03  143.50  898.70  155.58\n",
      "2017-07-04  144.09  911.71  153.67\n",
      "2017-07-05  142.73  906.69  152.36\n",
      "2017-07-06  144.18  918.59  152.94\n",
      "2017-07-07  143.77  926.99  153.49\n"
     ]
    }
   ],
   "source": [
    "import pandas as pd\n",
    "\n",
    "dict = {'AAPL': [143.5, 144.09, 142.73, 144.18, 143.77], 'GOOG': [898.7, 911.71, 906.69, 918.59, 926.99],\n",
    "        'IBM': [155.58, 153.67, 152.36, 152.94, 153.49]}\n",
    "data_index = pd.date_range('2017-07-03', periods=5, freq='D')\n",
    "df = pd.DataFrame(dict, index=data_index)\n",
    "print(df)\n"
   ]
  },
  {
   "cell_type": "code",
   "execution_count": 197,
   "metadata": {},
   "outputs": [
    {
     "name": "stdout",
     "output_type": "stream",
     "text": [
      "              MSFT      FB    NFIX\n",
      "2017-07-03  153.67  144.09  911.71\n",
      "2017-07-04  152.36  142.73  906.69\n",
      "2017-07-05  152.94  144.18  918.59\n",
      "2017-07-06  153.49  143.77  926.99\n",
      "2017-07-07  155.58  143.50  898.70\n"
     ]
    }
   ],
   "source": [
    "dict1 = {\n",
    "    'MSFT': [153.67, 152.36, 152.94, 153.49, 155.58],\n",
    "    'FB': [144.09, 142.73, 144.18, 143.77, 143.5],\n",
    "    'NFIX': [911.71, 906.69, 918.59, 926.99, 898.7],\n",
    "}\n",
    "data_index1 = pd.date_range('2017-07-03', periods=5, freq='D')\n",
    "df1 = pd.DataFrame(dict1, index=data_index1)\n",
    "print(df1)\n"
   ]
  },
  {
   "cell_type": "code",
   "execution_count": 198,
   "metadata": {},
   "outputs": [
    {
     "name": "stdout",
     "output_type": "stream",
     "text": [
      "Date\n",
      "2017-12-22    41.906776\n",
      "2017-12-26    40.843601\n",
      "2017-12-27    40.850788\n",
      "2017-12-28    40.965725\n",
      "2017-12-29    40.522732\n",
      "Name: Close, dtype: float64\n",
      "Date\n",
      "2017-12-22     65397600\n",
      "2017-12-26    132742000\n",
      "2017-12-27     85992800\n",
      "2017-12-28     65920800\n",
      "2017-12-29    103999600\n",
      "Name: Volume, dtype: int64\n"
     ]
    }
   ],
   "source": [
    "df = aapl_table\n",
    "print(df.Close.tail(5))\n",
    "print(df['Volume'].tail(5))\n"
   ]
  },
  {
   "cell_type": "code",
   "execution_count": 199,
   "metadata": {},
   "outputs": [
    {
     "name": "stdout",
     "output_type": "stream",
     "text": [
      "Date\n",
      "2017-12-22    41.906776\n",
      "2017-12-26    40.843601\n",
      "2017-12-27    40.850788\n",
      "2017-12-28    40.965725\n",
      "2017-12-29    40.522732\n",
      "Name: Close, dtype: float64\n",
      "Date\n",
      "2017-12-19    109745600\n",
      "2017-12-20     93902400\n",
      "2017-12-21     83799600\n",
      "2017-12-22     65397600\n",
      "2017-12-26    132742000\n",
      "2017-12-27     85992800\n",
      "2017-12-28     65920800\n",
      "2017-12-29    103999600\n",
      "Name: Volume, dtype: int64\n"
     ]
    }
   ],
   "source": [
    "df1 = aapl_table\n",
    "print(df1.Close.tail())\n",
    "print(df1['Volume'].tail(8))\n"
   ]
  },
  {
   "cell_type": "code",
   "execution_count": 201,
   "metadata": {},
   "outputs": [
    {
     "name": "stdout",
     "output_type": "stream",
     "text": [
      "                 Open       High        Low      Close     Volume  Dividends  \\\n",
      "Date                                                                           \n",
      "2017-01-31  28.550681  28.607239  28.425779  28.597813  196804000        0.0   \n",
      "2017-02-28  32.444873  32.530080  32.354932  32.423573   93931600        0.0   \n",
      "2017-03-31  34.016459  34.146637  33.848410  34.002258   78646800        0.0   \n",
      "2017-04-30  34.104039  34.153745  33.909959  33.999897   83441600        0.0   \n",
      "2017-05-31  36.592909  36.640441  36.215027  36.305336   97804800        0.0   \n",
      "2017-06-30  34.330365  34.451576  34.171132  34.228172   92096400        0.0   \n",
      "2017-07-31  35.625618  35.727815  35.204958  35.347553   79383600        0.0   \n",
      "2017-08-31  39.043832  39.253797  39.005656  39.129726  107140400        0.0   \n",
      "2017-09-30  36.555277  36.774784  36.266574  36.772396  105199200        0.0   \n",
      "2017-10-31  40.060246  40.477789  39.831196  40.332245  144187200        0.0   \n",
      "2017-11-30  40.810077  41.219544  40.333567  41.150105  166108800        0.0   \n",
      "2017-12-31  40.831629  40.848389  40.520339  40.522732  103999600        0.0   \n",
      "\n",
      "            Stock Splits  \n",
      "Date                      \n",
      "2017-01-31             0  \n",
      "2017-02-28             0  \n",
      "2017-03-31             0  \n",
      "2017-04-30             0  \n",
      "2017-05-31             0  \n",
      "2017-06-30             0  \n",
      "2017-07-31             0  \n",
      "2017-08-31             0  \n",
      "2017-09-30             0  \n",
      "2017-10-31             0  \n",
      "2017-11-30             0  \n",
      "2017-12-31             0  \n"
     ]
    },
    {
     "name": "stderr",
     "output_type": "stream",
     "text": [
      "<ipython-input-201-44c482e35a3f>:1: FutureWarning: Indexing a DataFrame with a datetimelike index using a single string to slice the rows, like `frame[string]`, is deprecated and will be removed in a future version. Use `frame.loc[string]` instead.\n",
      "  aapl_2016 = df['2017']\n"
     ]
    }
   ],
   "source": [
    "aapl_2016 = df['2017']\n",
    "aapl_month = aapl_2016.resample('M').agg(lambda x: x[-1])\n",
    "print(aapl_month)\n"
   ]
  },
  {
   "cell_type": "code",
   "execution_count": 202,
   "metadata": {},
   "outputs": [
    {
     "name": "stdout",
     "output_type": "stream",
     "text": [
      "                 Open       High        Low      Close\n",
      "Date                                                  \n",
      "2017-01-31  28.550681  28.607239  28.425779  28.597813\n",
      "2017-02-28  32.444873  32.530080  32.354932  32.423573\n",
      "2017-03-31  34.016459  34.146637  33.848410  34.002258\n",
      "2017-04-30  34.104039  34.153745  33.909959  33.999897\n",
      "2017-05-31  36.592909  36.640441  36.215027  36.305336\n",
      "2017-06-30  34.330365  34.451576  34.171132  34.228172\n",
      "2017-07-31  35.625618  35.727815  35.204958  35.347553\n",
      "2017-08-31  39.043832  39.253797  39.005656  39.129726\n",
      "2017-09-30  36.555277  36.774784  36.266574  36.772396\n",
      "2017-10-31  40.060246  40.477789  39.831196  40.332245\n",
      "2017-11-30  40.810077  41.219544  40.333567  41.150105\n",
      "2017-12-31  40.831629  40.848389  40.520339  40.522732\n"
     ]
    }
   ],
   "source": [
    "aapl_bar = aapl_month[['Open', 'High', 'Low', 'Close']]\n",
    "print(aapl_bar)\n"
   ]
  },
  {
   "cell_type": "code",
   "execution_count": 203,
   "metadata": {},
   "outputs": [
    {
     "data": {
      "text/plain": [
       "<AxesSubplot:xlabel='Date'>"
      ]
     },
     "execution_count": 203,
     "metadata": {},
     "output_type": "execute_result"
    },
    {
     "data": {
      "image/png": "[encoded data removed]",
      "text/plain": [
       "<Figure size 432x288 with 1 Axes>"
      ]
     },
     "metadata": {
      "needs_background": "light"
     },
     "output_type": "display_data"
    }
   ],
   "source": [
    "aapl_bar.plot()"
   ]
  },
  {
   "cell_type": "code",
   "execution_count": 204,
   "metadata": {},
   "outputs": [
    {
     "name": "stdout",
     "output_type": "stream",
     "text": [
      "Empty DataFrame\n",
      "Columns: [Open, High, Low, Close]\n",
      "Index: []\n"
     ]
    }
   ],
   "source": [
    "print(aapl_month.loc['2016-03':'2016-06', ['Open', 'High', 'Low', 'Close']])\n"
   ]
  },
  {
   "cell_type": "code",
   "execution_count": 206,
   "metadata": {},
   "outputs": [
    {
     "name": "stdout",
     "output_type": "stream",
     "text": [
      "                 Open       High        Low      Close\n",
      "Date                                                  \n",
      "2017-03-31  34.016459  34.146637  33.848410  34.002258\n",
      "2017-04-30  34.104039  34.153745  33.909959  33.999897\n",
      "2017-05-31  36.592909  36.640441  36.215027  36.305336\n",
      "2017-06-30  34.330365  34.451576  34.171132  34.228172\n"
     ]
    }
   ],
   "source": [
    "print(aapl_month.loc['2017-03':'2017-06', ['Open', 'High', 'Low', 'Close']])\n"
   ]
  },
  {
   "cell_type": "code",
   "execution_count": 207,
   "metadata": {},
   "outputs": [
    {
     "name": "stdout",
     "output_type": "stream",
     "text": [
      "                 Open       High        Low      Close\n",
      "Date                                                  \n",
      "2017-05-31  36.592909  36.640441  36.215027  36.305336\n",
      "2017-08-31  39.043832  39.253797  39.005656  39.129726\n",
      "2017-09-30  36.555277  36.774784  36.266574  36.772396\n",
      "2017-10-31  40.060246  40.477789  39.831196  40.332245\n",
      "2017-11-30  40.810077  41.219544  40.333567  41.150105\n",
      "2017-12-31  40.831629  40.848389  40.520339  40.522732\n"
     ]
    }
   ],
   "source": [
    "import numpy as np\n",
    "\n",
    "above = aapl_bar[aapl_bar.Close > np.mean(aapl_bar.Close)]\n",
    "print(above)\n"
   ]
  },
  {
   "cell_type": "code",
   "execution_count": 208,
   "metadata": {},
   "outputs": [
    {
     "name": "stdout",
     "output_type": "stream",
     "text": [
      "                 Open       High        Low      Close  rate_return\n",
      "Date                                                               \n",
      "2017-01-31  28.550681  28.607239  28.425779  28.597813          NaN\n",
      "2017-02-28  32.444873  32.530080  32.354932  32.423573     0.133778\n",
      "2017-03-31  34.016459  34.146637  33.848410  34.002258     0.048689\n",
      "2017-04-30  34.104039  34.153745  33.909959  33.999897    -0.000069\n",
      "2017-05-31  36.592909  36.640441  36.215027  36.305336     0.067807\n",
      "2017-06-30  34.330365  34.451576  34.171132  34.228172    -0.057214\n",
      "2017-07-31  35.625618  35.727815  35.204958  35.347553     0.032703\n",
      "2017-08-31  39.043832  39.253797  39.005656  39.129726     0.107000\n",
      "2017-09-30  36.555277  36.774784  36.266574  36.772396    -0.060244\n",
      "2017-10-31  40.060246  40.477789  39.831196  40.332245     0.096808\n",
      "2017-11-30  40.810077  41.219544  40.333567  41.150105     0.020278\n",
      "2017-12-31  40.831629  40.848389  40.520339  40.522732    -0.015246\n"
     ]
    },
    {
     "name": "stderr",
     "output_type": "stream",
     "text": [
      "<ipython-input-208-f3fe1efaa757>:1: SettingWithCopyWarning: \n",
      "A value is trying to be set on a copy of a slice from a DataFrame.\n",
      "Try using .loc[row_indexer,col_indexer] = value instead\n",
      "\n",
      "See the caveats in the documentation: https://pandas.pydata.org/pandas-docs/stable/user_guide/indexing.html#returning-a-view-versus-a-copy\n",
      "  aapl_bar['rate_return'] = aapl_bar.Close.pct_change()\n"
     ]
    }
   ],
   "source": [
    "aapl_bar['rate_return'] = aapl_bar.Close.pct_change()\n",
    "print(aapl_bar)\n"
   ]
  },
  {
   "cell_type": "code",
   "execution_count": 210,
   "metadata": {},
   "outputs": [
    {
     "name": "stdout",
     "output_type": "stream",
     "text": [
      "             Open   High    Low  Close  rate_return\n",
      "Date                                               \n",
      "2017-01-31  False  False  False  False         True\n",
      "2017-02-28  False  False  False  False        False\n",
      "2017-03-31  False  False  False  False        False\n",
      "2017-04-30  False  False  False  False        False\n",
      "2017-05-31  False  False  False  False        False\n",
      "2017-06-30  False  False  False  False        False\n",
      "2017-07-31  False  False  False  False        False\n",
      "2017-08-31  False  False  False  False        False\n",
      "2017-09-30  False  False  False  False        False\n",
      "2017-10-31  False  False  False  False        False\n",
      "2017-11-30  False  False  False  False        False\n",
      "2017-12-31  False  False  False  False        False\n",
      "---------------------------------------------\n",
      "         Open   High    Low  Close rate_return\n",
      "count      12     12     12     12          12\n",
      "unique      1      1      1      1           2\n",
      "top     False  False  False  False       False\n",
      "freq       12     12     12     12          11\n"
     ]
    }
   ],
   "source": [
    "missing = aapl_bar.isnull()\n",
    "print(missing)\n",
    "print('---------------------------------------------')\n",
    "print(missing.describe())"
   ]
  },
  {
   "cell_type": "code",
   "execution_count": 212,
   "metadata": {},
   "outputs": [
    {
     "data": {
      "text/plain": [
       "Open           0\n",
       "High           0\n",
       "Low            0\n",
       "Close          0\n",
       "rate_return    1\n",
       "dtype: int64"
      ]
     },
     "execution_count": 212,
     "metadata": {},
     "output_type": "execute_result"
    }
   ],
   "source": [
    "missing.sum()"
   ]
  },
  {
   "cell_type": "code",
   "execution_count": 213,
   "metadata": {},
   "outputs": [
    {
     "name": "stdout",
     "output_type": "stream",
     "text": [
      "             Open   High    Low  Close  rate_return\n",
      "Date                                               \n",
      "2017-01-31  False  False  False  False         True\n"
     ]
    }
   ],
   "source": [
    "\n",
    "print(missing[missing.rate_return == True])\n"
   ]
  },
  {
   "cell_type": "code",
   "execution_count": 214,
   "metadata": {},
   "outputs": [
    {
     "name": "stdout",
     "output_type": "stream",
     "text": [
      "                 Open       High        Low      Close  rate_return\n",
      "Date                                                               \n",
      "2017-02-28  32.444873  32.530080  32.354932  32.423573     0.133778\n",
      "2017-03-31  34.016459  34.146637  33.848410  34.002258     0.048689\n",
      "2017-04-30  34.104039  34.153745  33.909959  33.999897    -0.000069\n",
      "2017-05-31  36.592909  36.640441  36.215027  36.305336     0.067807\n",
      "2017-06-30  34.330365  34.451576  34.171132  34.228172    -0.057214\n",
      "2017-07-31  35.625618  35.727815  35.204958  35.347553     0.032703\n",
      "2017-08-31  39.043832  39.253797  39.005656  39.129726     0.107000\n",
      "2017-09-30  36.555277  36.774784  36.266574  36.772396    -0.060244\n",
      "2017-10-31  40.060246  40.477789  39.831196  40.332245     0.096808\n",
      "2017-11-30  40.810077  41.219544  40.333567  41.150105     0.020278\n",
      "2017-12-31  40.831629  40.848389  40.520339  40.522732    -0.015246\n",
      "\n",
      "--------------------------------------------------\n",
      "\n",
      "                 Open       High        Low      Close  rate_return\n",
      "Date                                                               \n",
      "2017-01-31  28.550681  28.607239  28.425779  28.597813     0.000000\n",
      "2017-02-28  32.444873  32.530080  32.354932  32.423573     0.133778\n",
      "2017-03-31  34.016459  34.146637  33.848410  34.002258     0.048689\n",
      "2017-04-30  34.104039  34.153745  33.909959  33.999897    -0.000069\n",
      "2017-05-31  36.592909  36.640441  36.215027  36.305336     0.067807\n",
      "2017-06-30  34.330365  34.451576  34.171132  34.228172    -0.057214\n",
      "2017-07-31  35.625618  35.727815  35.204958  35.347553     0.032703\n",
      "2017-08-31  39.043832  39.253797  39.005656  39.129726     0.107000\n",
      "2017-09-30  36.555277  36.774784  36.266574  36.772396    -0.060244\n",
      "2017-10-31  40.060246  40.477789  39.831196  40.332245     0.096808\n",
      "2017-11-30  40.810077  41.219544  40.333567  41.150105     0.020278\n",
      "2017-12-31  40.831629  40.848389  40.520339  40.522732    -0.015246\n"
     ]
    }
   ],
   "source": [
    "drop = aapl_bar.dropna()\n",
    "print(drop)\n",
    "print('\\n--------------------------------------------------\\n')\n",
    "fill = aapl_bar.fillna(0)\n",
    "print(fill)\n"
   ]
  },
  {
   "cell_type": "code",
   "execution_count": 215,
   "metadata": {},
   "outputs": [
    {
     "name": "stdout",
     "output_type": "stream",
     "text": [
      "     AAPL    GOOG\n",
      "0  143.50  898.70\n",
      "1  144.09  911.71\n",
      "2  142.73  906.69\n",
      "3  144.18  918.59\n",
      "4  143.77  926.99\n"
     ]
    }
   ],
   "source": [
    "\n",
    "s1 = pd.Series([143.5, 144.09, 142.73, 144.18, 143.77], name='AAPL')\n",
    "s2 = pd.Series([898.7, 911.71, 906.69, 918.59, 926.99], name='GOOG')\n",
    "data_frame = pd.concat([s1, s2], axis=1)\n",
    "print(data_frame)\n"
   ]
  },
  {
   "cell_type": "code",
   "execution_count": 216,
   "metadata": {},
   "outputs": [
    {
     "name": "stdout",
     "output_type": "stream",
     "text": [
      "Date\n",
      "2017-01-31    3.353330\n",
      "2017-02-28    3.478886\n",
      "2017-03-31    3.526427\n",
      "2017-04-30    3.526357\n",
      "2017-05-31    3.591965\n",
      "2017-06-30    3.533049\n",
      "2017-07-31    3.565229\n",
      "2017-08-31    3.666882\n",
      "2017-09-30    3.604747\n",
      "2017-10-31    3.697151\n",
      "2017-11-30    3.717226\n",
      "2017-12-31    3.701863\n",
      "Freq: M, Name: log_price, dtype: float64\n",
      "\n",
      "---------------------- separate line--------------------\n",
      "\n",
      "                 Open       High        Low      Close  rate_return  log_price\n",
      "Date                                                                          \n",
      "2017-01-31  28.550681  28.607239  28.425779  28.597813          NaN   3.353330\n",
      "2017-02-28  32.444873  32.530080  32.354932  32.423573     0.133778   3.478886\n",
      "2017-03-31  34.016459  34.146637  33.848410  34.002258     0.048689   3.526427\n",
      "2017-04-30  34.104039  34.153745  33.909959  33.999897    -0.000069   3.526357\n",
      "2017-05-31  36.592909  36.640441  36.215027  36.305336     0.067807   3.591965\n",
      "2017-06-30  34.330365  34.451576  34.171132  34.228172    -0.057214   3.533049\n",
      "2017-07-31  35.625618  35.727815  35.204958  35.347553     0.032703   3.565229\n",
      "2017-08-31  39.043832  39.253797  39.005656  39.129726     0.107000   3.666882\n",
      "2017-09-30  36.555277  36.774784  36.266574  36.772396    -0.060244   3.604747\n",
      "2017-10-31  40.060246  40.477789  39.831196  40.332245     0.096808   3.697151\n",
      "2017-11-30  40.810077  41.219544  40.333567  41.150105     0.020278   3.717226\n",
      "2017-12-31  40.831629  40.848389  40.520339  40.522732    -0.015246   3.701863\n"
     ]
    }
   ],
   "source": [
    "log_price = np.log(aapl_bar.Close)\n",
    "log_price.name = 'log_price'\n",
    "print(log_price)\n",
    "print('\\n---------------------- separate line--------------------\\n')\n",
    "concat = pd.concat([aapl_bar, log_price], axis=1)\n",
    "print(concat)\n"
   ]
  },
  {
   "cell_type": "code",
   "execution_count": 217,
   "metadata": {},
   "outputs": [
    {
     "name": "stdout",
     "output_type": "stream",
     "text": [
      "               Volume  Stock Splits\n",
      "Date                               \n",
      "2017-01-31  196804000             0\n",
      "2017-02-28   93931600             0\n",
      "2017-03-31   78646800             0\n",
      "2017-04-30   83441600             0\n",
      "\n",
      "---------------------- separate line--------------------\n",
      "\n",
      "                 Open       High        Low      Close\n",
      "Date                                                  \n",
      "2017-01-31  28.550681  28.607239  28.425779  28.597813\n",
      "2017-02-28  32.444873  32.530080  32.354932  32.423573\n",
      "2017-03-31  34.016459  34.146637  33.848410  34.002258\n",
      "2017-04-30  34.104039  34.153745  33.909959  33.999897\n"
     ]
    }
   ],
   "source": [
    "df_volume = aapl_table.loc['2016-10':'2017-04', ['Volume',\n",
    "                                                 'Stock Splits']].resample('M').agg(lambda x: x[-1])\n",
    "print(df_volume)\n",
    "print('\\n---------------------- separate line--------------------\\n')\n",
    "df_2017 = aapl_table.loc['2016-10':'2017-04', ['Open',\n",
    "                                               'High', 'Low', 'Close']].resample('M').agg(lambda x: x[-1])\n",
    "print(df_2017)\n"
   ]
  },
  {
   "cell_type": "code",
   "execution_count": 218,
   "metadata": {},
   "outputs": [
    {
     "name": "stdout",
     "output_type": "stream",
     "text": [
      "                 Open       High        Low      Close  rate_return  \\\n",
      "Date                                                                  \n",
      "2017-01-31  28.550681  28.607239  28.425779  28.597813          NaN   \n",
      "2017-02-28  32.444873  32.530080  32.354932  32.423573     0.133778   \n",
      "2017-03-31  34.016459  34.146637  33.848410  34.002258     0.048689   \n",
      "2017-04-30  34.104039  34.153745  33.909959  33.999897    -0.000069   \n",
      "2017-05-31  36.592909  36.640441  36.215027  36.305336     0.067807   \n",
      "2017-06-30  34.330365  34.451576  34.171132  34.228172    -0.057214   \n",
      "2017-07-31  35.625618  35.727815  35.204958  35.347553     0.032703   \n",
      "2017-08-31  39.043832  39.253797  39.005656  39.129726     0.107000   \n",
      "2017-09-30  36.555277  36.774784  36.266574  36.772396    -0.060244   \n",
      "2017-10-31  40.060246  40.477789  39.831196  40.332245     0.096808   \n",
      "2017-11-30  40.810077  41.219544  40.333567  41.150105     0.020278   \n",
      "2017-12-31  40.831629  40.848389  40.520339  40.522732    -0.015246   \n",
      "\n",
      "                 Volume  Stock Splits  \n",
      "Date                                   \n",
      "2017-01-31  196804000.0           0.0  \n",
      "2017-02-28   93931600.0           0.0  \n",
      "2017-03-31   78646800.0           0.0  \n",
      "2017-04-30   83441600.0           0.0  \n",
      "2017-05-31          NaN           NaN  \n",
      "2017-06-30          NaN           NaN  \n",
      "2017-07-31          NaN           NaN  \n",
      "2017-08-31          NaN           NaN  \n",
      "2017-09-30          NaN           NaN  \n",
      "2017-10-31          NaN           NaN  \n",
      "2017-11-30          NaN           NaN  \n",
      "2017-12-31          NaN           NaN  \n"
     ]
    }
   ],
   "source": [
    "concat = pd.concat([aapl_bar, df_volume], axis=1)\n",
    "print(concat)\n"
   ]
  },
  {
   "cell_type": "code",
   "execution_count": 219,
   "metadata": {},
   "outputs": [
    {
     "name": "stdout",
     "output_type": "stream",
     "text": [
      "                 Open       High        Low      Close  rate_return  \\\n",
      "Date                                                                  \n",
      "2017-01-31  28.550681  28.607239  28.425779  28.597813          NaN   \n",
      "2017-02-28  32.444873  32.530080  32.354932  32.423573     0.133778   \n",
      "2017-03-31  34.016459  34.146637  33.848410  34.002258     0.048689   \n",
      "2017-04-30  34.104039  34.153745  33.909959  33.999897    -0.000069   \n",
      "\n",
      "               Volume  Stock Splits  \n",
      "Date                                 \n",
      "2017-01-31  196804000             0  \n",
      "2017-02-28   93931600             0  \n",
      "2017-03-31   78646800             0  \n",
      "2017-04-30   83441600             0  \n"
     ]
    }
   ],
   "source": [
    "concat = pd.concat([aapl_bar, df_volume], axis=1, join='inner')\n",
    "print(concat)\n"
   ]
  },
  {
   "cell_type": "code",
   "execution_count": 220,
   "metadata": {},
   "outputs": [
    {
     "name": "stdout",
     "output_type": "stream",
     "text": [
      "                 Open       High        Low      Close  rate_return\n",
      "Date                                                               \n",
      "2017-01-31  28.550681  28.607239  28.425779  28.597813          NaN\n",
      "2017-02-28  32.444873  32.530080  32.354932  32.423573     0.133778\n",
      "2017-03-31  34.016459  34.146637  33.848410  34.002258     0.048689\n",
      "2017-04-30  34.104039  34.153745  33.909959  33.999897    -0.000069\n",
      "2017-05-31  36.592909  36.640441  36.215027  36.305336     0.067807\n",
      "2017-06-30  34.330365  34.451576  34.171132  34.228172    -0.057214\n",
      "2017-07-31  35.625618  35.727815  35.204958  35.347553     0.032703\n",
      "2017-08-31  39.043832  39.253797  39.005656  39.129726     0.107000\n",
      "2017-09-30  36.555277  36.774784  36.266574  36.772396    -0.060244\n",
      "2017-10-31  40.060246  40.477789  39.831196  40.332245     0.096808\n",
      "2017-11-30  40.810077  41.219544  40.333567  41.150105     0.020278\n",
      "2017-12-31  40.831629  40.848389  40.520339  40.522732    -0.015246\n",
      "2017-01-31  28.550681  28.607239  28.425779  28.597813          NaN\n",
      "2017-02-28  32.444873  32.530080  32.354932  32.423573          NaN\n",
      "2017-03-31  34.016459  34.146637  33.848410  34.002258          NaN\n",
      "2017-04-30  34.104039  34.153745  33.909959  33.999897          NaN\n"
     ]
    }
   ],
   "source": [
    "append = aapl_bar.append(df_2017)\n",
    "print(append)\n"
   ]
  },
  {
   "cell_type": "code",
   "execution_count": 221,
   "metadata": {},
   "outputs": [
    {
     "name": "stdout",
     "output_type": "stream",
     "text": [
      "                 Open       High        Low      Close  rate_return\n",
      "Date                                                               \n",
      "2017-01-31  28.550681  28.607239  28.425779  28.597813          NaN\n",
      "2017-02-28  32.444873  32.530080  32.354932  32.423573     0.133778\n",
      "2017-03-31  34.016459  34.146637  33.848410  34.002258     0.048689\n",
      "2017-04-30  34.104039  34.153745  33.909959  33.999897    -0.000069\n",
      "2017-05-31  36.592909  36.640441  36.215027  36.305336     0.067807\n",
      "2017-06-30  34.330365  34.451576  34.171132  34.228172    -0.057214\n",
      "2017-07-31  35.625618  35.727815  35.204958  35.347553     0.032703\n",
      "2017-08-31  39.043832  39.253797  39.005656  39.129726     0.107000\n",
      "2017-09-30  36.555277  36.774784  36.266574  36.772396    -0.060244\n",
      "2017-10-31  40.060246  40.477789  39.831196  40.332245     0.096808\n",
      "2017-11-30  40.810077  41.219544  40.333567  41.150105     0.020278\n",
      "2017-12-31  40.831629  40.848389  40.520339  40.522732    -0.015246\n",
      "2017-01-31  28.550681  28.607239  28.425779  28.597813          NaN\n",
      "2017-02-28  32.444873  32.530080  32.354932  32.423573          NaN\n",
      "2017-03-31  34.016459  34.146637  33.848410  34.002258          NaN\n",
      "2017-04-30  34.104039  34.153745  33.909959  33.999897          NaN\n"
     ]
    }
   ],
   "source": [
    "concat = pd.concat([aapl_bar, df_2017], axis=0)\n",
    "print(concat)\n"
   ]
  },
  {
   "cell_type": "code",
   "execution_count": 222,
   "metadata": {},
   "outputs": [
    {
     "name": "stdout",
     "output_type": "stream",
     "text": [
      "                 Open       High        Low      Close  rate_return     Change\n",
      "Date                                                                          \n",
      "2017-01-31  28.550681  28.607239  28.425779  28.597813          NaN        NaN\n",
      "2017-02-28  32.444873  32.530080  32.354932  32.423573     0.133778        NaN\n",
      "2017-03-31  34.016459  34.146637  33.848410  34.002258     0.048689        NaN\n",
      "2017-04-30  34.104039  34.153745  33.909959  33.999897    -0.000069        NaN\n",
      "2017-05-31  36.592909  36.640441  36.215027  36.305336     0.067807        NaN\n",
      "2017-06-30  34.330365  34.451576  34.171132  34.228172    -0.057214        NaN\n",
      "2017-07-31  35.625618  35.727815  35.204958  35.347553     0.032703        NaN\n",
      "2017-08-31  39.043832  39.253797  39.005656  39.129726     0.107000        NaN\n",
      "2017-09-30  36.555277  36.774784  36.266574  36.772396    -0.060244        NaN\n",
      "2017-10-31  40.060246  40.477789  39.831196  40.332245     0.096808        NaN\n",
      "2017-11-30  40.810077  41.219544  40.333567  41.150105     0.020278        NaN\n",
      "2017-12-31  40.831629  40.848389  40.520339  40.522732    -0.015246        NaN\n",
      "2017-01-31        NaN  28.607239  28.425779  28.597813          NaN  28.550681\n",
      "2017-02-28        NaN  32.530080  32.354932  32.423573          NaN  32.444873\n",
      "2017-03-31        NaN  34.146637  33.848410  34.002258          NaN  34.016459\n",
      "2017-04-30        NaN  34.153745  33.909959  33.999897          NaN  34.104039\n"
     ]
    }
   ],
   "source": [
    "df_2017.columns = ['Change', 'High', 'Low', 'Close']\n",
    "concat = pd.concat([aapl_bar, df_2017], axis=0)\n",
    "print(concat)\n"
   ]
  },
  {
   "cell_type": "code",
   "execution_count": null,
   "metadata": {},
   "outputs": [],
   "source": []
  }
 ],
 "metadata": {
  "interpreter": {
   "hash": "b3ba2566441a7c06988d0923437866b63cedc61552a5af99d1f4fb67d367b25f"
  },
  "kernelspec": {
   "display_name": "Python 3.8.8 64-bit ('base': conda)",
   "name": "python3"
  },
  "language_info": {
   "codemirror_mode": {
    "name": "ipython",
    "version": 3
   },
   "file_extension": ".py",
   "mimetype": "text/x-python",
   "name": "python",
   "nbconvert_exporter": "python",
   "pygments_lexer": "ipython3",
   "version": "3.8.8"
  },
  "orig_nbformat": 4
 },
 "nbformat": 4,
 "nbformat_minor": 2
}

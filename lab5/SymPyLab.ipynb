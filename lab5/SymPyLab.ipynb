{
  "cells": [
    {
      "cell_type": "markdown",
      "metadata": {
        "id": "vtY1shFnMal_"
      },
      "source": [
        "# SymPyLab\n",
        "\n",
        "SymPy’s documentation\n",
        "- https://docs.sympy.org/latest/index.html\n"
      ]
    },
    {
      "cell_type": "markdown",
      "metadata": {
        "id": "2U0fAIf5G4rR"
      },
      "source": [
        "## SymPy’s polynomials \n",
        "- <a href='https://docs.sympy.org/latest/modules/polys/basics.html#polynomials'>Simpy docs</a>\n",
        "\n",
        "- $(x-1)(x-2)(x-3)(x-4)(x-5) = x^5 - 15 x^4  + 85 x^3 - 225 x^2 + 274 x - 120$\n",
        "\n",
        "- $(x^5 - 15 x^4  + 85 x^3 - 225 x^2 + 274 x - 120) / (x-1) = x^4  - 14 x^3  + 71 x^2  - 154 x + 120$"
      ]
    },
    {
      "cell_type": "markdown",
      "metadata": {
        "id": "GSRpl42A6UXg"
      },
      "source": [
        "<img src=\"https://raw.githubusercontent.com/gjhernandezp/algorithms/master/SymPyLab/sympylabwolfram1.jpg\" /> <img src=\"https://raw.githubusercontent.com/gjhernandezp/algorithms/master/SymPyLab/sympylabwolfram3.jpg\" />\n"
      ]
    },
    {
      "cell_type": "code",
      "execution_count": 16,
      "metadata": {
        "colab": {
          "base_uri": "https://localhost:8080/"
        },
        "id": "Fw1yPZWLMb5P",
        "outputId": "936dd6ec-8790-4fd9-a367-cc2b9e9e0b64"
      },
      "outputs": [
        {
          "name": "stdout",
          "output_type": "stream",
          "text": [
            "x**4 - 14*x**3 + 71*x**2 - 154*x + 120\n",
            "0\n",
            "x**3 - 12*x**2 + 47*x - 60\n",
            "0\n",
            "x**2 - 9*x + 20\n",
            "0\n",
            "x - 5\n",
            "0\n"
          ]
        }
      ],
      "source": [
        "from sympy import Symbol\n",
        "from sympy import div\n",
        "\n",
        "x = Symbol('x')\n",
        "\n",
        "p = x**5 - 15*x**4  + 85*x**3 - 225*x**2 + 274*x - 120\n",
        "\n",
        "p, r = div(p,  x-1)\n",
        "\n",
        "print(p)\n",
        "print(r)\n",
        "\n",
        "p, r = div(p,  x-2)\n",
        "\n",
        "print(p)\n",
        "print(r)\n",
        "\n",
        "p, r = div(p,  x-3)\n",
        "\n",
        "print(p)\n",
        "print(r)\n",
        "\n",
        "p, r = div(p,  x-4)\n",
        "\n",
        "print(p)\n",
        "print(r)\n",
        "\n"
      ]
    },
    {
      "cell_type": "code",
      "execution_count": 2,
      "metadata": {
        "colab": {
          "base_uri": "https://localhost:8080/"
        },
        "id": "gQ-VwywTarYw",
        "outputId": "bb5ea56c-21e7-4b1e-d157-1e08507eae57"
      },
      "outputs": [
        {
          "name": "stdout",
          "output_type": "stream",
          "text": [
            "x**4 - 9*x**3 + 31*x**2 - 39*x + 40\n",
            "120\n"
          ]
        }
      ],
      "source": [
        "p = x**5 - 15*x**4  + 85*x**3 - 225*x**2 + 274*x - 120\n",
        "\n",
        "p, r = div(p,  x-6)\n",
        "\n",
        "print(p)\n",
        "print(r)"
      ]
    },
    {
      "cell_type": "markdown",
      "metadata": {},
      "source": [
        "### Our examples for show `simpy` polinomials"
      ]
    },
    {
      "cell_type": "markdown",
      "metadata": {},
      "source": [
        "In wolfram we can define the function:\n",
        "\n",
        "$$ (x-1)(x-2)(x-8)(x-1)(x-7)= x^5 - 19 x^4 + 121 x^3 - 301 x^2 + 310 x - 112$$\n",
        "\n",
        "<img src = \"https://drive.google.com/uc?export=view&id=1ZsgmIu5H6wNgrr8z4mCxTraVmjHsoQwv\" /> "
      ]
    },
    {
      "cell_type": "code",
      "execution_count": 20,
      "metadata": {},
      "outputs": [
        {
          "name": "stdout",
          "output_type": "stream",
          "text": [
            "x**4 - 18*x**3 + 103*x**2 - 198*x + 112\n",
            "0\n",
            "x**3 - 16*x**2 + 71*x - 56\n",
            "0\n",
            "x**2 - 8*x + 7\n",
            "0\n",
            "x - 7\n",
            "0\n",
            "1\n",
            "0\n"
          ]
        }
      ],
      "source": [
        "from sympy import Symbol, div\n",
        "\n",
        "\n",
        "def calc_div(p, x):\n",
        "    p, r = div(p,  x)\n",
        "    print(p)\n",
        "    print(r)\n",
        "    return p\n",
        "\n",
        "\n",
        "x = Symbol('x')\n",
        "\n",
        "p = x ** 5 - 19 * x ** 4 + 121 * x ** 3 - 301 * x ** 2 + 310 * x - 112\n",
        "\n",
        "p=calc_div(p, x-1)\n",
        "p=calc_div(p, x-2)\n",
        "p=calc_div(p, x-8)\n",
        "p=calc_div(p, x-1)\n",
        "p=calc_div(p, x-7)\n"
      ]
    },
    {
      "cell_type": "markdown",
      "metadata": {
        "id": "LrP1xT6VKZrE"
      },
      "source": [
        "## SymPy’s polynomial simple univariate polynomial factorization\n",
        "- https://docs.sympy.org/latest/modules/polys/wester.html#simple-univariate-polynomial-factorization\n",
        "- factor($x^5+2\\sqrt{e}x^4-\\pi^2x^3-81x^3-2\\sqrt{e}\\pi^2x^2-162\\sqrt{e}x^2+81\\pi^2x+162\\sqrt{e}\\pi^2$)"
      ]
    },
    {
      "cell_type": "markdown",
      "metadata": {
        "id": "2NPChCoPLsls"
      },
      "source": [
        "<img src=\"https://i.ibb.co/WB4bx9D/Whats-App-Image-2021-11-02-at-10-03-00.jpg\" />\n"
      ]
    },
    {
      "cell_type": "code",
      "execution_count": 21,
      "metadata": {
        "colab": {
          "base_uri": "https://localhost:8080/",
          "height": 39
        },
        "id": "i2vHjXOIKvQu",
        "outputId": "19fce63c-a15a-4e9b-f059-df47332723e0"
      },
      "outputs": [
        {
          "data": {
            "text/latex": [
              "$\\displaystyle \\left(x - 9\\right) \\left(x + 9\\right) \\left(x - \\pi\\right) \\left(x + \\pi\\right) \\left(x + 2 \\sqrt{e^{x}}\\right)$"
            ],
            "text/plain": [
              "(x - 9)*(x + 9)*(x - pi)*(x + pi)*(x + 2*sqrt(exp(x)))"
            ]
          },
          "execution_count": 21,
          "metadata": {},
          "output_type": "execute_result"
        }
      ],
      "source": [
        "from sympy import Symbol,factor,pi,sqrt\n",
        "x = Symbol('x')\n",
        "factor(x**5+2*sqrt(E**x)*x**4-pi**2*x**3-81*x**3-2*sqrt(E**x)*pi**2*x**2-162*sqrt(E**x)*x**2+81*pi**2*x+162*sqrt(E**x)*pi**2)"
      ]
    },
    {
      "cell_type": "markdown",
      "metadata": {
        "id": "xoq8A5ipMdRa"
      },
      "source": [
        "## SymPy’s solvers\n",
        "- https://docs.sympy.org/latest/tutorial/solvers.html\n",
        "- x\\*\\*5 - 15\\*x\\*\\*4  + 85\\*x\\*\\* 3 - 225\\*x\\*\\* 2 + 274\\*x - 120 = 0"
      ]
    },
    {
      "cell_type": "markdown",
      "metadata": {
        "id": "UpEjlqXZMk8i"
      },
      "source": [
        "<img src=\"https://raw.githubusercontent.com/gjhernandezp/algorithms/master/SymPyLab/sympylabwolfram5.jpg\" />"
      ]
    },
    {
      "cell_type": "code",
      "execution_count": 4,
      "metadata": {
        "colab": {
          "base_uri": "https://localhost:8080/",
          "height": 37
        },
        "id": "DLzUsS8YMlNK",
        "outputId": "36c22a20-d33b-4ec5-8ca0-2e61cf752ef1"
      },
      "outputs": [
        {
          "data": {
            "text/latex": [
              "$\\displaystyle \\left\\{1, 2, 3, 4, 5\\right\\}$"
            ],
            "text/plain": [
              "FiniteSet(1, 2, 3, 4, 5)"
            ]
          },
          "execution_count": 4,
          "metadata": {},
          "output_type": "execute_result"
        }
      ],
      "source": [
        "from sympy import Symbol, solveset, Eq\n",
        "x = Symbol('x')\n",
        "solveset(Eq(x**5 - 15*x**4  + 85*x**3 - 225*x**2 + 274*x - 120, 0), x)\n"
      ]
    },
    {
      "cell_type": "code",
      "execution_count": 5,
      "metadata": {
        "colab": {
          "base_uri": "https://localhost:8080/",
          "height": 47
        },
        "id": "ALzYmizCcXvv",
        "outputId": "bf42955f-9b33-463c-e13c-0208b2c00f60"
      },
      "outputs": [
        {
          "data": {
            "text/latex": [
              "$\\displaystyle \\left\\{\\sqrt{2}, \\pi\\right\\}$"
            ],
            "text/plain": [
              "FiniteSet(pi, sqrt(2))"
            ]
          },
          "execution_count": 5,
          "metadata": {},
          "output_type": "execute_result"
        }
      ],
      "source": [
        "from sympy import Symbol, solveset, Eq, sqrt, pi\n",
        "x = Symbol('x')\n",
        "solveset(Eq(x**2 - (sqrt(2)+pi)*x + (sqrt(2)*pi) , 0), x)\n"
      ]
    },
    {
      "cell_type": "markdown",
      "metadata": {},
      "source": [
        "### Our example"
      ]
    },
    {
      "cell_type": "markdown",
      "metadata": {},
      "source": [
        "$$2 x^5 + x^4 - 2 x - 1 = 0 $$"
      ]
    },
    {
      "cell_type": "markdown",
      "metadata": {},
      "source": [
        "\n",
        "<img src=\"./equation.png\" />"
      ]
    },
    {
      "cell_type": "code",
      "execution_count": 1,
      "metadata": {},
      "outputs": [
        {
          "data": {
            "text/latex": [
              "$\\displaystyle \\left\\{-1, - \\frac{1}{2}, 1, - i, i\\right\\}$"
            ],
            "text/plain": [
              "FiniteSet(-1, -1/2, 1, I, -I)"
            ]
          },
          "execution_count": 1,
          "metadata": {},
          "output_type": "execute_result"
        }
      ],
      "source": [
        "from sympy import Symbol, solveset, Eq, S\n",
        "x = Symbol('x')\n",
        "solveset(Eq(2*x**5+x**4-2*x-1, 0), x)\n"
      ]
    },
    {
      "cell_type": "markdown",
      "metadata": {
        "id": "OtsxSwPmV3Vs"
      },
      "source": [
        "## SymPy’s Symbolic and Numercical Complex Evaluations\n",
        "- https://docs.sympy.org/latest/modules/evalf.html](https://)\n",
        "- x = x1 + I*x2,y = y1 + I*y2, z = z1 + I*z2, x*y*z"
      ]
    },
    {
      "cell_type": "markdown",
      "metadata": {
        "id": "XxWt-AcaZxdp"
      },
      "source": [
        "<img src=\"https://raw.githubusercontent.com/gjhernandezp/algorithms/master/SymPyLab/sympylabwolfram7.jpg\" />"
      ]
    },
    {
      "cell_type": "code",
      "execution_count": null,
      "metadata": {
        "colab": {
          "base_uri": "https://localhost:8080/"
        },
        "id": "ENDQbfLGV31r",
        "outputId": "c5a289de-39e6-4711-dc50-97061e31a463"
      },
      "outputs": [
        {
          "name": "stdout",
          "output_type": "stream",
          "text": [
            "(x1 + I*x2)*(y1 + I*y2)*(z1 + I*z2)\n",
            "x1*y1*z1 + I*x1*y1*z2 + I*x1*y2*z1 - x1*y2*z2 + I*x2*y1*z1 - x2*y1*z2 - x2*y2*z1 - I*x2*y2*z2\n",
            "x1*y1*z1 + I*x1*y1*z2 + I*x1*y2*z1 - x1*y2*z2 + I*x2*y1*z1 - x2*y1*z2 - x2*y2*z1 - I*x2*y2*z2\n",
            "x1*y1*z1 + I*x1*y1*z2 + I*x1*y2*z1 - x1*y2*z2 + I*x2*y1*z1 - x2*y1*z2 - x2*y2*z1 - I*x2*y2*z2\n",
            "w= 0.28902548222223624241 - 0.091999668350375232456*I\n"
          ]
        }
      ],
      "source": [
        "from sympy import *\n",
        "\n",
        "x1, x2, y1, y2, z1, z2 = symbols(\"x1 x2 y1 y2 z1 z2\", real=True)\n",
        "x = x1 + I*x2\n",
        "y = y1 + I*y2\n",
        "z = z1 + I*z2\n",
        "\n",
        "print(x*y*z)\n",
        "print(expand(x*y*z))\n",
        "print(expand((x*y)*z))\n",
        "print(expand(x*(y*z)))\n",
        "\n",
        "w = N(1/(pi + I), 20)\n",
        "print('w=', w)\n"
      ]
    },
    {
      "cell_type": "markdown",
      "metadata": {},
      "source": [
        "### Our example"
      ]
    },
    {
      "cell_type": "markdown",
      "metadata": {},
      "source": [
        "$$x = x_1 + 5ix_2 + \\pi*ix_3, y = y1 + \\sqrt 2 *y_2 i+ y3, z = z1 + e *z_2*i, xyz ^ 2$$"
      ]
    },
    {
      "cell_type": "code",
      "execution_count": null,
      "metadata": {},
      "outputs": [],
      "source": [
        "from sympy import *\n",
        "x1, x2, x3, y1, y2, y3, z1, z2 = symbols(\"x1 x2 x3 y1 y2 y3 z1 z2\", real=True)\n",
        "x = x1 + 5*i*x2+pi*i*x3\n",
        "y = y1 + sqrt(2)*y2*i+y3\n",
        "z = z1 + e*z2*i\n",
        "\n",
        "print(x*y*z)\n",
        "print(expand(x*y*z))\n",
        "print(expand((x*y)*z))\n",
        "print(expand(x*(y*z)))\n"
      ]
    },
    {
      "cell_type": "markdown",
      "metadata": {},
      "source": [
        "<img src=\"https://drive.google.com/uc?export=view&id=1_1GZ2kz2xmd1lstxOS1NyfOb5WC59OFT\" />"
      ]
    },
    {
      "cell_type": "markdown",
      "metadata": {
        "id": "eaqIgmnkPNVT"
      },
      "source": [
        "## Wolfram alpha answers question in natural languaje\n",
        "- What is the population growth in Colombia?\n",
        "\n",
        "<img src=\"https://drive.google.com/uc?export=view&id=1Zmtaqd8EFP0-mBq7GeRyvpCV1im6eU4o\" />"
      ]
    }
  ],
  "metadata": {
    "colab": {
      "authorship_tag": "ABX9TyMXZyiClEeLLV9K97R+Cvmc",
      "collapsed_sections": [],
      "name": "SymPyLab.ipynb",
      "provenance": []
    },
    "interpreter": {
      "hash": "b3ba2566441a7c06988d0923437866b63cedc61552a5af99d1f4fb67d367b25f"
    },
    "kernelspec": {
      "display_name": "Python 3.8.8 64-bit ('base': conda)",
      "name": "python3"
    },
    "language_info": {
      "codemirror_mode": {
        "name": "ipython",
        "version": 3
      },
      "file_extension": ".py",
      "mimetype": "text/x-python",
      "name": "python",
      "nbconvert_exporter": "python",
      "pygments_lexer": "ipython3",
      "version": "3.8.8"
    }
  },
  "nbformat": 4,
  "nbformat_minor": 0
}

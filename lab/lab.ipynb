{
cells: [
{
cell_type: "code",
execution_count: null,
metadata: {
collapsed: true
},
outputs: [ ],
source: [
"import numpy as np ",
" ",
"from numpy.testing import assert_allclose"
]
},
{
cell_type: "markdown",
metadata: { },
source: [
"# Part I. Construct a Householder reflection of a vector."
]
},
{
cell_type: "markdown",
metadata: { },
source: [
"Given a vector $\mathbf{x}$, and a plane with a normal vector $\mathbf{u}$, the Householder transformation reflects $\mathbf{x}$ about the plane. ",
" ",
"The matrix of the Householder transformation is ",
" ",
"$$ ",
"\mathbf{H} = \mathbf{1} - 2 \mathbf{u} \mathbf{u}^T ",
"$$ ",
" ",
"Given two equal-length vectors $\mathbf{x}$ and $\mathbf{y}$, a rotation which brings $\mathbf{x}$ to $\mathbf{y}$ is a Householder transform with ",
" ",
"$$ ",
"\mathbf{u} = \frac{\mathbf{x} - \mathbf{y}}{\left|\mathbf{x} - \mathbf{y}\right|} ",
"$$"
]
},
{
cell_type: "markdown",
metadata: { },
source: [
"Write a function which rotates a given vector, $\mathbf{x} = (x_1, \dots, x_n)$ into $\mathbf{y} = (\left|\mathbf{x}\right|, 0, \dots, 0)^T$ using a Householder transformation."
]
},
{
cell_type: "code",
execution_count: null,
metadata: {
collapsed: true
},
outputs: [ ],
source: [
"def householder(vec): ",
" """Construct a Householder reflection to zero out 2nd and further components of a vector. ",
" ",
" Parameters ",
" ---------- ",
" vec : array-like of floats, shape (n,) ",
" Input vector ",
" ",
" Returns ",
" ------- ",
" outvec : array of floats, shape (n,) ",
" Transformed vector, with ``outvec[1:]==0`` and ``|outvec| == |vec|`` ",
" H : array of floats, shape (n, n) ",
" Orthogonal matrix of the Householder reflection ",
" """ ",
" vec = np.asarray(vec, dtype=float) ",
" if vec.ndim != 1: ",
" raise ValueError("vec.ndim = %s, expected 1" % vec.ndim) ",
" ",
" # ... ENTER YOUR CODE HERE ..."
]
},
{
cell_type: "markdown",
metadata: { },
source: [
"Test your function using tests below:"
]
},
{
cell_type: "code",
execution_count: null,
metadata: {
collapsed: true
},
outputs: [ ],
source: [
"# Test I.1 (10% of the total grade). ",
" ",
"v = np.array([1, 2, 3]) ",
"v1, h = householder(v) ",
" ",
"assert_allclose(np.dot(h, v1), v) ",
"assert_allclose(np.dot(h, v), v1)"
]
},
{
cell_type: "code",
execution_count: null,
metadata: {
collapsed: true
},
outputs: [ ],
source: [
"# Test I.2 (10% of the total grade). ",
" ",
"rndm = np.random.RandomState(1234) ",
" ",
"vec = rndm.uniform(size=7) ",
"v1, h = householder(vec) ",
" ",
"assert_allclose(np.dot(h, v1), vec)"
]
},
{
cell_type: "markdown",
metadata: { },
source: [
"# Part II. Compute the $\mathrm{QR}$ decomposition of a matrix. ",
" ",
"Given a rectangular $m\times n$ matrix $\mathbf{A}$, construct a Householder reflector matrix $\mathbf{H}_1$ which transforms the first column of $\mathbf{A}$ (and call the result $\mathbf{A}^{(1)}$) ",
" ",
"$$ ",
"\mathbf{H}_1 \mathbf{A} =% ",
"\begin{pmatrix} ",
"\times & \times & \times & \dots & \times \\ ",
"0 & \times & \times & \dots & \times \\ ",
"0 & \times & \times & \dots & \times \\ ",
"&& \dots&& \\ ",
"0 & \times & \times & \dots & \times \\ ",
"\end{pmatrix}% ",
"\equiv \mathbf{A}^{(1)}\;. ",
"$$ ",
" ",
"Now consider the lower-right submatrix of $\mathbf{A}^{(1)}$, and construct a Householder reflector which annihilates the second column of $\mathbf{A}$: ",
" ",
"$$ ",
"\mathbf{H}_2 \mathbf{A}^{(1)} =% ",
"\begin{pmatrix} ",
"\times & \times & \times & \dots & \times \\ ",
"0 & \times & \times & \dots & \times \\ ",
"0 & 0 & \times & \dots & \times \\ ",
"&& \dots&& \\ ",
"0 & 0 & \times & \dots & \times \\ ",
"\end{pmatrix}% ",
"\equiv \mathbf{A}^{(2)} \;. ",
"$$ ",
" ",
"Repeating the process $n-1$ times, we obtain ",
" ",
"$$ ",
"\mathbf{H}_{n-1} \cdots \mathbf{H}_2 \mathbf{H}_1 \mathbf{A} = \mathbf{R} \;, ",
"$$ ",
" ",
"with $\mathbf{R}$ an upper triangular matrix. Since each $\mathbf{H}_k$ is orthogonal, so is their product. The inverse of an orthogonal matrix is orthogonal. Hence the process generates the $\mathrm{QR}$ decomposition of $\mathbf{A}$. "
]
},
{
cell_type: "markdown",
metadata: { },
source: [
"Write a function, which receives a recangular matrix, $A$, and returns the Q and R factors of the $QR$ factorization of $A$."
]
},
{
cell_type: "code",
execution_count: null,
metadata: {
collapsed: true
},
outputs: [ ],
source: [
"def qr_decomp(a): ",
" """Compute the QR decomposition of a matrix. ",
" ",
" Parameters ",
" ---------- ",
" a : ndarray, shape(m, n) ",
" The input matrix ",
" ",
" Returns ",
" ------- ",
" q : ndarray, shape(m, m) ",
" The orthogonal matrix ",
" r : ndarray, shape(m, n) ",
" The upper triangular matrix ",
" ",
" Examples ",
" -------- ",
" >>> a = np.random.random(size=(3, 5)) ",
" >>> q, r = qr_decomp(a) ",
" >>> np.assert_allclose(np.dot(q, r), a) ",
" ",
" """ ",
" a1 = np.array(a, copy=True, dtype=float) ",
" m, n = a1.shape ",
" ",
" # ... ENTER YOUR CODE HERE ..."
]
},
{
cell_type: "code",
execution_count: null,
metadata: {
collapsed: true
},
outputs: [ ],
source: [
"# Might want to turn this on for prettier printing: zeros instead of `1e-16` etc ",
" ",
"np.set_printoptions(suppress=True)"
]
},
{
cell_type: "code",
execution_count: null,
metadata: {
collapsed: true
},
outputs: [ ],
source: [
"# Test II.1 (20% of the total grade) ",
" ",
"rndm = np.random.RandomState(1234) ",
"a = rndm.uniform(size=(5, 3)) ",
"q, r = qr_decomp(a) ",
" ",
"# test that Q is indeed orthogonal ",
"assert_allclose(np.dot(q, q.T), np.eye(5), atol=1e-10) ",
" ",
"# test the decomposition itself ",
"assert_allclose(np.dot(q, r), a)"
]
},
{
cell_type: "markdown",
metadata: { },
source: [
"Now compare your decompositions to the library function (which actually wraps the corresponding LAPACK functions)"
]
},
{
cell_type: "code",
execution_count: null,
metadata: {
collapsed: true
},
outputs: [ ],
source: [
"from scipy.linalg import qr ",
"qq, rr = qr(a) ",
" ",
"assert_allclose(np.dot(qq, rr), a)"
]
},
{
cell_type: "markdown",
metadata: { },
source: [
"Check if your `q` and `r` agree with `qq` and `rr`. Explain."
]
},
{
cell_type: "markdown",
metadata: { },
source: [
"*Enter your explanation here* (10% of the total grade, peer-graded)"
]
},
{
cell_type: "markdown",
metadata: { },
source: [
"# Part III. Avoid forming Householder matrices explicitly."
]
},
{
cell_type: "markdown",
metadata: { },
source: [
"Note the special structure of the Householder matrices: A reflector $\mathbf{H}$ is completely specified by a reflection vector $\mathbf{u}$. Also note that the computational cost of applying a reflector to a matrix strongly depends on the order of operations: ",
" ",
"$$ ",
"\left( \mathbf{u} \mathbf{u}^T \right) \mathbf{A} \qquad \textrm{is } O(m^2 n)\;, ",
"$$ ",
"while ",
"$$ ",
"\mathbf{u} \left( \mathbf{u}^T \mathbf{A} \right) \qquad \textrm{is } O(mn) ",
"$$ ",
" ",
"Thus, it seems to make sense to *avoid* forming the $\mathbf{H}$ matrices. Instead, one stores the reflection vectors, $\mathbf{u}$, themselves, and provides a way of multiplying an arbitrary matrix by $\mathbf{Q}^T$, e.g., as a standalone function (or a class)."
]
},
{
cell_type: "markdown",
metadata: { },
source: [
"Write a function which constructs the `QR` decomposition of a matrix *without ever forming the* $\mathbf{H}$ matrices, and returns the $\mathbf{R}$ matrix and reflection vectors. ",
" ",
"Write a second function, which uses reflection vectors to multiply a matrix with $\mathbf{Q}^T$. Make sure to include enough comments for a marker to follow your implementation, and add tests. ",
" ",
"(Peer-graded, 40% of the total grade)"
]
},
{
cell_type: "code",
execution_count: null,
metadata: {
collapsed: true
},
outputs: [ ],
source: [ ]
}
],
metadata: {
kernelspec: {
display_name: "Python 3",
language: "python",
name: "python3"
},
language_info: {
codemirror_mode: {
name: "ipython",
version: 3
},
file_extension: ".py",
mimetype: "text/x-python",
name: "python",
nbconvert_exporter: "python",
pygments_lexer: "ipython3",
version: "3.5.2"
}
},
nbformat: 4,
nbformat_minor: 2
}

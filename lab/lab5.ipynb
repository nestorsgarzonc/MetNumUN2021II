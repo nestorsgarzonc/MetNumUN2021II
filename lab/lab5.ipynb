{
 "cells": [
  {
   "cell_type": "markdown",
   "metadata": {},
   "source": [
    "# I. Linear least squares approximation\n"
   ]
  },
  {
   "cell_type": "markdown",
   "metadata": {},
   "source": [
    "Consider a function $y = f(x)$ which is defined by a set of values $y_0, y_1, \\cdots, y_n$ at points $x_0, x_1, \\cdots, x_n$.\n"
   ]
  },
  {
   "cell_type": "code",
   "execution_count": 1,
   "metadata": {
    "collapsed": true
   },
   "outputs": [],
   "source": [
    "x = [-1, -0.7, -0.43, -0.14, -0.14, 0.43, 0.71,\n",
    "     1, 1.29, 1.57, 1.86, 2.14, 2.43, 2.71, 3]\n",
    "y = [-2.25, -0.77, 0.21, 0.44, 0.64, 0.03, -0.22, -\n",
    "     0.84, -1.2, -1.03, -0.37, 0.61, 2.67, 5.04, 8.90]\n"
   ]
  },
  {
   "cell_type": "markdown",
   "metadata": {},
   "source": [
    "### I.I. Find a best fit polynomial\n",
    "\n",
    "$$\n",
    "P_m(x) = a_0 + a_1 x + \\cdots + a_m x^m\n",
    "$$\n",
    "\n",
    "using the linear least squares approach. To this end\n",
    "\n",
    "1. implement a function which constructs the design matrix using $1, x, \\cdots, x^m$ as the basis functions.\n",
    "\n",
    "2. construct explicitly the normal system of equations of the linear least squares problem at fixed $m$.\n",
    "\n",
    "3. Solve the normal equations to find the coefficients of $P_m(x)$ for $m = 0, 1, 2, \\dots$. For the linear algebra problem, you can either use library functions (`numpy.linalg.solve`) or your LU factorization code from week 1.\n",
    "\n",
    "(20% of the total grade)\n"
   ]
  },
  {
   "cell_type": "code",
   "execution_count": 2,
   "metadata": {
    "collapsed": true
   },
   "outputs": [
    {
     "name": "stdout",
     "output_type": "stream",
     "text": [
      "matrix:\n",
      "[[ 1.     -1.      1.    ]\n",
      " [ 1.     -0.7     0.49  ]\n",
      " [ 1.     -0.43    0.1849]\n",
      " [ 1.     -0.14    0.0196]\n",
      " [ 1.     -0.14    0.0196]\n",
      " [ 1.      0.43    0.1849]\n",
      " [ 1.      0.71    0.5041]\n",
      " [ 1.      1.      1.    ]\n",
      " [ 1.      1.29    1.6641]\n",
      " [ 1.      1.57    2.4649]\n",
      " [ 1.      1.86    3.4596]\n",
      " [ 1.      2.14    4.5796]\n",
      " [ 1.      2.43    5.9049]\n",
      " [ 1.      2.71    7.3441]\n",
      " [ 1.      3.      9.    ]]\n",
      "coefficents:\n",
      "[[-1.25772058]\n",
      " [-0.65313865]\n",
      " [ 1.0667959 ]]\n"
     ]
    }
   ],
   "source": [
    "# ... ENTER YOUR CODE HERE\n",
    "import numpy as np\n",
    "import pandas as pd\n",
    "from numpy.linalg import inv\n",
    "\n",
    "\n",
    "def best_fit(x, y, m=1):\n",
    "    x1 = np.array(x)[np.newaxis]\n",
    "    y1 = np.array(y)[np.newaxis]\n",
    "    col1 = np.ones(len(x))[np.newaxis]\n",
    "    design_matrix = np.concatenate((col1.transpose(), x1.transpose()), axis=1)\n",
    "    for i in range(1, m):\n",
    "        power_array = col1 + i\n",
    "        temp = np.power(x1, power_array)\n",
    "        design_matrix = np.concatenate(\n",
    "            (design_matrix, temp.transpose()), axis=1)\n",
    "    print(\"matrix:\")\n",
    "    print(design_matrix)\n",
    "    beta = inv(design_matrix.transpose() @ design_matrix) @ design_matrix.transpose() @ y1.transpose()\n",
    "    return beta\n",
    "\n",
    "\n",
    "coeff = best_fit(x, y, 2)\n",
    "print(\"coefficents:\")\n",
    "print(coeff)\n"
   ]
  },
  {
   "cell_type": "markdown",
   "metadata": {},
   "source": [
    "### I.II\n",
    "\n",
    "To find the optimal value of m, use the following criterion: take $m=0, 1, 2, \\dots$, for each value of $m$ compute\n",
    "\n",
    "$$\n",
    "\\sigma_m^2 = \\frac{1}{n - m} \\sum_{k=0}^n \\left( P_m(x_k) - y_k \\right)^2\n",
    "$$\n",
    "\n",
    "And take the value of $m$, at which $\\sigma_m$ stabilizes or starts increasing.\n",
    "\n",
    "(20% of the total grade)\n"
   ]
  },
  {
   "cell_type": "code",
   "execution_count": null,
   "metadata": {
    "collapsed": true
   },
   "outputs": [],
   "source": [
    "# ... ENTER YOUR CODE HERE ...\n"
   ]
  },
  {
   "cell_type": "markdown",
   "metadata": {},
   "source": [
    "Plot your polynomials $P_m(x)$ on one plot, together with the datapoints. Visually compare best-fit polynomials of different degrees. Is the visual comparison consistent with the optimal value of $m$?\n"
   ]
  },
  {
   "cell_type": "code",
   "execution_count": null,
   "metadata": {
    "collapsed": true
   },
   "outputs": [],
   "source": [
    "# ... ENTER YOUR CODE HERE\n"
   ]
  },
  {
   "cell_type": "markdown",
   "metadata": {},
   "source": [
    "### I.III. Linear least-squares using the QR factorization.\n",
    "\n",
    "For the optimal value of $m$ from the previous part, solve the LLS problem using the QR factorization, withou ever forming the normal equations explicitly. For linear algebra, you can use standard library functions (look up `numpy.linalg.solve`, `numpy.linalg.qr` etc) or your code from previous weeks.\n",
    "\n",
    "Compare the results with the results of solving the normal system of equations.\n",
    "\n",
    "(20% of the grade)\n"
   ]
  },
  {
   "cell_type": "code",
   "execution_count": null,
   "metadata": {
    "collapsed": true
   },
   "outputs": [],
   "source": [
    "# ... ENTER YOUR CODE HERE ...\n"
   ]
  },
  {
   "cell_type": "markdown",
   "metadata": {},
   "source": [
    "# II. Lagrange interpolation\n"
   ]
  },
  {
   "cell_type": "markdown",
   "metadata": {},
   "source": [
    "### II.1\n",
    "\n",
    "Consider the function, $f(x) = x^2 \\cos{x}$. On the interval $x\\in [\\pi/2, \\pi]$, interpolate the function using the Lagrange interpolating polynomial of degree $m$ with $m=1, 2, 3, 4, 5$. Use the uniform mesh. Plot the resulting interpolants together with $f(x)$.\n",
    "\n",
    "(20% of the total grade)\n"
   ]
  },
  {
   "cell_type": "code",
   "execution_count": null,
   "metadata": {
    "collapsed": true
   },
   "outputs": [],
   "source": [
    "# ... ENTER YOUR CODE HERE ...\n"
   ]
  },
  {
   "cell_type": "markdown",
   "metadata": {},
   "source": [
    "### II.2.\n",
    "\n",
    "Repeat the previous task using the Chebyshev nodes. Compare the quality of interpolation on a uniform mesh and Chebyshev nodes for $m=3$.\n",
    "\n",
    "(20% of the total grade)\n"
   ]
  },
  {
   "cell_type": "code",
   "execution_count": null,
   "metadata": {
    "collapsed": true
   },
   "outputs": [],
   "source": [
    "# ... ENTER YOUR CODE HERE ...\n"
   ]
  }
 ],
 "metadata": {
  "kernelspec": {
   "display_name": "Python 3",
   "language": "python",
   "name": "python3"
  },
  "language_info": {
   "codemirror_mode": {
    "name": "ipython",
    "version": 3
   },
   "file_extension": ".py",
   "mimetype": "text/x-python",
   "name": "python",
   "nbconvert_exporter": "python",
   "pygments_lexer": "ipython3",
   "version": "3.8.9"
  }
 },
 "nbformat": 4,
 "nbformat_minor": 2
}

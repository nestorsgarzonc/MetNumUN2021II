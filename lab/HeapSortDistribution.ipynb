{
  "cells": [
    {
      "cell_type": "markdown",
      "metadata": {
        "id": "y904d12Y43aB"
      },
      "source": [
        "# heap_sort sort CLRS\n"
      ]
    },
    {
      "cell_type": "markdown",
      "metadata": {
        "id": "fhN5fOn8GtzR"
      },
      "source": [
        "# Experimental analysis of the heap Sort execution time\n"
      ]
    },
    {
      "cell_type": "code",
      "execution_count": 1,
      "metadata": {
        "id": "okoDn4138BuH"
      },
      "outputs": [],
      "source": [
        "def heapify(arr, n, i):\n",
        "    largest = i  # Initialize largest as root\n",
        "    l = 2 * i + 1     # left = 2*i + 1\n",
        "    r = 2 * i + 2     # right = 2*i + 2\n",
        "\n",
        "    # See if left child of root exists and is\n",
        "    # greater than root\n",
        "    if l < n and arr[largest] < arr[l]:\n",
        "        largest = l\n",
        "\n",
        "    # See if right child of root exists and is\n",
        "    # greater than root\n",
        "    if r < n and arr[largest] < arr[r]:\n",
        "        largest = r\n",
        "\n",
        "    # Change root, if needed\n",
        "    if largest != i:\n",
        "        arr[i], arr[largest] = arr[largest], arr[i]  # swap\n",
        "\n",
        "        # Heapify the root.\n",
        "        heapify(arr, n, largest)\n",
        "\n",
        "# The main function to sort an array of given size\n",
        "\n",
        "\n",
        "def heap_sort(arr):\n",
        "    n = len(arr)\n",
        "\n",
        "    # Build a maxheap.\n",
        "    for i in range(n//2 - 1, -1, -1):\n",
        "        heapify(arr, n, i)\n",
        "\n",
        "    # One by one extract elements\n",
        "    for i in range(n-1, 0, -1):\n",
        "        arr[i], arr[0] = arr[0], arr[i]  # swap\n",
        "        heapify(arr, i, 0)\n"
      ]
    },
    {
      "cell_type": "code",
      "execution_count": 2,
      "metadata": {
        "colab": {
          "base_uri": "https://localhost:8080/"
        },
        "id": "YYN7XbqayeU4",
        "outputId": "61eb3069-c8b6-43d1-bc48-5586cb0cdd24"
      },
      "outputs": [
        {
          "name": "stdout",
          "output_type": "stream",
          "text": [
            "[1, 2, 3, 4, 5, 6, 7, 8]\n",
            "[1, 2, 3, 4, 5, 6, 7, 8]\n",
            "[1, 2, 3, 4, 5, 6, 7, 8]\n"
          ]
        }
      ],
      "source": [
        "A = [1, 2, 3, 4, 5, 6, 7, 8]\n",
        "heap_sort(A)\n",
        "print(A)\n",
        "\n",
        "A = [6, 7, 2, 5, 4, 3, 8, 1]\n",
        "heap_sort(A)\n",
        "print(A)\n",
        "\n",
        "A = [8, 7, 6, 5, 4, 3, 2, 1]\n",
        "heap_sort(A)\n",
        "print(A)\n"
      ]
    },
    {
      "cell_type": "code",
      "execution_count": 3,
      "metadata": {
        "colab": {
          "base_uri": "https://localhost:8080/",
          "height": 307
        },
        "id": "3W4AVrGyXa_c",
        "outputId": "73924fc8-57bf-4201-e807-bbe8ea7cc7f9"
      },
      "outputs": [
        {
          "data": {
            "text/plain": [
              "<matplotlib.legend.Legend at 0x105ef7340>"
            ]
          },
          "execution_count": 3,
          "metadata": {},
          "output_type": "execute_result"
        },
        {
          "data": {
            "image/png": "[encoded data removed]",
            "text/plain": [
              "<Figure size 432x288 with 1 Axes>"
            ]
          },
          "metadata": {
            "needs_background": "light"
          },
          "output_type": "display_data"
        }
      ],
      "source": [
        "import numpy as np\n",
        "import matplotlib.pyplot as plt\n",
        "import time\n",
        "\n",
        "sizes = np.arange(1, 200, 1)\n",
        "results_heap = []\n",
        "for i in sizes:\n",
        "    list1 = list(range(i))\n",
        "    tic = time.time()\n",
        "    heap_sort(list1)\n",
        "    toc = time.time()\n",
        "    timesum = toc - tic\n",
        "    results_heap.append(timesum)\n",
        "plt.plot(sizes, results_heap, 'bx', label='heap sort')\n",
        "plt.xlabel('Array size')\n",
        "plt.ylabel('Seconds')\n",
        "plt.legend(loc='upper left')\n"
      ]
    },
    {
      "cell_type": "code",
      "execution_count": 4,
      "metadata": {
        "colab": {
          "base_uri": "https://localhost:8080/",
          "height": 297
        },
        "id": "MAEtgnhgZkAk",
        "outputId": "facf2ab2-1e88-4ce4-c253-2e074e1c9ba5"
      },
      "outputs": [
        {
          "data": {
            "text/plain": [
              "<matplotlib.legend.Legend at 0x105e911f0>"
            ]
          },
          "execution_count": 4,
          "metadata": {},
          "output_type": "execute_result"
        },
        {
          "data": {
            "image/png": "[encoded data removed]",
            "text/plain": [
              "<Figure size 432x288 with 1 Axes>"
            ]
          },
          "metadata": {
            "needs_background": "light"
          },
          "output_type": "display_data"
        }
      ],
      "source": [
        "import numpy as np\n",
        "import matplotlib.pyplot as plt\n",
        "import time\n",
        "\n",
        "sizes = np.arange(1, 200, 1)\n",
        "results_heap = []\n",
        "for i in sizes:\n",
        "    list1 = list(range(i, 1, -1))\n",
        "    tic = time.time()\n",
        "    heap_sort(list1)\n",
        "    toc = time.time()\n",
        "    timesum = toc - tic\n",
        "    results_heap.append(timesum)\n",
        "plt.plot(sizes, results_heap, 'bx', label='heap sort')\n",
        "plt.xlabel('Array size')\n",
        "plt.ylabel('Seconds')\n",
        "plt.legend(loc='upper left')\n"
      ]
    },
    {
      "cell_type": "code",
      "execution_count": 5,
      "metadata": {
        "colab": {
          "base_uri": "https://localhost:8080/",
          "height": 297
        },
        "id": "rxXIV4TbZzHU",
        "outputId": "5364d8d1-12ea-4505-fc44-bd2ed99fab52"
      },
      "outputs": [
        {
          "data": {
            "text/plain": [
              "<matplotlib.legend.Legend at 0x105ef4f70>"
            ]
          },
          "execution_count": 5,
          "metadata": {},
          "output_type": "execute_result"
        },
        {
          "data": {
            "image/png": "[encoded data removed]",
            "text/plain": [
              "<Figure size 432x288 with 1 Axes>"
            ]
          },
          "metadata": {
            "needs_background": "light"
          },
          "output_type": "display_data"
        }
      ],
      "source": [
        "import numpy as np\n",
        "import matplotlib.pyplot as plt\n",
        "import time\n",
        "import random as rnd\n",
        "\n",
        "sizes = np.arange(1, 200, 1)\n",
        "results_heap = []\n",
        "sizes_heap = []\n",
        "for i in sizes:\n",
        "    for j in range(20):\n",
        "        list1 = list(range(i))\n",
        "        rnd.shuffle(list1)\n",
        "        tic = time.time()\n",
        "        heap_sort(list1)\n",
        "        toc = time.time()\n",
        "        timesum = toc - tic\n",
        "        results_heap.append(timesum)\n",
        "        sizes_heap.append(i)\n",
        "plt.plot(sizes_heap, results_heap, 'bx', label='heap sort')\n",
        "plt.xlabel('Array size')\n",
        "plt.ylabel('Seconds')\n",
        "plt.legend(loc='upper left')\n"
      ]
    },
    {
      "cell_type": "code",
      "execution_count": 6,
      "metadata": {
        "colab": {
          "base_uri": "https://localhost:8080/",
          "height": 307
        },
        "id": "-YDLqtvn9F-n",
        "outputId": "736055e4-442e-426d-ef5f-ade33aa881f2"
      },
      "outputs": [
        {
          "data": {
            "text/plain": [
              "<matplotlib.legend.Legend at 0x105e91340>"
            ]
          },
          "execution_count": 6,
          "metadata": {},
          "output_type": "execute_result"
        },
        {
          "data": {
            "image/png": "[encoded data removed]",
            "text/plain": [
              "<Figure size 432x288 with 1 Axes>"
            ]
          },
          "metadata": {
            "needs_background": "light"
          },
          "output_type": "display_data"
        }
      ],
      "source": [
        "import numpy as np\n",
        "import matplotlib.pyplot as plt\n",
        "import time\n",
        "import random as rnd\n",
        "\n",
        "sizes = np.arange(1, 21, 1)\n",
        "results_heap = []\n",
        "sizes_heap = []\n",
        "for i in sizes:\n",
        "\n",
        "    list1 = list(range(i))\n",
        "    tic = time.time()\n",
        "    heap_sort(list1)\n",
        "    toc = time.time()\n",
        "    timesum = toc - tic\n",
        "    results_heap.append(timesum)\n",
        "    sizes_heap.append(i)\n",
        "\n",
        "    list1 = list(range(i, 1, -1))\n",
        "    tic = time.time()\n",
        "    heap_sort(list1)\n",
        "    toc = time.time()\n",
        "    timesum = toc - tic\n",
        "    results_heap.append(timesum)\n",
        "    sizes_heap.append(i)\n",
        "\n",
        "    for j in range(23):\n",
        "        list1 = list(range(i))\n",
        "        rnd.shuffle(list1)\n",
        "        tic = time.time()\n",
        "        heap_sort(list1)\n",
        "        toc = time.time()\n",
        "        timesum = toc - tic\n",
        "        results_heap.append(timesum)\n",
        "        sizes_heap.append(i)\n",
        "\n",
        "plt.plot(sizes_heap, results_heap, 'bx', label='heap sort')\n",
        "plt.xlabel('Array size')\n",
        "plt.ylabel('Seconds')\n",
        "plt.legend(loc='upper left')\n"
      ]
    },
    {
      "cell_type": "code",
      "execution_count": 7,
      "metadata": {
        "colab": {
          "base_uri": "https://localhost:8080/",
          "height": 296
        },
        "id": "3CMJ1Uh0brT0",
        "outputId": "9bf8fe9c-bc0a-43ea-dd68-61f1211a5790"
      },
      "outputs": [
        {
          "data": {
            "text/plain": [
              "<matplotlib.legend.Legend at 0x10c0b68b0>"
            ]
          },
          "execution_count": 7,
          "metadata": {},
          "output_type": "execute_result"
        },
        {
          "data": {
            "image/png": "[encoded data removed]",
            "text/plain": [
              "<Figure size 432x288 with 1 Axes>"
            ]
          },
          "metadata": {
            "needs_background": "light"
          },
          "output_type": "display_data"
        }
      ],
      "source": [
        "import numpy as np\n",
        "import matplotlib.pyplot as plt\n",
        "import time\n",
        "import random as rnd\n",
        "\n",
        "sizes = np.arange(1, 200, 1)\n",
        "results_heap = []\n",
        "sizes_heap = []\n",
        "for i in sizes:\n",
        "\n",
        "    list1 = list(range(i))\n",
        "    tic = time.time()\n",
        "    heap_sort(list1)\n",
        "    toc = time.time()\n",
        "    timesum = toc - tic\n",
        "    results_heap.append(timesum)\n",
        "    sizes_heap.append(i)\n",
        "\n",
        "    list1 = list(range(i, 1, -1))\n",
        "    tic = time.time()\n",
        "    heap_sort(list1)\n",
        "    toc = time.time()\n",
        "    timesum = toc - tic\n",
        "    results_heap.append(timesum)\n",
        "    sizes_heap.append(i)\n",
        "\n",
        "    for j in range(20):\n",
        "        list1 = list(range(i))\n",
        "        rnd.shuffle(list1)\n",
        "        tic = time.time()\n",
        "        heap_sort(list1)\n",
        "        toc = time.time()\n",
        "        timesum = toc - tic\n",
        "        results_heap.append(timesum)\n",
        "        sizes_heap.append(i)\n",
        "\n",
        "plt.plot(sizes_heap, results_heap, 'bx', label='heap sort')\n",
        "plt.xlabel('Array size')\n",
        "plt.ylabel('Seconds')\n",
        "plt.legend(loc='upper left')\n"
      ]
    },
    {
      "cell_type": "markdown",
      "metadata": {
        "id": "oI9mVQ6O5s16"
      },
      "source": [
        "Time complexity of heapify is O(Logn). Time complexity of createAndBuildHeap() is O(n) and the overall time complexity of Heap Sort is O(nLogn)."
      ]
    },
    {
      "cell_type": "code",
      "execution_count": 8,
      "metadata": {
        "colab": {
          "base_uri": "https://localhost:8080/",
          "height": 297
        },
        "id": "scmCThyk2myO",
        "outputId": "5432fec5-e44d-4346-95bd-a003fdfa88ee"
      },
      "outputs": [
        {
          "data": {
            "text/plain": [
              "<matplotlib.legend.Legend at 0x10c22d580>"
            ]
          },
          "execution_count": 8,
          "metadata": {},
          "output_type": "execute_result"
        },
        {
          "data": {
            "image/png": "[encoded data removed]",
            "text/plain": [
              "<Figure size 432x288 with 1 Axes>"
            ]
          },
          "metadata": {
            "needs_background": "light"
          },
          "output_type": "display_data"
        }
      ],
      "source": [
        "import matplotlib.pyplot as plt\n",
        "import numpy as np\n",
        "\n",
        "n = np.arange(1, 21, 1)\n",
        "\n",
        "plt.plot(n, 5*n-4,  label='heap sort best time $5n-4$')\n",
        "plt.plot(n, 3/4*n**2+17/4*n-4,\n",
        "         label='heap average time $3/4 n*^2+17/4 n - 4$')\n",
        "plt.plot(n, 3/2*n**2+7/2*n-4, label='heap average time $3/2 n*^2+7/2 n - 4$')\n",
        "plt.xlabel('Array size')\n",
        "plt.ylabel('Steps')\n",
        "plt.legend(loc='upper left')\n"
      ]
    },
    {
      "cell_type": "code",
      "execution_count": 9,
      "metadata": {
        "id": "9jtIbWEuICvE"
      },
      "outputs": [],
      "source": [
        "def heapify_steps(arr, n, i, steps):\n",
        "    largest = i  # Initialize largest as root\n",
        "    l = 2 * i + 1     # left = 2*i + 1\n",
        "    r = 2 * i + 2     # right = 2*i + 2\n",
        "    steps += 3\n",
        "    # See if left child of root exists and is\n",
        "    # greater than root\n",
        "    if l < n and arr[largest] < arr[l]:\n",
        "        largest = l\n",
        "        steps += 1\n",
        "    steps += 1\n",
        "\n",
        "    # See if right child of root exists and is\n",
        "    # greater than root\n",
        "    if r < n and arr[largest] < arr[r]:\n",
        "        largest = r\n",
        "        steps += 1\n",
        "    steps += 1\n",
        "    # Change root, if needed\n",
        "    if largest != i:\n",
        "        arr[i], arr[largest] = arr[largest], arr[i]  # swap\n",
        "        steps += 1\n",
        "        # Heapify the root.\n",
        "        steps+=heapify_steps(arr, n, largest, steps)\n",
        "    steps += 1\n",
        "    return steps\n",
        "\n",
        "# The main function to sort an array of given size\n",
        "\n",
        "\n",
        "def heap_sort_steps(arr):\n",
        "    steps=0\n",
        "    n = len(arr) # n=[1,2,3] -> n=3\n",
        "    # Build a maxheap.\n",
        "    for i in range(n//2 - 1, -1, -1):  # [1,2,3,4,5,6]-> 1,2,(3)->1,(2),3->(1),2,3\n",
        "        steps+=heapify_steps(arr, n, i, steps)\n",
        "    steps+=1\n",
        "\n",
        "    # One by one extract elements\n",
        "    for i in range(n-1, 0, -1): \n",
        "        arr[i], arr[0] = arr[0], arr[i]  # swap \n",
        "        # [1,2,3]\n",
        "        # 1,2,(3)->3,2,1\n",
        "        # 3,(2),1-> 3,2,1\n",
        "        steps+=heapify_steps(arr, i, 0, steps)\n",
        "    steps += 1\n",
        "    return steps\n",
        "\n"
      ]
    },
    {
      "cell_type": "code",
      "execution_count": 10,
      "metadata": {},
      "outputs": [
        {
          "name": "stdout",
          "output_type": "stream",
          "text": [
            "1639\n",
            "[1, 2, 4, 5]\n"
          ]
        }
      ],
      "source": [
        "arr=[1,4,2,5]\n",
        "steps=heap_sort_steps(arr)\n",
        "print(steps)\n",
        "print(arr)"
      ]
    },
    {
      "cell_type": "code",
      "execution_count": 11,
      "metadata": {
        "colab": {
          "base_uri": "https://localhost:8080/"
        },
        "id": "fUv1bwZszblg",
        "outputId": "db58de3f-791f-4b14-fa24-e982ad028537"
      },
      "outputs": [
        {
          "name": "stdout",
          "output_type": "stream",
          "text": [
            "5559289\n",
            "[1, 2, 3, 4, 5, 6, 7, 8]\n",
            "1045303\n",
            "[1, 2, 3, 4, 5, 6, 7, 8]\n",
            "364471\n",
            "[1, 2, 3, 4, 5, 6, 7, 8]\n"
          ]
        }
      ],
      "source": [
        "A = [1, 2, 3, 4, 5, 6, 7, 8]\n",
        "print(heap_sort_steps(A))\n",
        "print(A)\n",
        "\n",
        "A = [6, 7, 2, 5, 4, 3, 8, 1]\n",
        "print(heap_sort_steps(A))\n",
        "print(A)\n",
        "\n",
        "A = [8, 7, 6, 5, 4, 3, 2, 1]\n",
        "print(heap_sort_steps(A))\n",
        "print(A)\n"
      ]
    },
    {
      "cell_type": "code",
      "execution_count": 12,
      "metadata": {
        "colab": {
          "base_uri": "https://localhost:8080/"
        },
        "id": "bVMt0tTv6ps-",
        "outputId": "85afcc5f-b00a-4b34-b115-d796747d200a"
      },
      "outputs": [
        {
          "name": "stdout",
          "output_type": "stream",
          "text": [
            "(1, 2, 3)\n",
            "(1, 3, 2)\n",
            "(2, 1, 3)\n",
            "(2, 3, 1)\n",
            "(3, 1, 2)\n",
            "(3, 2, 1)\n"
          ]
        }
      ],
      "source": [
        "from itertools import permutations\n",
        "\n",
        "n = 3\n",
        "perm = permutations(range(1, n+1))\n",
        "\n",
        "ls = []\n",
        "# Print the obtained permutations\n",
        "for i in list(perm):\n",
        "    print(i)\n"
      ]
    },
    {
      "cell_type": "markdown",
      "metadata": {
        "id": "MfVzfDUnIJMT"
      },
      "source": [
        "Generate all permutations without repetitions of size _n_ (for small _n_), plot the \"exact\" time distribution (number of steps), and print the media and the standar deviation\n"
      ]
    },
    {
      "cell_type": "code",
      "execution_count": 13,
      "metadata": {
        "colab": {
          "base_uri": "https://localhost:8080/",
          "height": 451
        },
        "id": "6OlufEV-IJoK",
        "outputId": "accc6bf9-8144-4621-8b99-f35b9b9cd1c4"
      },
      "outputs": [
        {
          "data": {
            "image/png": "[encoded data removed]",
            "text/plain": [
              "<Figure size 432x288 with 1 Axes>"
            ]
          },
          "metadata": {
            "needs_background": "light"
          },
          "output_type": "display_data"
        },
        {
          "name": "stdout",
          "output_type": "stream",
          "text": [
            "n 3\n",
            "number of permutations n! = 6\n",
            "exp min = 47\n",
            "min formula 5*n-4 = 11\n",
            "exp max = 193\n",
            "max formula 3/2*n**2+7/2*n-4 = 20.0\n",
            "exp mean = 121.0\n",
            "mean formula 3/4*n**2+17/4*n-4 = 15.5\n",
            "stdev 50.91168824543142\n"
          ]
        }
      ],
      "source": [
        "from itertools import permutations\n",
        "import matplotlib.pyplot as plt\n",
        "import numpy as np\n",
        "import math\n",
        "\n",
        "n = 3\n",
        "X = range(n)\n",
        "times = []\n",
        "\n",
        "for P in permutations(X):\n",
        "    t = heap_sort_steps(list(P))\n",
        "    times.append(t)\n",
        "b = np.array(range(min(times)-1, max(times)+1))+0.5\n",
        "plt.hist(times, bins=b)\n",
        "plt.title(\"Heap Sort\")\n",
        "plt.xlabel(\"Steps\")\n",
        "plt.ylabel(\"Frequency\")\n",
        "plt.show()\n",
        "\n",
        "print(\"n\", n)\n",
        "print(\"number of permutations n! =\", math.factorial(n))\n",
        "print(\"exp min =\", min(times))\n",
        "print(\"min formula 5*n-4 =\", 5*n-4)\n",
        "print(\"exp max =\", max(times))\n",
        "print(\"max formula 3/2*n**2+7/2*n-4 =\", 3/2*n**2+7/2*n-4)\n",
        "print(\"exp mean =\", np.mean(times))\n",
        "print(\"mean formula 3/4*n**2+17/4*n-4 =\", 3/4*n**2+17/4*n-4)\n",
        "print(\"stdev\", np.std(times))\n"
      ]
    },
    {
      "cell_type": "code",
      "execution_count": 14,
      "metadata": {
        "colab": {
          "base_uri": "https://localhost:8080/",
          "height": 451
        },
        "id": "syZeILJdwNFD",
        "outputId": "812deaab-9b93-4f99-e04c-ae5c653b25b0"
      },
      "outputs": [
        {
          "data": {
            "image/png": "[encoded data removed]",
            "text/plain": [
              "<Figure size 432x288 with 1 Axes>"
            ]
          },
          "metadata": {
            "needs_background": "light"
          },
          "output_type": "display_data"
        },
        {
          "name": "stdout",
          "output_type": "stream",
          "text": [
            "n 4\n",
            "number of permutations n! = 24\n",
            "exp min = 331\n",
            "min formula 5*n-4 = 16\n",
            "exp max = 2491\n",
            "max formula 3/2*n**2+7/2*n-4 = 34.0\n",
            "exp mean = 1188.0\n",
            "mean formula 3/4*n**2+17/4*n-4 = 25.0\n",
            "stdev 569.4989025450357\n"
          ]
        }
      ],
      "source": [
        "from itertools import permutations\n",
        "import matplotlib.pyplot as plt\n",
        "import numpy as np\n",
        "import math\n",
        "\n",
        "n = 4\n",
        "X = range(n)\n",
        "times = []\n",
        "\n",
        "for P in permutations(X):\n",
        "    t = heap_sort_steps(list(P))\n",
        "    times.append(t)\n",
        "\n",
        "b = np.array(range(min(times)-1, max(times)+1))+0.5\n",
        "plt.hist(times, bins=b)\n",
        "plt.title(\"Heap Sort\")\n",
        "plt.xlabel(\"Steps\")\n",
        "plt.ylabel(\"Frequency\")\n",
        "plt.show()\n",
        "\n",
        "print(\"n\", n)\n",
        "print(\"number of permutations n! =\", math.factorial(n))\n",
        "print(\"exp min =\", min(times))\n",
        "print(\"min formula 5*n-4 =\", 5*n-4)\n",
        "print(\"exp max =\", max(times))\n",
        "print(\"max formula 3/2*n**2+7/2*n-4 =\", 3/2*n**2+7/2*n-4)\n",
        "print(\"exp mean =\", np.mean(times))\n",
        "print(\"mean formula 3/4*n**2+17/4*n-4 =\", 3/4*n**2+17/4*n-4)\n",
        "print(\"stdev\", np.std(times))\n"
      ]
    },
    {
      "cell_type": "code",
      "execution_count": 15,
      "metadata": {
        "colab": {
          "base_uri": "https://localhost:8080/",
          "height": 451
        },
        "id": "I-5RT7J6wQ54",
        "outputId": "0d8ca1cc-8adc-4585-c721-a8de7b69d433"
      },
      "outputs": [
        {
          "data": {
            "image/png": "[encoded data removed]",
            "text/plain": [
              "<Figure size 432x288 with 1 Axes>"
            ]
          },
          "metadata": {
            "needs_background": "light"
          },
          "output_type": "display_data"
        },
        {
          "name": "stdout",
          "output_type": "stream",
          "text": [
            "n 2\n",
            "number of permutations n! = 2\n",
            "exp min = 21\n",
            "min formula 5*n-4 = 6\n",
            "exp max = 51\n",
            "max formula 3/2*n**2+7/2*n-4 = 9.0\n",
            "exp mean = 36.0\n",
            "mean formula 3/4*n**2+17/4*n-4 = 7.5\n",
            "stdev 15.0\n"
          ]
        }
      ],
      "source": [
        "from itertools import permutations\n",
        "import matplotlib.pyplot as plt\n",
        "import numpy as np\n",
        "import math\n",
        "\n",
        "n = 2\n",
        "X = range(n)\n",
        "times = []\n",
        "\n",
        "for P in permutations(X):\n",
        "    t = heap_sort_steps(list(P))\n",
        "    times.append(t)\n",
        "\n",
        "b = np.array(range(min(times)-1, max(times)+1))+0.5\n",
        "plt.hist(times, bins=b)\n",
        "plt.title(\"Heap Sort\")\n",
        "plt.xlabel(\"Steps\")\n",
        "plt.ylabel(\"Frequency\")\n",
        "plt.show()\n",
        "\n",
        "print(\"n\", n)\n",
        "print(\"number of permutations n! =\", math.factorial(n))\n",
        "print(\"exp min =\", min(times))\n",
        "print(\"min formula 5*n-4 =\", 5*n-4)\n",
        "print(\"exp max =\", max(times))\n",
        "print(\"max formula 3/2*n**2+7/2*n-4 =\", 3/2*n**2+7/2*n-4)\n",
        "print(\"exp mean =\", np.mean(times))\n",
        "print(\"mean formula 3/4*n**2+17/4*n-4 =\", 3/4*n**2+17/4*n-4)\n",
        "print(\"stdev\", np.std(times))\n"
      ]
    },
    {
      "cell_type": "code",
      "execution_count": 16,
      "metadata": {
        "colab": {
          "base_uri": "https://localhost:8080/",
          "height": 451
        },
        "id": "yXlJ8bscwT3_",
        "outputId": "61e2dcf8-eee9-4fb8-d25d-2d9616fb4c07"
      },
      "outputs": [
        {
          "data": {
            "image/png": "[encoded data removed]",
            "text/plain": [
              "<Figure size 432x288 with 1 Axes>"
            ]
          },
          "metadata": {
            "needs_background": "light"
          },
          "output_type": "display_data"
        },
        {
          "name": "stdout",
          "output_type": "stream",
          "text": [
            "n 3\n",
            "number of permutations n! = 6\n",
            "exp min = 47\n",
            "min formula 5*n-4 = 11\n",
            "exp max = 193\n",
            "max formula 3/2*n**2+7/2*n-4 = 20.0\n",
            "exp mean = 121.0\n",
            "mean formula 3/4*n**2+17/4*n-4 = 15.5\n",
            "stdev 50.91168824543142\n"
          ]
        }
      ],
      "source": [
        "from itertools import permutations\n",
        "import matplotlib.pyplot as plt\n",
        "import numpy as np\n",
        "import math\n",
        "\n",
        "n = 3\n",
        "X = range(n)\n",
        "times = []\n",
        "\n",
        "for P in permutations(X):\n",
        "    t = heap_sort_steps(list(P))\n",
        "    times.append(t)\n",
        "\n",
        "b = np.array(range(min(times)-1, max(times)+1))+0.5\n",
        "plt.hist(times, bins=b)\n",
        "plt.title(\"Heap Sort\")\n",
        "plt.xlabel(\"Steps\")\n",
        "plt.ylabel(\"Frequency\")\n",
        "plt.show()\n",
        "\n",
        "print(\"n\", n)\n",
        "print(\"number of permutations n! =\", math.factorial(n))\n",
        "print(\"exp min =\", min(times))\n",
        "print(\"min formula 5*n-4 =\", 5*n-4)\n",
        "print(\"exp max =\", max(times))\n",
        "print(\"max formula 3/2*n**2+7/2*n-4 =\", 3/2*n**2+7/2*n-4)\n",
        "print(\"exp mean =\", np.mean(times))\n",
        "print(\"mean formula 3/4*n**2+17/4*n-4 =\", 3/4*n**2+17/4*n-4)\n",
        "print(\"stdev\", np.std(times))\n"
      ]
    },
    {
      "cell_type": "code",
      "execution_count": 17,
      "metadata": {
        "colab": {
          "base_uri": "https://localhost:8080/",
          "height": 451
        },
        "id": "IZzSy0ArmQg7",
        "outputId": "81fda651-3710-4d61-873e-ee0b97440fdd"
      },
      "outputs": [
        {
          "data": {
            "image/png": "[encoded data removed]",
            "text/plain": [
              "<Figure size 432x288 with 1 Axes>"
            ]
          },
          "metadata": {
            "needs_background": "light"
          },
          "output_type": "display_data"
        },
        {
          "name": "stdout",
          "output_type": "stream",
          "text": [
            "n 3\n",
            "number of permutations n! = 6\n",
            "exp min = 47\n",
            "min formula 5*n-4 = 11\n",
            "exp max = 193\n",
            "max formula 3/2*n**2+7/2*n-4 = 20.0\n",
            "exp mean = 121.0\n",
            "mean formula 3/4*n**2+17/4*n-4 = 15.5\n",
            "stdev 50.91168824543142\n"
          ]
        }
      ],
      "source": [
        "from itertools import permutations\n",
        "import matplotlib.pyplot as plt\n",
        "import numpy as np\n",
        "import math\n",
        "\n",
        "n = 3\n",
        "X = range(n)\n",
        "times = []\n",
        "\n",
        "for P in permutations(X):\n",
        "    t = heap_sort_steps(list(P))\n",
        "    times.append(t)\n",
        "\n",
        "b = np.array(range(min(times)-1, max(times)+1))+0.5\n",
        "plt.hist(times, bins=b)\n",
        "plt.title(\"Heap Sort\")\n",
        "plt.xlabel(\"Steps\")\n",
        "plt.ylabel(\"Frequency\")\n",
        "plt.show()\n",
        "\n",
        "print(\"n\", n)\n",
        "print(\"number of permutations n! =\", math.factorial(n))\n",
        "print(\"exp min =\", min(times))\n",
        "print(\"min formula 5*n-4 =\", 5*n-4)\n",
        "print(\"exp max =\", max(times))\n",
        "print(\"max formula 3/2*n**2+7/2*n-4 =\", 3/2*n**2+7/2*n-4)\n",
        "print(\"exp mean =\", np.mean(times))\n",
        "print(\"mean formula 3/4*n**2+17/4*n-4 =\", 3/4*n**2+17/4*n-4)\n",
        "print(\"stdev\", np.std(times))\n"
      ]
    },
    {
      "cell_type": "code",
      "execution_count": 18,
      "metadata": {
        "colab": {
          "base_uri": "https://localhost:8080/",
          "height": 451
        },
        "id": "IXzjXmURmSbU",
        "outputId": "9c02716c-0794-463b-cc6e-7752a656357e"
      },
      "outputs": [
        {
          "data": {
            "image/png": "[encoded data removed]",
            "text/plain": [
              "<Figure size 432x288 with 1 Axes>"
            ]
          },
          "metadata": {
            "needs_background": "light"
          },
          "output_type": "display_data"
        },
        {
          "name": "stdout",
          "output_type": "stream",
          "text": [
            "n 3\n",
            "number of permutations n! = 6\n",
            "exp min = 47\n",
            "min formula 5*n-4 = 11\n",
            "exp max = 193\n",
            "max formula 3/2*n**2+7/2*n-4 = 20.0\n",
            "exp mean = 121.0\n",
            "mean formula 3/4*n**2+17/4*n-4 = 15.5\n",
            "stdev 50.91168824543142\n"
          ]
        }
      ],
      "source": [
        "from itertools import permutations\n",
        "import matplotlib.pyplot as plt\n",
        "import numpy as np\n",
        "import math\n",
        "\n",
        "n = 3\n",
        "X = range(n)\n",
        "times = []\n",
        "\n",
        "for P in permutations(X):\n",
        "    t = heap_sort_steps(list(P))\n",
        "    times.append(t)\n",
        "\n",
        "b = np.array(range(min(times)-1, max(times)+1))+0.5\n",
        "plt.hist(times, bins=b)\n",
        "plt.title(\"Heap Sort\")\n",
        "plt.xlabel(\"Steps\")\n",
        "plt.ylabel(\"Frequency\")\n",
        "plt.show()\n",
        "\n",
        "print(\"n\", n)\n",
        "print(\"number of permutations n! =\", math.factorial(n))\n",
        "print(\"exp min =\", min(times))\n",
        "print(\"min formula 5*n-4 =\", 5*n-4)\n",
        "print(\"exp max =\", max(times))\n",
        "print(\"max formula 3/2*n**2+7/2*n-4 =\", 3/2*n**2+7/2*n-4)\n",
        "print(\"exp mean =\", np.mean(times))\n",
        "print(\"mean formula 3/4*n**2+17/4*n-4 =\", 3/4*n**2+17/4*n-4)\n",
        "print(\"stdev\", np.std(times))\n"
      ]
    },
    {
      "cell_type": "code",
      "execution_count": 19,
      "metadata": {
        "colab": {
          "base_uri": "https://localhost:8080/",
          "height": 451
        },
        "id": "xXBBldkSmUSK",
        "outputId": "43089871-b820-4c15-8248-4be08d0bc77f"
      },
      "outputs": [
        {
          "data": {
            "image/png": "[encoded data removed]",
            "text/plain": [
              "<Figure size 432x288 with 1 Axes>"
            ]
          },
          "metadata": {
            "needs_background": "light"
          },
          "output_type": "display_data"
        },
        {
          "name": "stdout",
          "output_type": "stream",
          "text": [
            "n 3\n",
            "number of permutations n! = 6\n",
            "exp min = 47\n",
            "min formula 5*n-4 = 11\n",
            "exp max = 193\n",
            "max formula 3/2*n**2+7/2*n-4 = 20.0\n",
            "exp mean = 121.0\n",
            "mean formula 3/4*n**2+17/4*n-4 = 15.5\n",
            "stdev 50.91168824543142\n"
          ]
        }
      ],
      "source": [
        "from itertools import permutations\n",
        "import matplotlib.pyplot as plt\n",
        "import numpy as np\n",
        "import math\n",
        "\n",
        "n = 3\n",
        "X = range(n)\n",
        "times = []\n",
        "\n",
        "for P in permutations(X):\n",
        "    t = heap_sort_steps(list(P))\n",
        "    times.append(t)\n",
        "\n",
        "b = np.array(range(min(times)-1, max(times)+1))+0.5\n",
        "plt.hist(times, bins=b)\n",
        "plt.title(\"Heap Sort\")\n",
        "plt.xlabel(\"Steps\")\n",
        "plt.ylabel(\"Frequency\")\n",
        "plt.show()\n",
        "\n",
        "print(\"n\", n)\n",
        "print(\"number of permutations n! =\", math.factorial(n))\n",
        "print(\"exp min =\", min(times))\n",
        "print(\"min formula 5*n-4 =\", 5*n-4)\n",
        "print(\"exp max =\", max(times))\n",
        "print(\"max formula 3/2*n**2+7/2*n-4 =\", 3/2*n**2+7/2*n-4)\n",
        "print(\"exp mean =\", np.mean(times))\n",
        "print(\"mean formula 3/4*n**2+17/4*n-4 =\", 3/4*n**2+17/4*n-4)\n",
        "print(\"stdev\", np.std(times))\n"
      ]
    },
    {
      "cell_type": "code",
      "execution_count": 20,
      "metadata": {
        "colab": {
          "base_uri": "https://localhost:8080/",
          "height": 451
        },
        "id": "RaMDOzJ_mVtb",
        "outputId": "f7a0285a-65e3-468c-a657-55e691f137ec"
      },
      "outputs": [
        {
          "data": {
            "image/png": "[encoded data removed]",
            "text/plain": [
              "<Figure size 432x288 with 1 Axes>"
            ]
          },
          "metadata": {
            "needs_background": "light"
          },
          "output_type": "display_data"
        },
        {
          "name": "stdout",
          "output_type": "stream",
          "text": [
            "n 2\n",
            "number of permutations n! = 2\n",
            "exp min = 21\n",
            "min formula 5*n-4 = 6\n",
            "exp max = 51\n",
            "max formula 3/2*n**2+7/2*n-4 = 9.0\n",
            "exp mean = 36.0\n",
            "mean formula 3/4*n**2+17/4*n-4 = 7.5\n",
            "stdev 15.0\n"
          ]
        }
      ],
      "source": [
        "from itertools import permutations\n",
        "import matplotlib.pyplot as plt\n",
        "import numpy as np\n",
        "import math\n",
        "\n",
        "n = 2\n",
        "X = range(n)\n",
        "times = []\n",
        "\n",
        "for P in permutations(X):\n",
        "    t = heap_sort_steps(list(P))\n",
        "    times.append(t)\n",
        "\n",
        "b = np.array(range(min(times)-1, max(times)+1))+0.5\n",
        "plt.hist(times, bins=b)\n",
        "plt.title(\"Heap Sort\")\n",
        "plt.xlabel(\"Steps\")\n",
        "plt.ylabel(\"Frequency\")\n",
        "plt.show()\n",
        "\n",
        "print(\"n\", n)\n",
        "print(\"number of permutations n! =\", math.factorial(n))\n",
        "print(\"exp min =\", min(times))\n",
        "print(\"min formula 5*n-4 =\", 5*n-4)\n",
        "print(\"exp max =\", max(times))\n",
        "print(\"max formula 3/2*n**2+7/2*n-4 =\", 3/2*n**2+7/2*n-4)\n",
        "print(\"exp mean =\", np.mean(times))\n",
        "print(\"mean formula 3/4*n**2+17/4*n-4 =\", 3/4*n**2+17/4*n-4)\n",
        "print(\"stdev\", np.std(times))\n"
      ]
    },
    {
      "cell_type": "code",
      "execution_count": 21,
      "metadata": {
        "colab": {
          "base_uri": "https://localhost:8080/",
          "height": 451
        },
        "id": "a_k-rk43mdOb",
        "outputId": "4f11234f-a694-4830-bad7-84a497b62d4a"
      },
      "outputs": [
        {
          "data": {
            "image/png": "[encoded data removed]",
            "text/plain": [
              "<Figure size 432x288 with 1 Axes>"
            ]
          },
          "metadata": {
            "needs_background": "light"
          },
          "output_type": "display_data"
        },
        {
          "name": "stdout",
          "output_type": "stream",
          "text": [
            "n 3\n",
            "number of permutations n! = 6\n",
            "exp min = 47\n",
            "min formula 5*n-4 = 11\n",
            "exp max = 193\n",
            "max formula 3/2*n**2+7/2*n-4 = 20.0\n",
            "exp mean = 121.0\n",
            "mean formula 3/4*n**2+17/4*n-4 = 15.5\n",
            "stdev 50.91168824543142\n"
          ]
        }
      ],
      "source": [
        "from itertools import permutations\n",
        "import matplotlib.pyplot as plt\n",
        "import numpy as np\n",
        "import math\n",
        "\n",
        "n = 3\n",
        "X = range(n)\n",
        "times = []\n",
        "\n",
        "for P in permutations(X):\n",
        "    t = heap_sort_steps(list(P))\n",
        "    times.append(t)\n",
        "\n",
        "b = np.array(range(min(times)-1, max(times)+1))+0.5\n",
        "plt.hist(times, bins=b)\n",
        "plt.title(\"Heap Sort\")\n",
        "plt.xlabel(\"Steps\")\n",
        "plt.ylabel(\"Frequency\")\n",
        "plt.show()\n",
        "\n",
        "print(\"n\", n)\n",
        "print(\"number of permutations n! =\", math.factorial(n))\n",
        "print(\"exp min =\", min(times))\n",
        "print(\"min formula 5*n-4 =\", 5*n-4)\n",
        "print(\"exp max =\", max(times))\n",
        "print(\"max formula 3/2*n**2+7/2*n-4 =\", 3/2*n**2+7/2*n-4)\n",
        "print(\"exp mean =\", np.mean(times))\n",
        "print(\"mean formula 3/4*n**2+17/4*n-4 =\", 3/4*n**2+17/4*n-4)\n",
        "print(\"stdev\", np.std(times))\n"
      ]
    },
    {
      "cell_type": "code",
      "execution_count": 22,
      "metadata": {
        "colab": {
          "base_uri": "https://localhost:8080/",
          "height": 248
        },
        "id": "0Atsk5f7hDbJ",
        "outputId": "d58479d6-361b-43bf-90d1-cb1864bf77bb"
      },
      "outputs": [
        {
          "data": {
            "image/png": "[encoded data removed]",
            "text/plain": [
              "<Figure size 432x288 with 1 Axes>"
            ]
          },
          "metadata": {
            "needs_background": "light"
          },
          "output_type": "display_data"
        }
      ],
      "source": [
        "# https://towardsdatascience.com/an-easy-introduction-to-3d-plotting-with-matplotlib-801561999725\n",
        "\n",
        "import numpy as np\n",
        "import matplotlib.pyplot as plt\n",
        "from mpl_toolkits import mplot3d\n",
        "\n",
        "fig = plt.figure()\n",
        "ax = plt.axes(projection=\"3d\")\n",
        "\n",
        "plt.show()\n"
      ]
    },
    {
      "cell_type": "code",
      "execution_count": 23,
      "metadata": {
        "colab": {
          "base_uri": "https://localhost:8080/",
          "height": 248
        },
        "id": "n2BQLgVahOMK",
        "outputId": "838a884f-b210-46fa-b451-eaa7e95e8263"
      },
      "outputs": [
        {
          "data": {
            "image/png": "[encoded data removed]",
            "text/plain": [
              "<Figure size 432x288 with 1 Axes>"
            ]
          },
          "metadata": {
            "needs_background": "light"
          },
          "output_type": "display_data"
        }
      ],
      "source": [
        "# https://stackoverflow.com/questions/24736758/parameters-required-by-bar3d-with-python\n",
        "\n",
        "import numpy as np\n",
        "import matplotlib.pyplot as plt\n",
        "from mpl_toolkits.mplot3d import Axes3D\n",
        "\n",
        "fig = plt.figure()\n",
        "ax = plt.axes(projection=\"3d\")\n",
        "\n",
        "x = [1, 2, 3, 10]  # x coordinates of each bar\n",
        "y = [0, 0, 0, 10]  # y coordinates of each bar\n",
        "z = [0, 0, 0, 0]  # z coordinates of each bar\n",
        "dx = [0.5, 0.5, 0.5, 0.5]  # Width of each bar\n",
        "dy = [0.5, 0.5, 0.5, 0.5]  # Depth of each bar\n",
        "dz = [5, 4, 7, 3]        # Height of each bar\n",
        "\n",
        "ax.bar3d(x, y, z, dx, dy, dz, color='b', zsort='average')\n",
        "plt.show()\n"
      ]
    },
    {
      "cell_type": "code",
      "execution_count": 24,
      "metadata": {
        "colab": {
          "base_uri": "https://localhost:8080/",
          "height": 297
        },
        "id": "xGglfsdU29d7",
        "outputId": "3418ca1a-e61a-4e89-d494-e0e50bb1257f"
      },
      "outputs": [
        {
          "data": {
            "text/plain": [
              "<matplotlib.legend.Legend at 0x115934d30>"
            ]
          },
          "execution_count": 24,
          "metadata": {},
          "output_type": "execute_result"
        },
        {
          "data": {
            "image/png": "[encoded data removed]",
            "text/plain": [
              "<Figure size 432x288 with 1 Axes>"
            ]
          },
          "metadata": {
            "needs_background": "light"
          },
          "output_type": "display_data"
        }
      ],
      "source": [
        "import matplotlib.pyplot as plt\n",
        "import numpy as np\n",
        "\n",
        "n = np.arange(1, 21, 1)\n",
        "\n",
        "plt.plot(n, 5*n-4,  label='heap sort best time $5n-4$', color='aqua')\n",
        "plt.plot(n, 3/4*n**2+17/4*n-4,\n",
        "         label='heap sortaverage time $3/4 n*^2+17/4 n - 4$', color='royalblue')\n",
        "plt.plot(n, 3/2*n**2+7/2*n-4,\n",
        "         label='heap sort worst time $3/2 n*^2+7/2 n - 4$', color='blue')\n",
        "plt.xlabel('Array size')\n",
        "plt.ylabel('Steps')\n",
        "plt.legend(loc='upper left')\n"
      ]
    },
    {
      "cell_type": "markdown",
      "metadata": {
        "id": "j-so_gwTISPr"
      },
      "source": [
        "# Sample of runs (montecarlo)\n",
        "\n",
        "Generate a sample of _runs=1000,10000_ random permutations of size _n=3,4,30,100_ (for large _n_), plot the \"approximated o estimated\" time distribution (number of steps), and print the media and the standar deviation.\n"
      ]
    },
    {
      "cell_type": "code",
      "execution_count": 25,
      "metadata": {
        "colab": {
          "base_uri": "https://localhost:8080/",
          "height": 451
        },
        "id": "qnVa_8aLIVMD",
        "outputId": "22de2004-28ac-4ac6-cd8a-54e97801e455"
      },
      "outputs": [
        {
          "data": {
            "image/png": "[encoded data removed]",
            "text/plain": [
              "<Figure size 432x288 with 1 Axes>"
            ]
          },
          "metadata": {
            "needs_background": "light"
          },
          "output_type": "display_data"
        },
        {
          "name": "stdout",
          "output_type": "stream",
          "text": [
            "n 3\n",
            "runs 1000\n",
            "min 47\n",
            "min formula ,5*n-4 = 11\n",
            "max 193\n",
            "max formula 3/2*n**2+7/2*n-4 = 20.0\n",
            "mean 120.248\n",
            "mean formula 3/4*n**2+17/4*n-4 =  15.5\n",
            "stdev 50.975548020595134\n"
          ]
        }
      ],
      "source": [
        "import matplotlib.pyplot as plt\n",
        "import numpy as np\n",
        "\n",
        "n = 3\n",
        "runs = 1000\n",
        "times = []\n",
        "for r in range(1, runs+1):\n",
        "    P = np.random.permutation(n)\n",
        "    t = heap_sort_steps(P)\n",
        "    times.append(t)\n",
        "\n",
        "b = np.array(range(min(times)-1, max(times)+1))+0.5\n",
        "plt.hist(times, bins=b)\n",
        "plt.title(\"Heap Sort\")\n",
        "plt.xlabel(\"Steps\")\n",
        "plt.ylabel(\"Frequency\")\n",
        "plt.show()\n",
        "\n",
        "print(\"n\", n)\n",
        "print(\"runs\", runs)\n",
        "print(\"min\", min(times))\n",
        "print(\"min formula ,5*n-4 =\", 5*n-4)\n",
        "print(\"max\", max(times))\n",
        "print(\"max formula 3/2*n**2+7/2*n-4 =\", 3/2*n**2+7/2*n-4)\n",
        "print(\"mean\", np.mean(times))\n",
        "print(\"mean formula 3/4*n**2+17/4*n-4 = \", 3/4*n**2+17/4*n-4)\n",
        "print(\"stdev\", np.std(times))\n"
      ]
    },
    {
      "cell_type": "code",
      "execution_count": 26,
      "metadata": {
        "colab": {
          "base_uri": "https://localhost:8080/",
          "height": 451
        },
        "id": "TGXIVcQTxgh6",
        "outputId": "42db048d-2868-49b1-bda1-631e443b8051"
      },
      "outputs": [
        {
          "data": {
            "image/png": "[encoded data removed]",
            "text/plain": [
              "<Figure size 432x288 with 1 Axes>"
            ]
          },
          "metadata": {
            "needs_background": "light"
          },
          "output_type": "display_data"
        },
        {
          "name": "stdout",
          "output_type": "stream",
          "text": [
            "n 4\n",
            "runs 10000\n",
            "min 331\n",
            "min formula ,5*n-4 = 16\n",
            "max 2491\n",
            "max formula 3/2*n**2+7/2*n-4 = 34.0\n",
            "mean 1191.094\n",
            "mean formula 3/4*n**2+17/4*n-4 =  25.0\n",
            "stdev 568.9840904313581\n"
          ]
        }
      ],
      "source": [
        "import matplotlib.pyplot as plt\n",
        "import numpy as np\n",
        "\n",
        "n = 4\n",
        "runs = 10000\n",
        "times = []\n",
        "for r in range(1, runs+1):\n",
        "    P = np.random.permutation(n)\n",
        "    t = heap_sort_steps(P)\n",
        "    times.append(t)\n",
        "\n",
        "b = np.array(range(min(times)-1, max(times)+1))+0.5\n",
        "plt.hist(times, bins=b)\n",
        "plt.title(\"Heap Sort\")\n",
        "plt.xlabel(\"Steps\")\n",
        "plt.ylabel(\"Frequency\")\n",
        "plt.show()\n",
        "\n",
        "print(\"n\", n)\n",
        "print(\"runs\", runs)\n",
        "print(\"min\", min(times))\n",
        "print(\"min formula ,5*n-4 =\", 5*n-4)\n",
        "print(\"max\", max(times))\n",
        "print(\"max formula 3/2*n**2+7/2*n-4 =\", 3/2*n**2+7/2*n-4)\n",
        "print(\"mean\", np.mean(times))\n",
        "print(\"mean formula 3/4*n**2+17/4*n-4 = \", 3/4*n**2+17/4*n-4)\n",
        "print(\"stdev\", np.std(times))\n"
      ]
    },
    {
      "cell_type": "markdown",
      "metadata": {
        "id": "lbH_V04H8nKf"
      },
      "source": [
        "The heapsort algorithm starts by using\n",
        "Build-MaxHeap to build a max-heap on\n",
        "the imput array A[1..n], where\n",
        "n = length[A]. Since the maximum\n",
        "element of the array is stored at the\n",
        "root A[1], it can be put into its correct\n",
        "final position by exchanging it with\n",
        "A[n]."
      ]
    },
    {
      "cell_type": "code",
      "execution_count": 27,
      "metadata": {
        "colab": {
          "base_uri": "https://localhost:8080/"
        },
        "id": "YJtCAuQ-5fbv",
        "outputId": "8cac1eae-86be-4511-9a86-b13a13c1e0b8"
      },
      "outputs": [
        {
          "name": "stdout",
          "output_type": "stream",
          "text": [
            "(1, 1, 1)\n",
            "(1, 1, 2)\n",
            "(1, 1, 3)\n",
            "(1, 2, 1)\n",
            "(1, 2, 2)\n",
            "(1, 2, 3)\n",
            "(1, 3, 1)\n",
            "(1, 3, 2)\n",
            "(1, 3, 3)\n",
            "(2, 1, 1)\n",
            "(2, 1, 2)\n",
            "(2, 1, 3)\n",
            "(2, 2, 1)\n",
            "(2, 2, 2)\n",
            "(2, 2, 3)\n",
            "(2, 3, 1)\n",
            "(2, 3, 2)\n",
            "(2, 3, 3)\n",
            "(3, 1, 1)\n",
            "(3, 1, 2)\n",
            "(3, 1, 3)\n",
            "(3, 2, 1)\n",
            "(3, 2, 2)\n",
            "(3, 2, 3)\n",
            "(3, 3, 1)\n",
            "(3, 3, 2)\n",
            "(3, 3, 3)\n",
            "27\n"
          ]
        }
      ],
      "source": [
        "from itertools import product\n",
        "\n",
        "n = 3\n",
        "perm = product(range(1, n+1), repeat=n)\n",
        "\n",
        "c = 0\n",
        "for i in perm:\n",
        "    print(i)\n",
        "    c += 1\n",
        "\n",
        "print(c)\n"
      ]
    },
    {
      "cell_type": "code",
      "execution_count": 28,
      "metadata": {
        "colab": {
          "base_uri": "https://localhost:8080/",
          "height": 451
        },
        "id": "-DZDCLvh9XzP",
        "outputId": "d9d991f9-dac3-4f01-f0e6-5225178e1590"
      },
      "outputs": [
        {
          "data": {
            "image/png": "[encoded data removed]",
            "text/plain": [
              "<Figure size 432x288 with 1 Axes>"
            ]
          },
          "metadata": {
            "needs_background": "light"
          },
          "output_type": "display_data"
        },
        {
          "name": "stdout",
          "output_type": "stream",
          "text": [
            "n 3\n",
            "number of permutations with repetion = 27\n",
            "exp min = 47\n",
            "min formula 5*n-4 = 11\n",
            "exp max = 193\n",
            "max formula 3/2*n**2+7/2*n-4 = 20.0\n",
            "exp mean = 88.33333333333333\n",
            "mean formula 3/4*n**2+17/4*n-4 = 15.5\n",
            "stdev 38.724095283886946\n"
          ]
        }
      ],
      "source": [
        "from itertools import product\n",
        "import matplotlib.pyplot as plt\n",
        "import numpy as np\n",
        "\n",
        "n = 3\n",
        "\n",
        "times = []\n",
        "for P in product(range(1, n+1), repeat=n):\n",
        "    t = heap_sort_steps(list(P))\n",
        "    times.append(t)\n",
        "\n",
        "b = np.array(range(min(times)-1, max(times)+1))+0.5\n",
        "plt.hist(times, bins=b)\n",
        "plt.title(\"Heap Sort\")\n",
        "plt.xlabel(\"Steps\")\n",
        "plt.ylabel(\"Frequency\")\n",
        "plt.show()\n",
        "\n",
        "print(\"n\", n)\n",
        "print(\"number of permutations with repetion =\", n**n)\n",
        "print(\"exp min =\", min(times))\n",
        "print(\"min formula 5*n-4 =\", 5*n-4)\n",
        "print(\"exp max =\", max(times))\n",
        "print(\"max formula 3/2*n**2+7/2*n-4 =\", 3/2*n**2+7/2*n-4)\n",
        "print(\"exp mean =\", np.mean(times))\n",
        "print(\"mean formula 3/4*n**2+17/4*n-4 =\", 3/4*n**2+17/4*n-4)\n",
        "print(\"stdev\", np.std(times))\n"
      ]
    },
    {
      "cell_type": "code",
      "execution_count": 29,
      "metadata": {
        "colab": {
          "base_uri": "https://localhost:8080/",
          "height": 451
        },
        "id": "Fk02wx5c-fb-",
        "outputId": "0484eb6d-1416-4a03-ef5b-5347d7861c4f"
      },
      "outputs": [
        {
          "data": {
            "image/png": "[encoded data removed]",
            "text/plain": [
              "<Figure size 432x288 with 1 Axes>"
            ]
          },
          "metadata": {
            "needs_background": "light"
          },
          "output_type": "display_data"
        },
        {
          "name": "stdout",
          "output_type": "stream",
          "text": [
            "n 4\n",
            "number of permutations with repetion = 256\n",
            "exp min = 195\n",
            "min formula 5*n-4 = 16\n",
            "exp max = 2491\n",
            "max formula 3/2*n**2+7/2*n-4 = 34.0\n",
            "exp mean = 803.109375\n",
            "mean formula 3/4*n**2+7/2*n-13/4 = 22.75\n",
            "stdev 473.3254237700626\n"
          ]
        }
      ],
      "source": [
        "from itertools import product\n",
        "import matplotlib.pyplot as plt\n",
        "import numpy as np\n",
        "\n",
        "n = 4\n",
        "\n",
        "times = []\n",
        "for P in product(range(1, n+1), repeat=n):\n",
        "    t = heap_sort_steps(list(P))\n",
        "    times.append(t)\n",
        "\n",
        "b = np.array(range(min(times)-1, max(times)+1))+0.5\n",
        "plt.hist(times, bins=b)\n",
        "plt.title(\"Heap Sort\")\n",
        "plt.xlabel(\"Steps\")\n",
        "plt.ylabel(\"Frequency\")\n",
        "plt.show()\n",
        "\n",
        "print(\"n\", n)\n",
        "print(\"number of permutations with repetion =\", n**n)\n",
        "print(\"exp min =\", min(times))\n",
        "print(\"min formula 5*n-4 =\", 5*n-4)\n",
        "print(\"exp max =\", max(times))\n",
        "print(\"max formula 3/2*n**2+7/2*n-4 =\", 3/2*n**2+7/2*n-4)\n",
        "print(\"exp mean =\", np.mean(times))\n",
        "print(\"mean formula 3/4*n**2+7/2*n-13/4 =\", 3/4*n**2+7/2*n-13/4)\n",
        "print(\"stdev\", np.std(times))\n"
      ]
    },
    {
      "cell_type": "code",
      "execution_count": 30,
      "metadata": {
        "colab": {
          "base_uri": "https://localhost:8080/",
          "height": 451
        },
        "id": "_X_A0sC6-h8N",
        "outputId": "19c3be22-5a78-4fc9-f05b-26f43b1cc642"
      },
      "outputs": [
        {
          "data": {
            "image/png": "[encoded data removed]",
            "text/plain": [
              "<Figure size 432x288 with 1 Axes>"
            ]
          },
          "metadata": {
            "needs_background": "light"
          },
          "output_type": "display_data"
        },
        {
          "name": "stdout",
          "output_type": "stream",
          "text": [
            "n 5\n",
            "number of permutations with repetion = 3125\n",
            "exp min = 395\n",
            "min formula 5*n-4 = 21\n",
            "exp max = 10753\n",
            "max formula 3/2*n**2+7/2*n-4 = 51.0\n",
            "exp mean = 3189.49152\n",
            "mean formula 3/4*n**2+7/2*n-13/4 = 33.0\n",
            "stdev 1914.068158537749\n"
          ]
        }
      ],
      "source": [
        "from itertools import product\n",
        "import matplotlib.pyplot as plt\n",
        "import numpy as np\n",
        "\n",
        "n = 5\n",
        "\n",
        "times = []\n",
        "for P in product(range(1, n+1), repeat=n):\n",
        "    t = heap_sort_steps(list(P))\n",
        "    times.append(t)\n",
        "\n",
        "b = np.array(range(min(times)-1, max(times)+1))+0.5\n",
        "plt.hist(times, bins=b)\n",
        "plt.title(\"Heap Sort\")\n",
        "plt.xlabel(\"Steps\")\n",
        "plt.ylabel(\"Frequency\")\n",
        "plt.show()\n",
        "\n",
        "print(\"n\", n)\n",
        "print(\"number of permutations with repetion =\", n**n)\n",
        "print(\"exp min =\", min(times))\n",
        "print(\"min formula 5*n-4 =\", 5*n-4)\n",
        "print(\"exp max =\", max(times))\n",
        "print(\"max formula 3/2*n**2+7/2*n-4 =\", 3/2*n**2+7/2*n-4)\n",
        "print(\"exp mean =\", np.mean(times))\n",
        "print(\"mean formula 3/4*n**2+7/2*n-13/4 =\", 3/4*n**2+7/2*n-13/4)\n",
        "print(\"stdev\", np.std(times))\n"
      ]
    },
    {
      "cell_type": "code",
      "execution_count": 31,
      "metadata": {
        "colab": {
          "base_uri": "https://localhost:8080/",
          "height": 451
        },
        "id": "Cwygx1D4ER9O",
        "outputId": "ab21cecb-7cff-437a-ca72-52bf7f2b8e5d"
      },
      "outputs": [
        {
          "data": {
            "image/png": "[encoded data removed]",
            "text/plain": [
              "<Figure size 432x288 with 1 Axes>"
            ]
          },
          "metadata": {
            "needs_background": "light"
          },
          "output_type": "display_data"
        },
        {
          "name": "stdout",
          "output_type": "stream",
          "text": [
            "n 6\n",
            "number of permutations with repetion = 46656\n",
            "exp min = 1563\n",
            "min formula 5*n-4 = 26\n",
            "exp max = 116665\n",
            "max formula 3/2*n**2+7/2*n-4 = 71.0\n",
            "exp mean = 25115.667309670782\n",
            "mean formula 3/4*n**2+7/2*n-13/4 = 44.75\n",
            "stdev 17109.92825686773\n"
          ]
        }
      ],
      "source": [
        "from itertools import product\n",
        "import matplotlib.pyplot as plt\n",
        "import numpy as np\n",
        "\n",
        "n = 6\n",
        "\n",
        "times = []\n",
        "for P in product(range(1, n+1), repeat=n):\n",
        "    t = heap_sort_steps(list(P))\n",
        "    times.append(t)\n",
        "\n",
        "b = np.array(range(min(times)-1, max(times)+1))+0.5\n",
        "plt.hist(times, bins=b)\n",
        "plt.title(\"Heap Sort\")\n",
        "plt.xlabel(\"Steps\")\n",
        "plt.ylabel(\"Frequency\")\n",
        "plt.show()\n",
        "\n",
        "print(\"n\", n)\n",
        "print(\"number of permutations with repetion =\", n**n)\n",
        "print(\"exp min =\", min(times))\n",
        "print(\"min formula 5*n-4 =\", 5*n-4)\n",
        "print(\"exp max =\", max(times))\n",
        "print(\"max formula 3/2*n**2+7/2*n-4 =\", 3/2*n**2+7/2*n-4)\n",
        "print(\"exp mean =\", np.mean(times))\n",
        "print(\"mean formula 3/4*n**2+7/2*n-13/4 =\", 3/4*n**2+7/2*n-13/4)\n",
        "print(\"stdev\", np.std(times))\n"
      ]
    },
    {
      "cell_type": "code",
      "execution_count": 32,
      "metadata": {
        "colab": {
          "base_uri": "https://localhost:8080/",
          "height": 451
        },
        "id": "nhIYAqUQFwjP",
        "outputId": "501ded87-d67d-4e52-f4e5-95d9bc814266"
      },
      "outputs": [
        {
          "data": {
            "image/png": "[encoded data removed]",
            "text/plain": [
              "<Figure size 432x288 with 1 Axes>"
            ]
          },
          "metadata": {
            "needs_background": "light"
          },
          "output_type": "display_data"
        },
        {
          "name": "stdout",
          "output_type": "stream",
          "text": [
            "n 4\n",
            "number of permutations with repetion = 256\n",
            "exp min = 195\n",
            "min formula 5*n-4 = 16\n",
            "exp max = 2491\n",
            "max formula 3/2*n**2+7/2*n-4 = 34.0\n",
            "exp mean = 803.109375\n",
            "mean formula 3/4*n**2+7/2*n-13/4 = 22.75\n",
            "stdev 473.3254237700626\n"
          ]
        }
      ],
      "source": [
        "from itertools import product\n",
        "import matplotlib.pyplot as plt\n",
        "import numpy as np\n",
        "\n",
        "n = 4\n",
        "\n",
        "times = []\n",
        "for P in product(range(1, n+1), repeat=n):\n",
        "    t = heap_sort_steps(list(P))\n",
        "    times.append(t)\n",
        "\n",
        "b = np.array(range(min(times)-1, max(times)+1))+0.5\n",
        "plt.hist(times, bins=b)\n",
        "plt.title(\"Heap Sort\")\n",
        "plt.xlabel(\"Steps\")\n",
        "plt.ylabel(\"Frequency\")\n",
        "plt.show()\n",
        "\n",
        "print(\"n\", n)\n",
        "print(\"number of permutations with repetion =\", n**n)\n",
        "print(\"exp min =\", min(times))\n",
        "print(\"min formula 5*n-4 =\", 5*n-4)\n",
        "print(\"exp max =\", max(times))\n",
        "print(\"max formula 3/2*n**2+7/2*n-4 =\", 3/2*n**2+7/2*n-4)\n",
        "print(\"exp mean =\", np.mean(times))\n",
        "print(\"mean formula 3/4*n**2+7/2*n-13/4 =\", 3/4*n**2+7/2*n-13/4)\n",
        "print(\"stdev\", np.std(times))\n"
      ]
    },
    {
      "cell_type": "code",
      "execution_count": 33,
      "metadata": {
        "colab": {
          "base_uri": "https://localhost:8080/",
          "height": 451
        },
        "id": "m33aojDdF5rp",
        "outputId": "dda3db3b-11d4-4f3c-dbe1-b7050017d59c"
      },
      "outputs": [
        {
          "data": {
            "image/png": "[encoded data removed]",
            "text/plain": [
              "<Figure size 432x288 with 1 Axes>"
            ]
          },
          "metadata": {
            "needs_background": "light"
          },
          "output_type": "display_data"
        },
        {
          "name": "stdout",
          "output_type": "stream",
          "text": [
            "n 4\n",
            "number of permutations with repetion = 256\n",
            "exp min = 195\n",
            "min formula 5*n-4 = 16\n",
            "exp max = 2491\n",
            "max formula 3/2*n**2+7/2*n-4 = 34.0\n",
            "exp mean = 803.109375\n",
            "mean formula 3/4*n**2+7/2*n-13/4 = 14.75\n",
            "stdev 473.3254237700626\n"
          ]
        }
      ],
      "source": [
        "from itertools import product\n",
        "import matplotlib.pyplot as plt\n",
        "import numpy as np\n",
        "\n",
        "n = 4\n",
        "\n",
        "times = []\n",
        "for P in product(range(1, n+1), repeat=n):\n",
        "    t = heap_sort_steps(list(P))\n",
        "    times.append(t)\n",
        "\n",
        "b = np.array(range(min(times)-1, max(times)+1))+0.5\n",
        "plt.hist(times, bins=b)\n",
        "plt.title(\"Heap Sort\")\n",
        "plt.xlabel(\"Steps\")\n",
        "plt.ylabel(\"Frequency\")\n",
        "plt.show()\n",
        "\n",
        "print(\"n\", n)\n",
        "print(\"number of permutations with repetion =\", n**n)\n",
        "print(\"exp min =\", min(times))\n",
        "print(\"min formula 5*n-4 =\", 5*n-4)\n",
        "print(\"exp max =\", max(times))\n",
        "print(\"max formula 3/2*n**2+7/2*n-4 =\", 3/2*n**2+7/2*n-4)\n",
        "print(\"exp mean =\", np.mean(times))\n",
        "print(\"mean formula 3/4*n**2+7/2*n-13/4 =\", 1/4*n**2+7/2*n-13/4)\n",
        "print(\"stdev\", np.std(times))\n"
      ]
    },
    {
      "cell_type": "code",
      "execution_count": 34,
      "metadata": {
        "colab": {
          "base_uri": "https://localhost:8080/",
          "height": 285
        },
        "id": "RFWcVt39GBkd",
        "outputId": "012633a3-70fa-4980-8e80-e51c7e7b4bad"
      },
      "outputs": [
        {
          "name": "stderr",
          "output_type": "stream",
          "text": [
            "/var/folders/j5/f5smx8zs7msgs9x_8hm4fj400000gn/T/ipykernel_1883/3836552056.py:29: VisibleDeprecationWarning: Creating an ndarray from ragged nested sequences (which is a list-or-tuple of lists-or-tuples-or ndarrays with different lengths or shapes) is deprecated. If you meant to do this, you must specify 'dtype=object' when creating the ndarray.\n",
            "  H = np.array(np.histogram(times, b))\n"
          ]
        },
        {
          "data": {
            "image/png": "[encoded data removed]",
            "text/plain": [
              "<Figure size 432x288 with 1 Axes>"
            ]
          },
          "metadata": {
            "needs_background": "light"
          },
          "output_type": "display_data"
        }
      ],
      "source": [
        "# https://towardsdatascience.com/an-easy-introduction-to-3d-plotting-with-matplotlib-801561999725\n",
        "from itertools import product\n",
        "import numpy as np\n",
        "import matplotlib.pyplot as plt\n",
        "from mpl_toolkits.mplot3d import Axes3D\n",
        "import random\n",
        "\n",
        "fig = plt.figure()\n",
        "ax = plt.axes(projection=\"3d\")\n",
        "\n",
        "N = 4\n",
        "\n",
        "x = []\n",
        "y = []\n",
        "z = []\n",
        "dx = []\n",
        "dy = []\n",
        "dz = []\n",
        "\n",
        "for n in np.arange(3, N+1, 1):\n",
        "\n",
        "    times = []\n",
        "\n",
        "    for P in product(range(1, n+1), repeat=n):\n",
        "        t = heap_sort_steps(list(P))\n",
        "        times.append(t)\n",
        "\n",
        "    b = np.array(range(min(times)-1, max(times)+1))+0.5\n",
        "    H = np.array(np.histogram(times, b))\n",
        "    H[0] = H[0]/np.sum(H[0])\n",
        "    for i in range(len(H[0])):\n",
        "        x.append(n)\n",
        "        y.append(H[1][i])\n",
        "        z.append(0)\n",
        "        dx.append(0.1)\n",
        "        dy.append(0.1)\n",
        "        dz.append(H[0][i])\n",
        "\n",
        "ax.bar3d(x, y, z, dx, dy, dz, color='aqua', zsort='average')\n",
        "plt.show()\n"
      ]
    },
    {
      "cell_type": "markdown",
      "metadata": {
        "id": "wfg90NPdEzll"
      },
      "source": [
        "# Average case - expected number of comparisons + swaps on random unifrom permtation of $n$ elements with repetitions $t_a(n) = \\frac{3}{4}n^2 + \\frac{7}{2}n - \\frac{13}{4} = \\Theta(n^2) $\n"
      ]
    },
    {
      "cell_type": "code",
      "execution_count": 35,
      "metadata": {
        "colab": {
          "base_uri": "https://localhost:8080/",
          "height": 175
        },
        "id": "UPoRscjA-nQe",
        "outputId": "2c35a1f1-6cb1-4d6d-906e-7431728ae1b9"
      },
      "outputs": [
        {
          "data": {
            "text/html": [
              "<div>\n",
              "<style scoped>\n",
              "    .dataframe tbody tr th:only-of-type {\n",
              "        vertical-align: middle;\n",
              "    }\n",
              "\n",
              "    .dataframe tbody tr th {\n",
              "        vertical-align: top;\n",
              "    }\n",
              "\n",
              "    .dataframe thead th {\n",
              "        text-align: right;\n",
              "    }\n",
              "</style>\n",
              "<table border=\"1\" class=\"dataframe\">\n",
              "  <thead>\n",
              "    <tr style=\"text-align: right;\">\n",
              "      <th></th>\n",
              "      <th>n</th>\n",
              "      <th>t</th>\n",
              "    </tr>\n",
              "  </thead>\n",
              "  <tbody>\n",
              "    <tr>\n",
              "      <th>0</th>\n",
              "      <td>3.0</td>\n",
              "      <td>14.00</td>\n",
              "    </tr>\n",
              "    <tr>\n",
              "      <th>1</th>\n",
              "      <td>4.0</td>\n",
              "      <td>22.75</td>\n",
              "    </tr>\n",
              "    <tr>\n",
              "      <th>2</th>\n",
              "      <td>5.0</td>\n",
              "      <td>33.00</td>\n",
              "    </tr>\n",
              "    <tr>\n",
              "      <th>3</th>\n",
              "      <td>6.0</td>\n",
              "      <td>44.75</td>\n",
              "    </tr>\n",
              "  </tbody>\n",
              "</table>\n",
              "</div>"
            ],
            "text/plain": [
              "     n      t\n",
              "0  3.0  14.00\n",
              "1  4.0  22.75\n",
              "2  5.0  33.00\n",
              "3  6.0  44.75"
            ]
          },
          "execution_count": 35,
          "metadata": {},
          "output_type": "execute_result"
        }
      ],
      "source": [
        "# Average case on random uniform permtations with repetitions of  $n$   elements  $t_a(n) = \\frac{3}{4}n^2 + \\frac{7}{2}n -\\frac{13}{4}= \\Theta(n^2) $\n",
        "import numpy as np\n",
        "import pandas as pd\n",
        "import scipy.linalg as la\n",
        "\n",
        "n = np.array([3.0, 4.0, 5.0, 6.0])    # Number n of sorted elments\n",
        "# Average comparisons + swaps for the corresponding n\n",
        "t = np.array([14.0, 22.75, 33.0, 44.75])\n",
        "\n",
        "data = pd.DataFrame({'n': n, 't': t})\n",
        "data\n"
      ]
    },
    {
      "cell_type": "code",
      "execution_count": 36,
      "metadata": {
        "colab": {
          "base_uri": "https://localhost:8080/"
        },
        "id": "Tm7oxC0t-qid",
        "outputId": "1ba5cb49-e552-4bfb-906c-463446dee4f5"
      },
      "outputs": [
        {
          "data": {
            "text/plain": [
              "array([-3.25,  3.5 ,  0.75,  0.  ])"
            ]
          },
          "execution_count": 36,
          "metadata": {},
          "output_type": "execute_result"
        }
      ],
      "source": [
        "X = np.column_stack([n**0, n**1, n**2, n**3])\n",
        "a = la.solve(X, t)\n",
        "a\n"
      ]
    },
    {
      "cell_type": "code",
      "execution_count": 37,
      "metadata": {
        "colab": {
          "base_uri": "https://localhost:8080/",
          "height": 143
        },
        "id": "owW3K50-FWkI",
        "outputId": "8ae99a7a-f0e5-42e2-ddc2-58cb2befb8f0"
      },
      "outputs": [
        {
          "data": {
            "text/html": [
              "<div>\n",
              "<style scoped>\n",
              "    .dataframe tbody tr th:only-of-type {\n",
              "        vertical-align: middle;\n",
              "    }\n",
              "\n",
              "    .dataframe tbody tr th {\n",
              "        vertical-align: top;\n",
              "    }\n",
              "\n",
              "    .dataframe thead th {\n",
              "        text-align: right;\n",
              "    }\n",
              "</style>\n",
              "<table border=\"1\" class=\"dataframe\">\n",
              "  <thead>\n",
              "    <tr style=\"text-align: right;\">\n",
              "      <th></th>\n",
              "      <th>n</th>\n",
              "      <th>t</th>\n",
              "    </tr>\n",
              "  </thead>\n",
              "  <tbody>\n",
              "    <tr>\n",
              "      <th>0</th>\n",
              "      <td>3.0</td>\n",
              "      <td>14.00</td>\n",
              "    </tr>\n",
              "    <tr>\n",
              "      <th>1</th>\n",
              "      <td>4.0</td>\n",
              "      <td>22.75</td>\n",
              "    </tr>\n",
              "    <tr>\n",
              "      <th>2</th>\n",
              "      <td>5.0</td>\n",
              "      <td>33.00</td>\n",
              "    </tr>\n",
              "  </tbody>\n",
              "</table>\n",
              "</div>"
            ],
            "text/plain": [
              "     n      t\n",
              "0  3.0  14.00\n",
              "1  4.0  22.75\n",
              "2  5.0  33.00"
            ]
          },
          "execution_count": 37,
          "metadata": {},
          "output_type": "execute_result"
        }
      ],
      "source": [
        "# Average case on random uniform permtations with repetitions of  $n$   elements  $t_a(n) = \\frac{3}{4}n^2 + \\frac{7}{2}n -\\frac{13}{4}= \\Theta(n^2) $\n",
        "import numpy as np\n",
        "import pandas as pd\n",
        "import scipy.linalg as la\n",
        "\n",
        "n = np.array([3.0, 4.0, 5.0])    # Number n of sorted elments\n",
        "# Average comparisons + swaps for the corresponding n\n",
        "t = np.array([14.0, 22.75, 33.0])\n",
        "\n",
        "data = pd.DataFrame({'n': n, 't': t})\n",
        "data\n"
      ]
    },
    {
      "cell_type": "code",
      "execution_count": 38,
      "metadata": {
        "colab": {
          "base_uri": "https://localhost:8080/"
        },
        "id": "qssCjaWwFaFl",
        "outputId": "e7aa77de-58a4-4d74-99c6-7a662cf9da34"
      },
      "outputs": [
        {
          "data": {
            "text/plain": [
              "array([-3.25,  3.5 ,  0.75])"
            ]
          },
          "execution_count": 38,
          "metadata": {},
          "output_type": "execute_result"
        }
      ],
      "source": [
        "X = np.column_stack([n**0, n**1, n**2])\n",
        "a = la.solve(X, t)\n",
        "a\n"
      ]
    }
  ],
  "metadata": {
    "colab": {
      "authorship_tag": "ABX9TyOFyKzrefSSege0rpUgM+qA",
      "collapsed_sections": [],
      "name": "heapSortTimeComplexityHistograms.ipynb",
      "provenance": []
    },
    "kernelspec": {
      "display_name": "Python 3",
      "name": "python3"
    },
    "language_info": {
      "codemirror_mode": {
        "name": "ipython",
        "version": 3
      },
      "file_extension": ".py",
      "mimetype": "text/x-python",
      "name": "python",
      "nbconvert_exporter": "python",
      "pygments_lexer": "ipython3",
      "version": "3.8.9"
    }
  },
  "nbformat": 4,
  "nbformat_minor": 0
}
